{
  "nbformat": 4,
  "nbformat_minor": 0,
  "metadata": {
    "colab": {
      "provenance": [],
      "toc_visible": true
    },
    "kernelspec": {
      "name": "python3",
      "display_name": "Python 3"
    },
    "language_info": {
      "name": "python"
    }
  },
  "cells": [
    {
      "cell_type": "code",
      "execution_count": null,
      "metadata": {
        "colab": {
          "base_uri": "https://localhost:8080/"
        },
        "id": "d7hrXAtHf3ee",
        "outputId": "1e65fe2a-6b35-46e1-8688-5cfe75568b7b"
      },
      "outputs": [
        {
          "output_type": "stream",
          "name": "stdout",
          "text": [
            "Halo\n"
          ]
        }
      ],
      "source": [
        "print(\"Halo\")"
      ]
    },
    {
      "cell_type": "code",
      "source": [
        "# Code in here\n",
        "...\n",
        "biji_kopi = \"Ethiopian Coffee Beans\"\n",
        "harga_biji = 115_500\n",
        "\n",
        "alat_kopi = \"V60\"\n",
        "harga_alat = 95_500\n",
        "\n",
        "print(f\"Biji Kopi yang diberli oleh James Hoffman adalah {biji_kopi} dengan harga Rp {harga_biji}\")\n",
        "print(f\"Alat yang digunakan oleh James Hoffman adalah {alat_kopi} dengan harga Rp {harga_alat}\")"
      ],
      "metadata": {
        "colab": {
          "base_uri": "https://localhost:8080/"
        },
        "id": "-KowkxmIf6Fp",
        "outputId": "5f3ded11-3551-426b-966b-58f190505edf"
      },
      "execution_count": null,
      "outputs": [
        {
          "output_type": "stream",
          "name": "stdout",
          "text": [
            "Biji Kopi yang diberli oleh James Hoffman adalah Ethiopian Coffee Beans dengan harga Rp 115500\n",
            "Alat yang digunakan oleh James Hoffman adalah V60 dengan harga Rp 95500\n"
          ]
        }
      ]
    },
    {
      "cell_type": "code",
      "source": [
        "numb_1 = \"3.14\"\n",
        "numb_1 = float(numb_1)\n",
        "print(type(numb_1))\n",
        "numb_1 = int(numb_1)\n",
        "print(type(numb_1))"
      ],
      "metadata": {
        "colab": {
          "base_uri": "https://localhost:8080/"
        },
        "id": "VvxVOQK1k1Iu",
        "outputId": "7f57feaa-fb42-4162-c60b-e4e87718ca0d"
      },
      "execution_count": null,
      "outputs": [
        {
          "output_type": "stream",
          "name": "stdout",
          "text": [
            "<class 'float'>\n",
            "<class 'int'>\n"
          ]
        }
      ]
    },
    {
      "cell_type": "code",
      "source": [
        "# Jawab disini\n",
        "\n",
        "# definisikan upah per jam sebagai variabel konstant\n",
        "...\n",
        "UPAH_PER_JAM = 30_000\n",
        "\n",
        "# upah joko\n",
        "# definisikan nama variabel untuk menampung nama karyawan 1 atau Joko\n",
        "...\n",
        "nama_karyawan_1 = \"Joko\"\n",
        "\n",
        "# definisikan variabel untuk menampung jam kerja karyawan 1\n",
        "...\n",
        "jam_kerja_karyawan_1 = 44\n",
        "\n",
        "# hitung upah kotor karyawan 1\n",
        "...\n",
        "upah_kotor_karyawan_1 = jam_kerja_karyawan_1 * UPAH_PER_JAM\n",
        "\n",
        "# tampilkan upah kerja (kotor) karyawan 1\n",
        "...\n",
        "print(f\"Upah kerja (kotor) {nama_karyawan_1} Rp {upah_kotor_karyawan_1}\")\n",
        "\n",
        "# untuk karyawan yang lain, lakukan seperti code di atas\n",
        "\n",
        "# upah Alex\n",
        "...\n",
        "nama_karyawan_2 = \"Alex\"\n",
        "jam_kerja_karyawan_2 = 44\n",
        "upah_kotor_karyawan_2 = jam_kerja_karyawan_2 * UPAH_PER_JAM\n",
        "print(f\"Upah kerja (kotor) {nama_karyawan_2} Rp {upah_kotor_karyawan_2}\")\n",
        "\n",
        "# upah Chandra\n",
        "...\n",
        "\n",
        "# upah Hartono\n",
        "...\n",
        "\n",
        "# upah Samsul\n",
        "...\n"
      ],
      "metadata": {
        "colab": {
          "base_uri": "https://localhost:8080/"
        },
        "id": "XkQVegrmraKm",
        "outputId": "19ed7f4a-b0c5-4814-d4cf-abfdc44b0653"
      },
      "execution_count": null,
      "outputs": [
        {
          "output_type": "stream",
          "name": "stdout",
          "text": [
            "Upah kerja (kotor) Joko Rp 1320000\n",
            "Upah kerja (kotor) Alex Rp 1320000\n"
          ]
        },
        {
          "output_type": "execute_result",
          "data": {
            "text/plain": [
              "Ellipsis"
            ]
          },
          "metadata": {},
          "execution_count": 6
        }
      ]
    },
    {
      "cell_type": "code",
      "source": [
        "word = \"BANGKIT LEBIH CEPAT, PULIH LEBIH KUAT\"\n",
        "word = word.replace(\"BANGKIT\",\"BANG\")\n",
        "word = word.replace(\"PULIH\",\"PUL\")\n",
        "print(word)\n",
        "\n",
        "word = word.replace(\"BANG\",\"PULIH\")\n",
        "print(word)\n",
        "word = word.replace(\"PUL \",\"BANGKIT \")\n",
        "print(word)"
      ],
      "metadata": {
        "colab": {
          "base_uri": "https://localhost:8080/"
        },
        "id": "37Ekxcca2Zxd",
        "outputId": "ff96bdf9-84ef-4892-bfae-5e4041019785"
      },
      "execution_count": null,
      "outputs": [
        {
          "output_type": "stream",
          "name": "stdout",
          "text": [
            "BANG LEBIH CEPAT, PUL LEBIH KUAT\n",
            "PULIH LEBIH CEPAT, PUL LEBIH KUAT\n",
            "PULIH LEBIH CEPAT, BANGKIT LEBIH KUAT\n"
          ]
        }
      ]
    },
    {
      "cell_type": "code",
      "source": [
        "n = int(input())\n",
        "print(*range(1,n+1),sep=\"\")"
      ],
      "metadata": {
        "colab": {
          "base_uri": "https://localhost:8080/"
        },
        "id": "ZLrVRqVyLWsL",
        "outputId": "8b6f782c-f694-4444-e266-3ff36db52071"
      },
      "execution_count": null,
      "outputs": [
        {
          "output_type": "stream",
          "name": "stdout",
          "text": [
            "7\n",
            "1234567\n"
          ]
        }
      ]
    },
    {
      "cell_type": "code",
      "source": [
        "umur = int(input())\n",
        "\n",
        "if umur >=0 and umur <=5:\n",
        "  print('balita')\n",
        "else:\n",
        "  print('kelompok umur lain')"
      ],
      "metadata": {
        "colab": {
          "base_uri": "https://localhost:8080/"
        },
        "id": "QW8QWCNUTYRX",
        "outputId": "98c88e08-e4b3-4caf-cdb9-c0d9b78e9d50"
      },
      "execution_count": null,
      "outputs": [
        {
          "output_type": "stream",
          "name": "stdout",
          "text": [
            "6\n",
            "kelompok umur lain\n"
          ]
        }
      ]
    },
    {
      "cell_type": "markdown",
      "source": [
        "Hasil Belajar dari Pacmann BI Engineer\n",
        "###***Variabel***\n",
        "\n",
        "\n",
        "\n",
        "Variabel adalah tempat untuk menyimpan nilai ataupun data\n",
        "\n",
        "nama_variabel = <nilai>\n",
        "\n",
        "Contoh penamaan variabel yg baik adalah:\n",
        "\n",
        "diameter_lingkaran\n",
        "\n",
        "dan bukan diameter_lingkaran_yang_ini\n",
        "\n",
        "Beberapa hal yg harus diperhatikan dari membuat variabel adalah berikut:\n",
        "\n",
        "\n",
        "\n",
        "1.   Jangan gunakan nama variabel yg terlalu pendek\n",
        "2.   Nama variabel yg tidak mengambarkan isi dari dari variabel\n",
        "3.   Nama variabel yg didahului oleh angka\n",
        "4.   Nama variabel yg diawali dg simbol seperti \"%\" dll\n",
        "5.   Tidak memperhatikan nama variabel sehingga memunculkan pengulangan variabel di penggunaan variabel selanjutnya\n",
        "6.   Sistem penamaan variabel di python menggunakan snack case, yaitu cara penulisan dg mengganti \"Space\" menjadi \"underscore\"\"_\" contoh variabel_satu\n",
        "\n",
        "## Kiat Printing\n",
        "\n",
        "\n",
        "\n"
      ],
      "metadata": {
        "id": "XDAoBeYSzsVq"
      }
    },
    {
      "cell_type": "code",
      "source": [
        "#sistem printing dg menggunakan format baru dan lama\n",
        "#format baru menggunakan perintah %s (untuk string) dan %d (untuk angka)\n",
        "\n",
        "umur = 23\n",
        "nama = \"Budi\"\n",
        "\n",
        "print(\"saya %s dan saya berumur %d tahun\"%(nama,umur))\n",
        "\n",
        "#format baru cukup seperti ini penulisannya\n",
        "\n",
        "print(f\"saya {nama} dan saya berumur {umur} tahun\")"
      ],
      "metadata": {
        "colab": {
          "base_uri": "https://localhost:8080/"
        },
        "id": "VX0duRzXoWF4",
        "outputId": "4141c795-39a6-4238-cd14-07b425c20b6d"
      },
      "execution_count": null,
      "outputs": [
        {
          "output_type": "stream",
          "name": "stdout",
          "text": [
            "saya Budi dan saya berumur 23 tahun\n",
            "saya Budi dan saya berumur 23 tahun\n"
          ]
        }
      ]
    },
    {
      "cell_type": "code",
      "source": [
        "#komen di python ada 2 jenis, yaitu inline (menngunakan tanda tagar \"#\")\n",
        "#dan multi line comment menggunakan tanda\n",
        "\n",
        "\"\"\"\n",
        "ini adalah contoh penggunaaan multi line comment di python\n",
        "biasa digunakan untuk menjelaskan atau menulis deskripsi panjang mengenai\n",
        "codingan yg kita buat, sehingga orang setelah kita dapat memahami\n",
        "codingan kita dengan baik\n",
        "\n",
        "\"\"\"\n"
      ],
      "metadata": {
        "colab": {
          "base_uri": "https://localhost:8080/",
          "height": 70
        },
        "id": "VprFKcsss3aa",
        "outputId": "08ba5d43-7ac1-4c69-b122-121b8e0c2710"
      },
      "execution_count": null,
      "outputs": [
        {
          "output_type": "execute_result",
          "data": {
            "text/plain": [
              "'\\nini adalah contoh penggunaaan multi line comment di python\\nbiasa digunakan untuk menjelaskan atau menulis deskripsi panjang mengenai\\ncodingan yg kita buat, sehingga orang setelah kita dapat memahami\\ncodingan kita dengan baik\\n\\n'"
            ],
            "application/vnd.google.colaboratory.intrinsic+json": {
              "type": "string"
            }
          },
          "metadata": {},
          "execution_count": 5
        }
      ]
    },
    {
      "cell_type": "code",
      "source": [
        "\"\"\"\n",
        "jenis data di python untuk sementara ini ada 3 jenis, yaitu\n",
        "1. string (kalimat, kata atau sesuatu yg bukan bilangan yg bisa dihitung)\n",
        "2. integer (angka bulat yg bisa dihitung)\n",
        "3. float (angka decimal)\n",
        "\"\"\"\n",
        "\n",
        "#penulisannya adalah berikut\n",
        "print(type(6))\n",
        "\n",
        "str = \"apapun sih\" #string\n",
        "int = 5 #integer\n",
        "float = 5.2\n",
        "\n",
        "print(type(str))\n",
        "print(type(int))\n",
        "print(type(float))\n"
      ],
      "metadata": {
        "colab": {
          "base_uri": "https://localhost:8080/"
        },
        "id": "TpFUsobaBVxJ",
        "outputId": "e313cbdb-13b4-4823-ed8b-d4fc3a335496"
      },
      "execution_count": null,
      "outputs": [
        {
          "output_type": "stream",
          "name": "stdout",
          "text": [
            "<class 'int'>\n",
            "<class 'str'>\n",
            "<class 'int'>\n",
            "<class 'float'>\n"
          ]
        }
      ]
    },
    {
      "cell_type": "code",
      "source": [
        "'''\n",
        "operator atau operasi matematika di python ditulis menggunakan simbol berikut:\n",
        "+ = untuk pertambahan\n",
        "- = untuk pengurangan\n",
        "* = untuk perkalian\n",
        "/ = untuk pembagian\n",
        "// = untuk floor devision alias pembagian khusus integer\n",
        "      untuk pembagian dg pembulatan angka ke bawah\n",
        "% = untuk modulo (seperti sisa dari pembagian)\n",
        "      misal 7/3 =2,3 tapi sidanya adalah 1 sehingga jika menggunakan % hasilnya\n",
        "      adalah 7%3 = 1\n",
        "** = untuk pangkat\n",
        "\n",
        "'''\n",
        "\n",
        "print(7%3)"
      ],
      "metadata": {
        "colab": {
          "base_uri": "https://localhost:8080/"
        },
        "id": "WsLvdJwdFCtl",
        "outputId": "7b539244-4791-47b8-c252-694672efff72"
      },
      "execution_count": null,
      "outputs": [
        {
          "output_type": "stream",
          "name": "stdout",
          "text": [
            "1\n"
          ]
        }
      ]
    },
    {
      "cell_type": "code",
      "source": [
        "'''\n",
        "Urutan pemrosesan pengerjaan matematika di python adalah berikut:\n",
        "PEMDAS:\n",
        "P = Parentheses ~ tanda kurung ()\n",
        "E = Exponensial ~ pangkat **\n",
        "M = Multiplication, Division ~ * | / | // | %\n",
        "DAS = Addition, Subraction ~ + -\n",
        "'''\n",
        "#contoh\n",
        "print(2+2**(4%2))\n",
        "\n",
        "'''\n",
        "sebagaimana contoh di atas, kita bisa lihat bahwa yg dahulu dikerjakan adalah\n",
        "yg ada dalam urutan PEMDAS\n",
        "'''"
      ],
      "metadata": {
        "id": "X6Sc9KoXN7X4",
        "colab": {
          "base_uri": "https://localhost:8080/"
        },
        "outputId": "b54dc740-628c-4eb7-a795-77fad3a2112b"
      },
      "execution_count": null,
      "outputs": [
        {
          "output_type": "stream",
          "name": "stdout",
          "text": [
            "3\n"
          ]
        }
      ]
    },
    {
      "cell_type": "code",
      "source": [
        "'''\n",
        "String Operator\n",
        "string di python juga menggenal proses operasi layaknya integer yg ada PEMDAS\n",
        "\n",
        "Operasi String python adalah berikut:\n",
        "\n",
        "contoh:\n",
        "'''\n",
        "string1 = 'data'\n",
        "string2 = 'science'\n",
        "\n",
        "CONCATENATION = string1 + string2\n",
        "print(f\"berikut adalah contoh concatenation '{CONCATENATION}' \")\n",
        "\n",
        "REPETITION = string1 + string2 *2\n",
        "print(f\"berikut adalah contoh repetition '{REPETITION}' \")\n",
        "\n",
        "SLICING = (string1 + string2)[0:7]\n",
        "# string[start:stop]\n",
        "print(f\"berikut adalah contoh slicing '{SLICING}' \")\n"
      ],
      "metadata": {
        "colab": {
          "base_uri": "https://localhost:8080/"
        },
        "id": "Pxvj099sbWm0",
        "outputId": "a57272d1-9656-4aa1-e358-2e584e704165"
      },
      "execution_count": null,
      "outputs": [
        {
          "output_type": "stream",
          "name": "stdout",
          "text": [
            "berikut adalah contoh concatenation 'datascience' \n",
            "berikut adalah contoh repetition 'datasciencescience' \n",
            "berikut adalah contoh slicing 'datasci' \n"
          ]
        }
      ]
    },
    {
      "cell_type": "code",
      "source": [
        "# String pada python juga mengenal list (urutan huruf dalam string)\n",
        "# penulisannya adalah:\n",
        "print('string'[1])\n",
        "\n",
        "#dihitung mulai dari angka \"0\" sebagai urutan pertama\n",
        "# hasil diatas adalah huruf ke-(sesuai angka yg dimasukan dari kata string)\n",
        "\n",
        "aku =\"firefox\"\n",
        "print(aku[3])\n",
        "print(aku[1:]) #ambil semua huruf sebanyak angka dari depan [3:]\n",
        "print(aku[:3]) #ambil semua huruf sebanyak angka dari belakang [:3]\n",
        "print(aku[-1]) # hitung -1 nya dari paling belakang"
      ],
      "metadata": {
        "colab": {
          "base_uri": "https://localhost:8080/"
        },
        "id": "d5H2pc1QdoGu",
        "outputId": "a54e6b1b-8ff2-4c38-ce61-0cdc9cb1ba68"
      },
      "execution_count": null,
      "outputs": [
        {
          "output_type": "stream",
          "name": "stdout",
          "text": [
            "t\n",
            "e\n",
            "irefox\n",
            "fir\n",
            "x\n"
          ]
        }
      ]
    },
    {
      "cell_type": "markdown",
      "source": [
        "### Boolean\n"
      ],
      "metadata": {
        "id": "fwFJ-a1Eb3La"
      }
    },
    {
      "cell_type": "code",
      "source": [
        "'''\n",
        "!= artinya tidak sama dengan\n",
        "== artinya sama dengan\n",
        "\n",
        "> lebih besar dari\n",
        "< lebih kecil dari\n",
        "> = lebih dari / sama dengan\n",
        "< = kurang dari / sama dengan\n",
        "'''\n",
        "nama_produk = \"johan\"\n",
        "nama_penerima = \"johan\"\n",
        "\n",
        "print(nama_produk == nama_penerima)\n",
        "print(nama_produk != nama_penerima)\n",
        "\n",
        "'''\n",
        "Jika melakukan comparing antar string maka yg diukur adalah banyak karakter\n",
        "'''\n",
        "judul_film1 = \"bersama angin\"\n",
        "judul_film2 = \"bersama awan\"\n",
        "\n",
        "print(judul_film1 > judul_film2)\n"
      ],
      "metadata": {
        "colab": {
          "base_uri": "https://localhost:8080/"
        },
        "id": "IPTIiThvboAr",
        "outputId": "e67f4b80-ff78-43ca-8356-15ba80646a1b"
      },
      "execution_count": null,
      "outputs": [
        {
          "output_type": "stream",
          "name": "stdout",
          "text": [
            "True\n",
            "False\n",
            "False\n"
          ]
        }
      ]
    },
    {
      "cell_type": "markdown",
      "source": [
        "Boolean logic sederhana untuk memprosesnya adalah berikut:\n",
        "* AND\n",
        "* OR\n",
        "* NOT\n",
        "\n",
        "### AND\n",
        "True AND True = True\n",
        "True AND False = False\n",
        "False AND True = False\n",
        "\n",
        "### OR\n",
        "\n",
        "True OR True = True\n",
        "False OR True = True\n",
        "False OR False = False\n",
        "\n",
        "### NOT\n",
        "adalah negasi (penyangkalan) dari nilai sebelumnya. Penyangkalan adalah peniadaan dari suatu pernyataan.\n",
        "\n",
        "Jika sebelumnya **TRUE** maka hasilnya jadi **FALSE** dan sebaliknya\n",
        "\n",
        "Umumnya **NOT** digunakan berbarengan dengan AND dan OR"
      ],
      "metadata": {
        "id": "cxTBplV_b42m"
      }
    },
    {
      "cell_type": "markdown",
      "source": [
        "\n",
        "\n",
        "---\n",
        "\n",
        "Uurtan operasi logika python adalah berikut:\n",
        "\n",
        "\n",
        "1.   Parentheses () dalam kurung\n",
        "2.   Exponents ** pangkat\n",
        "3.   Multiplication *, Division /, //, %\n",
        "4.   Addition +, Subraction -\n",
        "5.   Comparison and equalitiy <,>,=,==,!=\n",
        "6.   Not\n",
        "7.   And\n",
        "8.   Or\n"
      ],
      "metadata": {
        "id": "pRKcWgGOrgCV"
      }
    },
    {
      "cell_type": "code",
      "source": [
        "3%2"
      ],
      "metadata": {
        "id": "TA35jSAJfFrt",
        "colab": {
          "base_uri": "https://localhost:8080/"
        },
        "outputId": "46ff14c5-d98c-47ee-d4a2-795662a181c8"
      },
      "execution_count": null,
      "outputs": [
        {
          "output_type": "execute_result",
          "data": {
            "text/plain": [
              "1"
            ]
          },
          "metadata": {},
          "execution_count": 6
        }
      ]
    },
    {
      "cell_type": "markdown",
      "source": [
        "# Coba\n",
        "\n",
        "\n",
        "---\n",
        "\n"
      ],
      "metadata": {
        "id": "MEXWJqoPOr-e"
      }
    },
    {
      "cell_type": "code",
      "source": [
        "# load an example dataset\n",
        "from vega_datasets import data\n",
        "cars = data.cars()\n",
        "\n",
        "import altair as alt\n",
        "\n",
        "interval = alt.selection_interval()\n",
        "\n",
        "points = alt.Chart(cars).mark_point().encode(\n",
        "  x='Horsepower',\n",
        "  y='Miles_per_Gallon',\n",
        "  color=alt.condition(interval, 'Origin', alt.value('lightgray'))\n",
        ").properties(\n",
        "  selection=interval\n",
        ")\n",
        "\n",
        "histogram = alt.Chart(cars).mark_bar().encode(\n",
        "  x='count()',\n",
        "  y='Origin',\n",
        "  color='Origin'\n",
        ").transform_filter(interval)\n",
        "\n",
        "points & histogram"
      ],
      "metadata": {
        "colab": {
          "base_uri": "https://localhost:8080/",
          "height": 484
        },
        "id": "cdMQFRx0KzRO",
        "outputId": "79478c56-adcd-4a6b-a16b-173af536d768"
      },
      "execution_count": null,
      "outputs": [
        {
          "output_type": "execute_result",
          "data": {
            "text/html": [
              "\n",
              "<div id=\"altair-viz-ca3acdb711124926b0921779ab9304de\"></div>\n",
              "<script type=\"text/javascript\">\n",
              "  var VEGA_DEBUG = (typeof VEGA_DEBUG == \"undefined\") ? {} : VEGA_DEBUG;\n",
              "  (function(spec, embedOpt){\n",
              "    let outputDiv = document.currentScript.previousElementSibling;\n",
              "    if (outputDiv.id !== \"altair-viz-ca3acdb711124926b0921779ab9304de\") {\n",
              "      outputDiv = document.getElementById(\"altair-viz-ca3acdb711124926b0921779ab9304de\");\n",
              "    }\n",
              "    const paths = {\n",
              "      \"vega\": \"https://cdn.jsdelivr.net/npm//vega@5?noext\",\n",
              "      \"vega-lib\": \"https://cdn.jsdelivr.net/npm//vega-lib?noext\",\n",
              "      \"vega-lite\": \"https://cdn.jsdelivr.net/npm//vega-lite@4.17.0?noext\",\n",
              "      \"vega-embed\": \"https://cdn.jsdelivr.net/npm//vega-embed@6?noext\",\n",
              "    };\n",
              "\n",
              "    function maybeLoadScript(lib, version) {\n",
              "      var key = `${lib.replace(\"-\", \"\")}_version`;\n",
              "      return (VEGA_DEBUG[key] == version) ?\n",
              "        Promise.resolve(paths[lib]) :\n",
              "        new Promise(function(resolve, reject) {\n",
              "          var s = document.createElement('script');\n",
              "          document.getElementsByTagName(\"head\")[0].appendChild(s);\n",
              "          s.async = true;\n",
              "          s.onload = () => {\n",
              "            VEGA_DEBUG[key] = version;\n",
              "            return resolve(paths[lib]);\n",
              "          };\n",
              "          s.onerror = () => reject(`Error loading script: ${paths[lib]}`);\n",
              "          s.src = paths[lib];\n",
              "        });\n",
              "    }\n",
              "\n",
              "    function showError(err) {\n",
              "      outputDiv.innerHTML = `<div class=\"error\" style=\"color:red;\">${err}</div>`;\n",
              "      throw err;\n",
              "    }\n",
              "\n",
              "    function displayChart(vegaEmbed) {\n",
              "      vegaEmbed(outputDiv, spec, embedOpt)\n",
              "        .catch(err => showError(`Javascript Error: ${err.message}<br>This usually means there's a typo in your chart specification. See the javascript console for the full traceback.`));\n",
              "    }\n",
              "\n",
              "    if(typeof define === \"function\" && define.amd) {\n",
              "      requirejs.config({paths});\n",
              "      require([\"vega-embed\"], displayChart, err => showError(`Error loading script: ${err.message}`));\n",
              "    } else {\n",
              "      maybeLoadScript(\"vega\", \"5\")\n",
              "        .then(() => maybeLoadScript(\"vega-lite\", \"4.17.0\"))\n",
              "        .then(() => maybeLoadScript(\"vega-embed\", \"6\"))\n",
              "        .catch(showError)\n",
              "        .then(() => displayChart(vegaEmbed));\n",
              "    }\n",
              "  })({\"config\": {\"view\": {\"continuousWidth\": 400, \"continuousHeight\": 300}}, \"vconcat\": [{\"mark\": \"point\", \"encoding\": {\"color\": {\"condition\": {\"field\": \"Origin\", \"type\": \"nominal\", \"selection\": \"selector001\"}, \"value\": \"lightgray\"}, \"x\": {\"field\": \"Horsepower\", \"type\": \"quantitative\"}, \"y\": {\"field\": \"Miles_per_Gallon\", \"type\": \"quantitative\"}}, \"selection\": {\"selector001\": {\"type\": \"interval\"}}}, {\"mark\": \"bar\", \"encoding\": {\"color\": {\"field\": \"Origin\", \"type\": \"nominal\"}, \"x\": {\"aggregate\": \"count\", \"type\": \"quantitative\"}, \"y\": {\"field\": \"Origin\", \"type\": \"nominal\"}}, \"transform\": [{\"filter\": {\"selection\": \"selector001\"}}]}], \"data\": {\"name\": \"data-f02450ab61490a1363517a0190416235\"}, \"$schema\": \"https://vega.github.io/schema/vega-lite/v4.17.0.json\", \"datasets\": {\"data-f02450ab61490a1363517a0190416235\": [{\"Name\": \"chevrolet chevelle malibu\", \"Miles_per_Gallon\": 18.0, \"Cylinders\": 8, \"Displacement\": 307.0, \"Horsepower\": 130.0, \"Weight_in_lbs\": 3504, \"Acceleration\": 12.0, \"Year\": \"1970-01-01T00:00:00\", \"Origin\": \"USA\"}, {\"Name\": \"buick skylark 320\", \"Miles_per_Gallon\": 15.0, \"Cylinders\": 8, \"Displacement\": 350.0, \"Horsepower\": 165.0, \"Weight_in_lbs\": 3693, \"Acceleration\": 11.5, \"Year\": \"1970-01-01T00:00:00\", \"Origin\": \"USA\"}, {\"Name\": \"plymouth satellite\", \"Miles_per_Gallon\": 18.0, \"Cylinders\": 8, \"Displacement\": 318.0, \"Horsepower\": 150.0, \"Weight_in_lbs\": 3436, \"Acceleration\": 11.0, \"Year\": \"1970-01-01T00:00:00\", \"Origin\": \"USA\"}, {\"Name\": \"amc rebel sst\", \"Miles_per_Gallon\": 16.0, \"Cylinders\": 8, \"Displacement\": 304.0, \"Horsepower\": 150.0, \"Weight_in_lbs\": 3433, \"Acceleration\": 12.0, \"Year\": \"1970-01-01T00:00:00\", \"Origin\": \"USA\"}, {\"Name\": \"ford torino\", \"Miles_per_Gallon\": 17.0, \"Cylinders\": 8, \"Displacement\": 302.0, \"Horsepower\": 140.0, \"Weight_in_lbs\": 3449, \"Acceleration\": 10.5, \"Year\": \"1970-01-01T00:00:00\", \"Origin\": \"USA\"}, {\"Name\": \"ford galaxie 500\", \"Miles_per_Gallon\": 15.0, \"Cylinders\": 8, \"Displacement\": 429.0, \"Horsepower\": 198.0, \"Weight_in_lbs\": 4341, \"Acceleration\": 10.0, \"Year\": \"1970-01-01T00:00:00\", \"Origin\": \"USA\"}, {\"Name\": \"chevrolet impala\", \"Miles_per_Gallon\": 14.0, \"Cylinders\": 8, \"Displacement\": 454.0, \"Horsepower\": 220.0, \"Weight_in_lbs\": 4354, \"Acceleration\": 9.0, \"Year\": \"1970-01-01T00:00:00\", \"Origin\": \"USA\"}, {\"Name\": \"plymouth fury iii\", \"Miles_per_Gallon\": 14.0, \"Cylinders\": 8, \"Displacement\": 440.0, \"Horsepower\": 215.0, \"Weight_in_lbs\": 4312, \"Acceleration\": 8.5, \"Year\": \"1970-01-01T00:00:00\", \"Origin\": \"USA\"}, {\"Name\": \"pontiac catalina\", \"Miles_per_Gallon\": 14.0, \"Cylinders\": 8, \"Displacement\": 455.0, \"Horsepower\": 225.0, \"Weight_in_lbs\": 4425, \"Acceleration\": 10.0, \"Year\": \"1970-01-01T00:00:00\", \"Origin\": \"USA\"}, {\"Name\": \"amc ambassador dpl\", \"Miles_per_Gallon\": 15.0, \"Cylinders\": 8, \"Displacement\": 390.0, \"Horsepower\": 190.0, \"Weight_in_lbs\": 3850, \"Acceleration\": 8.5, \"Year\": \"1970-01-01T00:00:00\", \"Origin\": \"USA\"}, {\"Name\": \"citroen ds-21 pallas\", \"Miles_per_Gallon\": null, \"Cylinders\": 4, \"Displacement\": 133.0, \"Horsepower\": 115.0, \"Weight_in_lbs\": 3090, \"Acceleration\": 17.5, \"Year\": \"1970-01-01T00:00:00\", \"Origin\": \"Europe\"}, {\"Name\": \"chevrolet chevelle concours (sw)\", \"Miles_per_Gallon\": null, \"Cylinders\": 8, \"Displacement\": 350.0, \"Horsepower\": 165.0, \"Weight_in_lbs\": 4142, \"Acceleration\": 11.5, \"Year\": \"1970-01-01T00:00:00\", \"Origin\": \"USA\"}, {\"Name\": \"ford torino (sw)\", \"Miles_per_Gallon\": null, \"Cylinders\": 8, \"Displacement\": 351.0, \"Horsepower\": 153.0, \"Weight_in_lbs\": 4034, \"Acceleration\": 11.0, \"Year\": \"1970-01-01T00:00:00\", \"Origin\": \"USA\"}, {\"Name\": \"plymouth satellite (sw)\", \"Miles_per_Gallon\": null, \"Cylinders\": 8, \"Displacement\": 383.0, \"Horsepower\": 175.0, \"Weight_in_lbs\": 4166, \"Acceleration\": 10.5, \"Year\": \"1970-01-01T00:00:00\", \"Origin\": \"USA\"}, {\"Name\": \"amc rebel sst (sw)\", \"Miles_per_Gallon\": null, \"Cylinders\": 8, \"Displacement\": 360.0, \"Horsepower\": 175.0, \"Weight_in_lbs\": 3850, \"Acceleration\": 11.0, \"Year\": \"1970-01-01T00:00:00\", \"Origin\": \"USA\"}, {\"Name\": \"dodge challenger se\", \"Miles_per_Gallon\": 15.0, \"Cylinders\": 8, \"Displacement\": 383.0, \"Horsepower\": 170.0, \"Weight_in_lbs\": 3563, \"Acceleration\": 10.0, \"Year\": \"1970-01-01T00:00:00\", \"Origin\": \"USA\"}, {\"Name\": \"plymouth 'cuda 340\", \"Miles_per_Gallon\": 14.0, \"Cylinders\": 8, \"Displacement\": 340.0, \"Horsepower\": 160.0, \"Weight_in_lbs\": 3609, \"Acceleration\": 8.0, \"Year\": \"1970-01-01T00:00:00\", \"Origin\": \"USA\"}, {\"Name\": \"ford mustang boss 302\", \"Miles_per_Gallon\": null, \"Cylinders\": 8, \"Displacement\": 302.0, \"Horsepower\": 140.0, \"Weight_in_lbs\": 3353, \"Acceleration\": 8.0, \"Year\": \"1970-01-01T00:00:00\", \"Origin\": \"USA\"}, {\"Name\": \"chevrolet monte carlo\", \"Miles_per_Gallon\": 15.0, \"Cylinders\": 8, \"Displacement\": 400.0, \"Horsepower\": 150.0, \"Weight_in_lbs\": 3761, \"Acceleration\": 9.5, \"Year\": \"1970-01-01T00:00:00\", \"Origin\": \"USA\"}, {\"Name\": \"buick estate wagon (sw)\", \"Miles_per_Gallon\": 14.0, \"Cylinders\": 8, \"Displacement\": 455.0, \"Horsepower\": 225.0, \"Weight_in_lbs\": 3086, \"Acceleration\": 10.0, \"Year\": \"1970-01-01T00:00:00\", \"Origin\": \"USA\"}, {\"Name\": \"toyota corona mark ii\", \"Miles_per_Gallon\": 24.0, \"Cylinders\": 4, \"Displacement\": 113.0, \"Horsepower\": 95.0, \"Weight_in_lbs\": 2372, \"Acceleration\": 15.0, \"Year\": \"1970-01-01T00:00:00\", \"Origin\": \"Japan\"}, {\"Name\": \"plymouth duster\", \"Miles_per_Gallon\": 22.0, \"Cylinders\": 6, \"Displacement\": 198.0, \"Horsepower\": 95.0, \"Weight_in_lbs\": 2833, \"Acceleration\": 15.5, \"Year\": \"1970-01-01T00:00:00\", \"Origin\": \"USA\"}, {\"Name\": \"amc hornet\", \"Miles_per_Gallon\": 18.0, \"Cylinders\": 6, \"Displacement\": 199.0, \"Horsepower\": 97.0, \"Weight_in_lbs\": 2774, \"Acceleration\": 15.5, \"Year\": \"1970-01-01T00:00:00\", \"Origin\": \"USA\"}, {\"Name\": \"ford maverick\", \"Miles_per_Gallon\": 21.0, \"Cylinders\": 6, \"Displacement\": 200.0, \"Horsepower\": 85.0, \"Weight_in_lbs\": 2587, \"Acceleration\": 16.0, \"Year\": \"1970-01-01T00:00:00\", \"Origin\": \"USA\"}, {\"Name\": \"datsun pl510\", \"Miles_per_Gallon\": 27.0, \"Cylinders\": 4, \"Displacement\": 97.0, \"Horsepower\": 88.0, \"Weight_in_lbs\": 2130, \"Acceleration\": 14.5, \"Year\": \"1970-01-01T00:00:00\", \"Origin\": \"Japan\"}, {\"Name\": \"volkswagen 1131 deluxe sedan\", \"Miles_per_Gallon\": 26.0, \"Cylinders\": 4, \"Displacement\": 97.0, \"Horsepower\": 46.0, \"Weight_in_lbs\": 1835, \"Acceleration\": 20.5, \"Year\": \"1970-01-01T00:00:00\", \"Origin\": \"Europe\"}, {\"Name\": \"peugeot 504\", \"Miles_per_Gallon\": 25.0, \"Cylinders\": 4, \"Displacement\": 110.0, \"Horsepower\": 87.0, \"Weight_in_lbs\": 2672, \"Acceleration\": 17.5, \"Year\": \"1970-01-01T00:00:00\", \"Origin\": \"Europe\"}, {\"Name\": \"audi 100 ls\", \"Miles_per_Gallon\": 24.0, \"Cylinders\": 4, \"Displacement\": 107.0, \"Horsepower\": 90.0, \"Weight_in_lbs\": 2430, \"Acceleration\": 14.5, \"Year\": \"1970-01-01T00:00:00\", \"Origin\": \"Europe\"}, {\"Name\": \"saab 99e\", \"Miles_per_Gallon\": 25.0, \"Cylinders\": 4, \"Displacement\": 104.0, \"Horsepower\": 95.0, \"Weight_in_lbs\": 2375, \"Acceleration\": 17.5, \"Year\": \"1970-01-01T00:00:00\", \"Origin\": \"Europe\"}, {\"Name\": \"bmw 2002\", \"Miles_per_Gallon\": 26.0, \"Cylinders\": 4, \"Displacement\": 121.0, \"Horsepower\": 113.0, \"Weight_in_lbs\": 2234, \"Acceleration\": 12.5, \"Year\": \"1970-01-01T00:00:00\", \"Origin\": \"Europe\"}, {\"Name\": \"amc gremlin\", \"Miles_per_Gallon\": 21.0, \"Cylinders\": 6, \"Displacement\": 199.0, \"Horsepower\": 90.0, \"Weight_in_lbs\": 2648, \"Acceleration\": 15.0, \"Year\": \"1970-01-01T00:00:00\", \"Origin\": \"USA\"}, {\"Name\": \"ford f250\", \"Miles_per_Gallon\": 10.0, \"Cylinders\": 8, \"Displacement\": 360.0, \"Horsepower\": 215.0, \"Weight_in_lbs\": 4615, \"Acceleration\": 14.0, \"Year\": \"1970-01-01T00:00:00\", \"Origin\": \"USA\"}, {\"Name\": \"chevy c20\", \"Miles_per_Gallon\": 10.0, \"Cylinders\": 8, \"Displacement\": 307.0, \"Horsepower\": 200.0, \"Weight_in_lbs\": 4376, \"Acceleration\": 15.0, \"Year\": \"1970-01-01T00:00:00\", \"Origin\": \"USA\"}, {\"Name\": \"dodge d200\", \"Miles_per_Gallon\": 11.0, \"Cylinders\": 8, \"Displacement\": 318.0, \"Horsepower\": 210.0, \"Weight_in_lbs\": 4382, \"Acceleration\": 13.5, \"Year\": \"1970-01-01T00:00:00\", \"Origin\": \"USA\"}, {\"Name\": \"hi 1200d\", \"Miles_per_Gallon\": 9.0, \"Cylinders\": 8, \"Displacement\": 304.0, \"Horsepower\": 193.0, \"Weight_in_lbs\": 4732, \"Acceleration\": 18.5, \"Year\": \"1970-01-01T00:00:00\", \"Origin\": \"USA\"}, {\"Name\": \"datsun pl510\", \"Miles_per_Gallon\": 27.0, \"Cylinders\": 4, \"Displacement\": 97.0, \"Horsepower\": 88.0, \"Weight_in_lbs\": 2130, \"Acceleration\": 14.5, \"Year\": \"1971-01-01T00:00:00\", \"Origin\": \"Japan\"}, {\"Name\": \"chevrolet vega 2300\", \"Miles_per_Gallon\": 28.0, \"Cylinders\": 4, \"Displacement\": 140.0, \"Horsepower\": 90.0, \"Weight_in_lbs\": 2264, \"Acceleration\": 15.5, \"Year\": \"1971-01-01T00:00:00\", \"Origin\": \"USA\"}, {\"Name\": \"toyota corona\", \"Miles_per_Gallon\": 25.0, \"Cylinders\": 4, \"Displacement\": 113.0, \"Horsepower\": 95.0, \"Weight_in_lbs\": 2228, \"Acceleration\": 14.0, \"Year\": \"1971-01-01T00:00:00\", \"Origin\": \"Japan\"}, {\"Name\": \"ford pinto\", \"Miles_per_Gallon\": 25.0, \"Cylinders\": 4, \"Displacement\": 98.0, \"Horsepower\": null, \"Weight_in_lbs\": 2046, \"Acceleration\": 19.0, \"Year\": \"1971-01-01T00:00:00\", \"Origin\": \"USA\"}, {\"Name\": \"volkswagen super beetle 117\", \"Miles_per_Gallon\": null, \"Cylinders\": 4, \"Displacement\": 97.0, \"Horsepower\": 48.0, \"Weight_in_lbs\": 1978, \"Acceleration\": 20.0, \"Year\": \"1971-01-01T00:00:00\", \"Origin\": \"Europe\"}, {\"Name\": \"amc gremlin\", \"Miles_per_Gallon\": 19.0, \"Cylinders\": 6, \"Displacement\": 232.0, \"Horsepower\": 100.0, \"Weight_in_lbs\": 2634, \"Acceleration\": 13.0, \"Year\": \"1971-01-01T00:00:00\", \"Origin\": \"USA\"}, {\"Name\": \"plymouth satellite custom\", \"Miles_per_Gallon\": 16.0, \"Cylinders\": 6, \"Displacement\": 225.0, \"Horsepower\": 105.0, \"Weight_in_lbs\": 3439, \"Acceleration\": 15.5, \"Year\": \"1971-01-01T00:00:00\", \"Origin\": \"USA\"}, {\"Name\": \"chevrolet chevelle malibu\", \"Miles_per_Gallon\": 17.0, \"Cylinders\": 6, \"Displacement\": 250.0, \"Horsepower\": 100.0, \"Weight_in_lbs\": 3329, \"Acceleration\": 15.5, \"Year\": \"1971-01-01T00:00:00\", \"Origin\": \"USA\"}, {\"Name\": \"ford torino 500\", \"Miles_per_Gallon\": 19.0, \"Cylinders\": 6, \"Displacement\": 250.0, \"Horsepower\": 88.0, \"Weight_in_lbs\": 3302, \"Acceleration\": 15.5, \"Year\": \"1971-01-01T00:00:00\", \"Origin\": \"USA\"}, {\"Name\": \"amc matador\", \"Miles_per_Gallon\": 18.0, \"Cylinders\": 6, \"Displacement\": 232.0, \"Horsepower\": 100.0, \"Weight_in_lbs\": 3288, \"Acceleration\": 15.5, \"Year\": \"1971-01-01T00:00:00\", \"Origin\": \"USA\"}, {\"Name\": \"chevrolet impala\", \"Miles_per_Gallon\": 14.0, \"Cylinders\": 8, \"Displacement\": 350.0, \"Horsepower\": 165.0, \"Weight_in_lbs\": 4209, \"Acceleration\": 12.0, \"Year\": \"1971-01-01T00:00:00\", \"Origin\": \"USA\"}, {\"Name\": \"pontiac catalina brougham\", \"Miles_per_Gallon\": 14.0, \"Cylinders\": 8, \"Displacement\": 400.0, \"Horsepower\": 175.0, \"Weight_in_lbs\": 4464, \"Acceleration\": 11.5, \"Year\": \"1971-01-01T00:00:00\", \"Origin\": \"USA\"}, {\"Name\": \"ford galaxie 500\", \"Miles_per_Gallon\": 14.0, \"Cylinders\": 8, \"Displacement\": 351.0, \"Horsepower\": 153.0, \"Weight_in_lbs\": 4154, \"Acceleration\": 13.5, \"Year\": \"1971-01-01T00:00:00\", \"Origin\": \"USA\"}, {\"Name\": \"plymouth fury iii\", \"Miles_per_Gallon\": 14.0, \"Cylinders\": 8, \"Displacement\": 318.0, \"Horsepower\": 150.0, \"Weight_in_lbs\": 4096, \"Acceleration\": 13.0, \"Year\": \"1971-01-01T00:00:00\", \"Origin\": \"USA\"}, {\"Name\": \"dodge monaco (sw)\", \"Miles_per_Gallon\": 12.0, \"Cylinders\": 8, \"Displacement\": 383.0, \"Horsepower\": 180.0, \"Weight_in_lbs\": 4955, \"Acceleration\": 11.5, \"Year\": \"1971-01-01T00:00:00\", \"Origin\": \"USA\"}, {\"Name\": \"ford country squire (sw)\", \"Miles_per_Gallon\": 13.0, \"Cylinders\": 8, \"Displacement\": 400.0, \"Horsepower\": 170.0, \"Weight_in_lbs\": 4746, \"Acceleration\": 12.0, \"Year\": \"1971-01-01T00:00:00\", \"Origin\": \"USA\"}, {\"Name\": \"pontiac safari (sw)\", \"Miles_per_Gallon\": 13.0, \"Cylinders\": 8, \"Displacement\": 400.0, \"Horsepower\": 175.0, \"Weight_in_lbs\": 5140, \"Acceleration\": 12.0, \"Year\": \"1971-01-01T00:00:00\", \"Origin\": \"USA\"}, {\"Name\": \"amc hornet sportabout (sw)\", \"Miles_per_Gallon\": 18.0, \"Cylinders\": 6, \"Displacement\": 258.0, \"Horsepower\": 110.0, \"Weight_in_lbs\": 2962, \"Acceleration\": 13.5, \"Year\": \"1971-01-01T00:00:00\", \"Origin\": \"USA\"}, {\"Name\": \"chevrolet vega (sw)\", \"Miles_per_Gallon\": 22.0, \"Cylinders\": 4, \"Displacement\": 140.0, \"Horsepower\": 72.0, \"Weight_in_lbs\": 2408, \"Acceleration\": 19.0, \"Year\": \"1971-01-01T00:00:00\", \"Origin\": \"USA\"}, {\"Name\": \"pontiac firebird\", \"Miles_per_Gallon\": 19.0, \"Cylinders\": 6, \"Displacement\": 250.0, \"Horsepower\": 100.0, \"Weight_in_lbs\": 3282, \"Acceleration\": 15.0, \"Year\": \"1971-01-01T00:00:00\", \"Origin\": \"USA\"}, {\"Name\": \"ford mustang\", \"Miles_per_Gallon\": 18.0, \"Cylinders\": 6, \"Displacement\": 250.0, \"Horsepower\": 88.0, \"Weight_in_lbs\": 3139, \"Acceleration\": 14.5, \"Year\": \"1971-01-01T00:00:00\", \"Origin\": \"USA\"}, {\"Name\": \"mercury capri 2000\", \"Miles_per_Gallon\": 23.0, \"Cylinders\": 4, \"Displacement\": 122.0, \"Horsepower\": 86.0, \"Weight_in_lbs\": 2220, \"Acceleration\": 14.0, \"Year\": \"1971-01-01T00:00:00\", \"Origin\": \"USA\"}, {\"Name\": \"opel 1900\", \"Miles_per_Gallon\": 28.0, \"Cylinders\": 4, \"Displacement\": 116.0, \"Horsepower\": 90.0, \"Weight_in_lbs\": 2123, \"Acceleration\": 14.0, \"Year\": \"1971-01-01T00:00:00\", \"Origin\": \"Europe\"}, {\"Name\": \"peugeot 304\", \"Miles_per_Gallon\": 30.0, \"Cylinders\": 4, \"Displacement\": 79.0, \"Horsepower\": 70.0, \"Weight_in_lbs\": 2074, \"Acceleration\": 19.5, \"Year\": \"1971-01-01T00:00:00\", \"Origin\": \"Europe\"}, {\"Name\": \"fiat 124b\", \"Miles_per_Gallon\": 30.0, \"Cylinders\": 4, \"Displacement\": 88.0, \"Horsepower\": 76.0, \"Weight_in_lbs\": 2065, \"Acceleration\": 14.5, \"Year\": \"1971-01-01T00:00:00\", \"Origin\": \"Europe\"}, {\"Name\": \"toyota corolla 1200\", \"Miles_per_Gallon\": 31.0, \"Cylinders\": 4, \"Displacement\": 71.0, \"Horsepower\": 65.0, \"Weight_in_lbs\": 1773, \"Acceleration\": 19.0, \"Year\": \"1971-01-01T00:00:00\", \"Origin\": \"Japan\"}, {\"Name\": \"datsun 1200\", \"Miles_per_Gallon\": 35.0, \"Cylinders\": 4, \"Displacement\": 72.0, \"Horsepower\": 69.0, \"Weight_in_lbs\": 1613, \"Acceleration\": 18.0, \"Year\": \"1971-01-01T00:00:00\", \"Origin\": \"Japan\"}, {\"Name\": \"volkswagen model 111\", \"Miles_per_Gallon\": 27.0, \"Cylinders\": 4, \"Displacement\": 97.0, \"Horsepower\": 60.0, \"Weight_in_lbs\": 1834, \"Acceleration\": 19.0, \"Year\": \"1971-01-01T00:00:00\", \"Origin\": \"Europe\"}, {\"Name\": \"plymouth cricket\", \"Miles_per_Gallon\": 26.0, \"Cylinders\": 4, \"Displacement\": 91.0, \"Horsepower\": 70.0, \"Weight_in_lbs\": 1955, \"Acceleration\": 20.5, \"Year\": \"1971-01-01T00:00:00\", \"Origin\": \"USA\"}, {\"Name\": \"toyota corona hardtop\", \"Miles_per_Gallon\": 24.0, \"Cylinders\": 4, \"Displacement\": 113.0, \"Horsepower\": 95.0, \"Weight_in_lbs\": 2278, \"Acceleration\": 15.5, \"Year\": \"1972-01-01T00:00:00\", \"Origin\": \"Japan\"}, {\"Name\": \"dodge colt hardtop\", \"Miles_per_Gallon\": 25.0, \"Cylinders\": 4, \"Displacement\": 97.5, \"Horsepower\": 80.0, \"Weight_in_lbs\": 2126, \"Acceleration\": 17.0, \"Year\": \"1972-01-01T00:00:00\", \"Origin\": \"USA\"}, {\"Name\": \"volkswagen type 3\", \"Miles_per_Gallon\": 23.0, \"Cylinders\": 4, \"Displacement\": 97.0, \"Horsepower\": 54.0, \"Weight_in_lbs\": 2254, \"Acceleration\": 23.5, \"Year\": \"1972-01-01T00:00:00\", \"Origin\": \"Europe\"}, {\"Name\": \"chevrolet vega\", \"Miles_per_Gallon\": 20.0, \"Cylinders\": 4, \"Displacement\": 140.0, \"Horsepower\": 90.0, \"Weight_in_lbs\": 2408, \"Acceleration\": 19.5, \"Year\": \"1972-01-01T00:00:00\", \"Origin\": \"USA\"}, {\"Name\": \"ford pinto runabout\", \"Miles_per_Gallon\": 21.0, \"Cylinders\": 4, \"Displacement\": 122.0, \"Horsepower\": 86.0, \"Weight_in_lbs\": 2226, \"Acceleration\": 16.5, \"Year\": \"1972-01-01T00:00:00\", \"Origin\": \"USA\"}, {\"Name\": \"chevrolet impala\", \"Miles_per_Gallon\": 13.0, \"Cylinders\": 8, \"Displacement\": 350.0, \"Horsepower\": 165.0, \"Weight_in_lbs\": 4274, \"Acceleration\": 12.0, \"Year\": \"1972-01-01T00:00:00\", \"Origin\": \"USA\"}, {\"Name\": \"pontiac catalina\", \"Miles_per_Gallon\": 14.0, \"Cylinders\": 8, \"Displacement\": 400.0, \"Horsepower\": 175.0, \"Weight_in_lbs\": 4385, \"Acceleration\": 12.0, \"Year\": \"1972-01-01T00:00:00\", \"Origin\": \"USA\"}, {\"Name\": \"plymouth fury iii\", \"Miles_per_Gallon\": 15.0, \"Cylinders\": 8, \"Displacement\": 318.0, \"Horsepower\": 150.0, \"Weight_in_lbs\": 4135, \"Acceleration\": 13.5, \"Year\": \"1972-01-01T00:00:00\", \"Origin\": \"USA\"}, {\"Name\": \"ford galaxie 500\", \"Miles_per_Gallon\": 14.0, \"Cylinders\": 8, \"Displacement\": 351.0, \"Horsepower\": 153.0, \"Weight_in_lbs\": 4129, \"Acceleration\": 13.0, \"Year\": \"1972-01-01T00:00:00\", \"Origin\": \"USA\"}, {\"Name\": \"amc ambassador sst\", \"Miles_per_Gallon\": 17.0, \"Cylinders\": 8, \"Displacement\": 304.0, \"Horsepower\": 150.0, \"Weight_in_lbs\": 3672, \"Acceleration\": 11.5, \"Year\": \"1972-01-01T00:00:00\", \"Origin\": \"USA\"}, {\"Name\": \"mercury marquis\", \"Miles_per_Gallon\": 11.0, \"Cylinders\": 8, \"Displacement\": 429.0, \"Horsepower\": 208.0, \"Weight_in_lbs\": 4633, \"Acceleration\": 11.0, \"Year\": \"1972-01-01T00:00:00\", \"Origin\": \"USA\"}, {\"Name\": \"buick lesabre custom\", \"Miles_per_Gallon\": 13.0, \"Cylinders\": 8, \"Displacement\": 350.0, \"Horsepower\": 155.0, \"Weight_in_lbs\": 4502, \"Acceleration\": 13.5, \"Year\": \"1972-01-01T00:00:00\", \"Origin\": \"USA\"}, {\"Name\": \"oldsmobile delta 88 royale\", \"Miles_per_Gallon\": 12.0, \"Cylinders\": 8, \"Displacement\": 350.0, \"Horsepower\": 160.0, \"Weight_in_lbs\": 4456, \"Acceleration\": 13.5, \"Year\": \"1972-01-01T00:00:00\", \"Origin\": \"USA\"}, {\"Name\": \"chrysler newport royal\", \"Miles_per_Gallon\": 13.0, \"Cylinders\": 8, \"Displacement\": 400.0, \"Horsepower\": 190.0, \"Weight_in_lbs\": 4422, \"Acceleration\": 12.5, \"Year\": \"1972-01-01T00:00:00\", \"Origin\": \"USA\"}, {\"Name\": \"mazda rx2 coupe\", \"Miles_per_Gallon\": 19.0, \"Cylinders\": 3, \"Displacement\": 70.0, \"Horsepower\": 97.0, \"Weight_in_lbs\": 2330, \"Acceleration\": 13.5, \"Year\": \"1972-01-01T00:00:00\", \"Origin\": \"Japan\"}, {\"Name\": \"amc matador (sw)\", \"Miles_per_Gallon\": 15.0, \"Cylinders\": 8, \"Displacement\": 304.0, \"Horsepower\": 150.0, \"Weight_in_lbs\": 3892, \"Acceleration\": 12.5, \"Year\": \"1972-01-01T00:00:00\", \"Origin\": \"USA\"}, {\"Name\": \"chevrolet chevelle concours (sw)\", \"Miles_per_Gallon\": 13.0, \"Cylinders\": 8, \"Displacement\": 307.0, \"Horsepower\": 130.0, \"Weight_in_lbs\": 4098, \"Acceleration\": 14.0, \"Year\": \"1972-01-01T00:00:00\", \"Origin\": \"USA\"}, {\"Name\": \"ford gran torino (sw)\", \"Miles_per_Gallon\": 13.0, \"Cylinders\": 8, \"Displacement\": 302.0, \"Horsepower\": 140.0, \"Weight_in_lbs\": 4294, \"Acceleration\": 16.0, \"Year\": \"1972-01-01T00:00:00\", \"Origin\": \"USA\"}, {\"Name\": \"plymouth satellite custom (sw)\", \"Miles_per_Gallon\": 14.0, \"Cylinders\": 8, \"Displacement\": 318.0, \"Horsepower\": 150.0, \"Weight_in_lbs\": 4077, \"Acceleration\": 14.0, \"Year\": \"1972-01-01T00:00:00\", \"Origin\": \"USA\"}, {\"Name\": \"volvo 145e (sw)\", \"Miles_per_Gallon\": 18.0, \"Cylinders\": 4, \"Displacement\": 121.0, \"Horsepower\": 112.0, \"Weight_in_lbs\": 2933, \"Acceleration\": 14.5, \"Year\": \"1972-01-01T00:00:00\", \"Origin\": \"Europe\"}, {\"Name\": \"volkswagen 411 (sw)\", \"Miles_per_Gallon\": 22.0, \"Cylinders\": 4, \"Displacement\": 121.0, \"Horsepower\": 76.0, \"Weight_in_lbs\": 2511, \"Acceleration\": 18.0, \"Year\": \"1972-01-01T00:00:00\", \"Origin\": \"Europe\"}, {\"Name\": \"peugeot 504 (sw)\", \"Miles_per_Gallon\": 21.0, \"Cylinders\": 4, \"Displacement\": 120.0, \"Horsepower\": 87.0, \"Weight_in_lbs\": 2979, \"Acceleration\": 19.5, \"Year\": \"1972-01-01T00:00:00\", \"Origin\": \"Europe\"}, {\"Name\": \"renault 12 (sw)\", \"Miles_per_Gallon\": 26.0, \"Cylinders\": 4, \"Displacement\": 96.0, \"Horsepower\": 69.0, \"Weight_in_lbs\": 2189, \"Acceleration\": 18.0, \"Year\": \"1972-01-01T00:00:00\", \"Origin\": \"Europe\"}, {\"Name\": \"ford pinto (sw)\", \"Miles_per_Gallon\": 22.0, \"Cylinders\": 4, \"Displacement\": 122.0, \"Horsepower\": 86.0, \"Weight_in_lbs\": 2395, \"Acceleration\": 16.0, \"Year\": \"1972-01-01T00:00:00\", \"Origin\": \"USA\"}, {\"Name\": \"datsun 510 (sw)\", \"Miles_per_Gallon\": 28.0, \"Cylinders\": 4, \"Displacement\": 97.0, \"Horsepower\": 92.0, \"Weight_in_lbs\": 2288, \"Acceleration\": 17.0, \"Year\": \"1972-01-01T00:00:00\", \"Origin\": \"Japan\"}, {\"Name\": \"toyouta corona mark ii (sw)\", \"Miles_per_Gallon\": 23.0, \"Cylinders\": 4, \"Displacement\": 120.0, \"Horsepower\": 97.0, \"Weight_in_lbs\": 2506, \"Acceleration\": 14.5, \"Year\": \"1972-01-01T00:00:00\", \"Origin\": \"Japan\"}, {\"Name\": \"dodge colt (sw)\", \"Miles_per_Gallon\": 28.0, \"Cylinders\": 4, \"Displacement\": 98.0, \"Horsepower\": 80.0, \"Weight_in_lbs\": 2164, \"Acceleration\": 15.0, \"Year\": \"1972-01-01T00:00:00\", \"Origin\": \"USA\"}, {\"Name\": \"toyota corolla 1600 (sw)\", \"Miles_per_Gallon\": 27.0, \"Cylinders\": 4, \"Displacement\": 97.0, \"Horsepower\": 88.0, \"Weight_in_lbs\": 2100, \"Acceleration\": 16.5, \"Year\": \"1972-01-01T00:00:00\", \"Origin\": \"Japan\"}, {\"Name\": \"buick century 350\", \"Miles_per_Gallon\": 13.0, \"Cylinders\": 8, \"Displacement\": 350.0, \"Horsepower\": 175.0, \"Weight_in_lbs\": 4100, \"Acceleration\": 13.0, \"Year\": \"1973-01-01T00:00:00\", \"Origin\": \"USA\"}, {\"Name\": \"amc matador\", \"Miles_per_Gallon\": 14.0, \"Cylinders\": 8, \"Displacement\": 304.0, \"Horsepower\": 150.0, \"Weight_in_lbs\": 3672, \"Acceleration\": 11.5, \"Year\": \"1973-01-01T00:00:00\", \"Origin\": \"USA\"}, {\"Name\": \"chevrolet malibu\", \"Miles_per_Gallon\": 13.0, \"Cylinders\": 8, \"Displacement\": 350.0, \"Horsepower\": 145.0, \"Weight_in_lbs\": 3988, \"Acceleration\": 13.0, \"Year\": \"1973-01-01T00:00:00\", \"Origin\": \"USA\"}, {\"Name\": \"ford gran torino\", \"Miles_per_Gallon\": 14.0, \"Cylinders\": 8, \"Displacement\": 302.0, \"Horsepower\": 137.0, \"Weight_in_lbs\": 4042, \"Acceleration\": 14.5, \"Year\": \"1973-01-01T00:00:00\", \"Origin\": \"USA\"}, {\"Name\": \"dodge coronet custom\", \"Miles_per_Gallon\": 15.0, \"Cylinders\": 8, \"Displacement\": 318.0, \"Horsepower\": 150.0, \"Weight_in_lbs\": 3777, \"Acceleration\": 12.5, \"Year\": \"1973-01-01T00:00:00\", \"Origin\": \"USA\"}, {\"Name\": \"mercury marquis brougham\", \"Miles_per_Gallon\": 12.0, \"Cylinders\": 8, \"Displacement\": 429.0, \"Horsepower\": 198.0, \"Weight_in_lbs\": 4952, \"Acceleration\": 11.5, \"Year\": \"1973-01-01T00:00:00\", \"Origin\": \"USA\"}, {\"Name\": \"chevrolet caprice classic\", \"Miles_per_Gallon\": 13.0, \"Cylinders\": 8, \"Displacement\": 400.0, \"Horsepower\": 150.0, \"Weight_in_lbs\": 4464, \"Acceleration\": 12.0, \"Year\": \"1973-01-01T00:00:00\", \"Origin\": \"USA\"}, {\"Name\": \"ford ltd\", \"Miles_per_Gallon\": 13.0, \"Cylinders\": 8, \"Displacement\": 351.0, \"Horsepower\": 158.0, \"Weight_in_lbs\": 4363, \"Acceleration\": 13.0, \"Year\": \"1973-01-01T00:00:00\", \"Origin\": \"USA\"}, {\"Name\": \"plymouth fury gran sedan\", \"Miles_per_Gallon\": 14.0, \"Cylinders\": 8, \"Displacement\": 318.0, \"Horsepower\": 150.0, \"Weight_in_lbs\": 4237, \"Acceleration\": 14.5, \"Year\": \"1973-01-01T00:00:00\", \"Origin\": \"USA\"}, {\"Name\": \"chrysler new yorker brougham\", \"Miles_per_Gallon\": 13.0, \"Cylinders\": 8, \"Displacement\": 440.0, \"Horsepower\": 215.0, \"Weight_in_lbs\": 4735, \"Acceleration\": 11.0, \"Year\": \"1973-01-01T00:00:00\", \"Origin\": \"USA\"}, {\"Name\": \"buick electra 225 custom\", \"Miles_per_Gallon\": 12.0, \"Cylinders\": 8, \"Displacement\": 455.0, \"Horsepower\": 225.0, \"Weight_in_lbs\": 4951, \"Acceleration\": 11.0, \"Year\": \"1973-01-01T00:00:00\", \"Origin\": \"USA\"}, {\"Name\": \"amc ambassador brougham\", \"Miles_per_Gallon\": 13.0, \"Cylinders\": 8, \"Displacement\": 360.0, \"Horsepower\": 175.0, \"Weight_in_lbs\": 3821, \"Acceleration\": 11.0, \"Year\": \"1973-01-01T00:00:00\", \"Origin\": \"USA\"}, {\"Name\": \"plymouth valiant\", \"Miles_per_Gallon\": 18.0, \"Cylinders\": 6, \"Displacement\": 225.0, \"Horsepower\": 105.0, \"Weight_in_lbs\": 3121, \"Acceleration\": 16.5, \"Year\": \"1973-01-01T00:00:00\", \"Origin\": \"USA\"}, {\"Name\": \"chevrolet nova custom\", \"Miles_per_Gallon\": 16.0, \"Cylinders\": 6, \"Displacement\": 250.0, \"Horsepower\": 100.0, \"Weight_in_lbs\": 3278, \"Acceleration\": 18.0, \"Year\": \"1973-01-01T00:00:00\", \"Origin\": \"USA\"}, {\"Name\": \"amc hornet\", \"Miles_per_Gallon\": 18.0, \"Cylinders\": 6, \"Displacement\": 232.0, \"Horsepower\": 100.0, \"Weight_in_lbs\": 2945, \"Acceleration\": 16.0, \"Year\": \"1973-01-01T00:00:00\", \"Origin\": \"USA\"}, {\"Name\": \"ford maverick\", \"Miles_per_Gallon\": 18.0, \"Cylinders\": 6, \"Displacement\": 250.0, \"Horsepower\": 88.0, \"Weight_in_lbs\": 3021, \"Acceleration\": 16.5, \"Year\": \"1973-01-01T00:00:00\", \"Origin\": \"USA\"}, {\"Name\": \"plymouth duster\", \"Miles_per_Gallon\": 23.0, \"Cylinders\": 6, \"Displacement\": 198.0, \"Horsepower\": 95.0, \"Weight_in_lbs\": 2904, \"Acceleration\": 16.0, \"Year\": \"1973-01-01T00:00:00\", \"Origin\": \"USA\"}, {\"Name\": \"volkswagen super beetle\", \"Miles_per_Gallon\": 26.0, \"Cylinders\": 4, \"Displacement\": 97.0, \"Horsepower\": 46.0, \"Weight_in_lbs\": 1950, \"Acceleration\": 21.0, \"Year\": \"1973-01-01T00:00:00\", \"Origin\": \"Europe\"}, {\"Name\": \"chevrolet impala\", \"Miles_per_Gallon\": 11.0, \"Cylinders\": 8, \"Displacement\": 400.0, \"Horsepower\": 150.0, \"Weight_in_lbs\": 4997, \"Acceleration\": 14.0, \"Year\": \"1973-01-01T00:00:00\", \"Origin\": \"USA\"}, {\"Name\": \"ford country\", \"Miles_per_Gallon\": 12.0, \"Cylinders\": 8, \"Displacement\": 400.0, \"Horsepower\": 167.0, \"Weight_in_lbs\": 4906, \"Acceleration\": 12.5, \"Year\": \"1973-01-01T00:00:00\", \"Origin\": \"USA\"}, {\"Name\": \"plymouth custom suburb\", \"Miles_per_Gallon\": 13.0, \"Cylinders\": 8, \"Displacement\": 360.0, \"Horsepower\": 170.0, \"Weight_in_lbs\": 4654, \"Acceleration\": 13.0, \"Year\": \"1973-01-01T00:00:00\", \"Origin\": \"USA\"}, {\"Name\": \"oldsmobile vista cruiser\", \"Miles_per_Gallon\": 12.0, \"Cylinders\": 8, \"Displacement\": 350.0, \"Horsepower\": 180.0, \"Weight_in_lbs\": 4499, \"Acceleration\": 12.5, \"Year\": \"1973-01-01T00:00:00\", \"Origin\": \"USA\"}, {\"Name\": \"amc gremlin\", \"Miles_per_Gallon\": 18.0, \"Cylinders\": 6, \"Displacement\": 232.0, \"Horsepower\": 100.0, \"Weight_in_lbs\": 2789, \"Acceleration\": 15.0, \"Year\": \"1973-01-01T00:00:00\", \"Origin\": \"USA\"}, {\"Name\": \"toyota carina\", \"Miles_per_Gallon\": 20.0, \"Cylinders\": 4, \"Displacement\": 97.0, \"Horsepower\": 88.0, \"Weight_in_lbs\": 2279, \"Acceleration\": 19.0, \"Year\": \"1973-01-01T00:00:00\", \"Origin\": \"Japan\"}, {\"Name\": \"chevrolet vega\", \"Miles_per_Gallon\": 21.0, \"Cylinders\": 4, \"Displacement\": 140.0, \"Horsepower\": 72.0, \"Weight_in_lbs\": 2401, \"Acceleration\": 19.5, \"Year\": \"1973-01-01T00:00:00\", \"Origin\": \"USA\"}, {\"Name\": \"datsun 610\", \"Miles_per_Gallon\": 22.0, \"Cylinders\": 4, \"Displacement\": 108.0, \"Horsepower\": 94.0, \"Weight_in_lbs\": 2379, \"Acceleration\": 16.5, \"Year\": \"1973-01-01T00:00:00\", \"Origin\": \"Japan\"}, {\"Name\": \"maxda rx3\", \"Miles_per_Gallon\": 18.0, \"Cylinders\": 3, \"Displacement\": 70.0, \"Horsepower\": 90.0, \"Weight_in_lbs\": 2124, \"Acceleration\": 13.5, \"Year\": \"1973-01-01T00:00:00\", \"Origin\": \"Japan\"}, {\"Name\": \"ford pinto\", \"Miles_per_Gallon\": 19.0, \"Cylinders\": 4, \"Displacement\": 122.0, \"Horsepower\": 85.0, \"Weight_in_lbs\": 2310, \"Acceleration\": 18.5, \"Year\": \"1973-01-01T00:00:00\", \"Origin\": \"USA\"}, {\"Name\": \"mercury capri v6\", \"Miles_per_Gallon\": 21.0, \"Cylinders\": 6, \"Displacement\": 155.0, \"Horsepower\": 107.0, \"Weight_in_lbs\": 2472, \"Acceleration\": 14.0, \"Year\": \"1973-01-01T00:00:00\", \"Origin\": \"USA\"}, {\"Name\": \"fiat 124 sport coupe\", \"Miles_per_Gallon\": 26.0, \"Cylinders\": 4, \"Displacement\": 98.0, \"Horsepower\": 90.0, \"Weight_in_lbs\": 2265, \"Acceleration\": 15.5, \"Year\": \"1973-01-01T00:00:00\", \"Origin\": \"Europe\"}, {\"Name\": \"chevrolet monte carlo s\", \"Miles_per_Gallon\": 15.0, \"Cylinders\": 8, \"Displacement\": 350.0, \"Horsepower\": 145.0, \"Weight_in_lbs\": 4082, \"Acceleration\": 13.0, \"Year\": \"1973-01-01T00:00:00\", \"Origin\": \"USA\"}, {\"Name\": \"pontiac grand prix\", \"Miles_per_Gallon\": 16.0, \"Cylinders\": 8, \"Displacement\": 400.0, \"Horsepower\": 230.0, \"Weight_in_lbs\": 4278, \"Acceleration\": 9.5, \"Year\": \"1973-01-01T00:00:00\", \"Origin\": \"USA\"}, {\"Name\": \"fiat 128\", \"Miles_per_Gallon\": 29.0, \"Cylinders\": 4, \"Displacement\": 68.0, \"Horsepower\": 49.0, \"Weight_in_lbs\": 1867, \"Acceleration\": 19.5, \"Year\": \"1973-01-01T00:00:00\", \"Origin\": \"Europe\"}, {\"Name\": \"opel manta\", \"Miles_per_Gallon\": 24.0, \"Cylinders\": 4, \"Displacement\": 116.0, \"Horsepower\": 75.0, \"Weight_in_lbs\": 2158, \"Acceleration\": 15.5, \"Year\": \"1973-01-01T00:00:00\", \"Origin\": \"Europe\"}, {\"Name\": \"audi 100ls\", \"Miles_per_Gallon\": 20.0, \"Cylinders\": 4, \"Displacement\": 114.0, \"Horsepower\": 91.0, \"Weight_in_lbs\": 2582, \"Acceleration\": 14.0, \"Year\": \"1973-01-01T00:00:00\", \"Origin\": \"Europe\"}, {\"Name\": \"volvo 144ea\", \"Miles_per_Gallon\": 19.0, \"Cylinders\": 4, \"Displacement\": 121.0, \"Horsepower\": 112.0, \"Weight_in_lbs\": 2868, \"Acceleration\": 15.5, \"Year\": \"1973-01-01T00:00:00\", \"Origin\": \"Europe\"}, {\"Name\": \"dodge dart custom\", \"Miles_per_Gallon\": 15.0, \"Cylinders\": 8, \"Displacement\": 318.0, \"Horsepower\": 150.0, \"Weight_in_lbs\": 3399, \"Acceleration\": 11.0, \"Year\": \"1973-01-01T00:00:00\", \"Origin\": \"USA\"}, {\"Name\": \"saab 99le\", \"Miles_per_Gallon\": 24.0, \"Cylinders\": 4, \"Displacement\": 121.0, \"Horsepower\": 110.0, \"Weight_in_lbs\": 2660, \"Acceleration\": 14.0, \"Year\": \"1973-01-01T00:00:00\", \"Origin\": \"Europe\"}, {\"Name\": \"toyota mark ii\", \"Miles_per_Gallon\": 20.0, \"Cylinders\": 6, \"Displacement\": 156.0, \"Horsepower\": 122.0, \"Weight_in_lbs\": 2807, \"Acceleration\": 13.5, \"Year\": \"1973-01-01T00:00:00\", \"Origin\": \"Japan\"}, {\"Name\": \"oldsmobile omega\", \"Miles_per_Gallon\": 11.0, \"Cylinders\": 8, \"Displacement\": 350.0, \"Horsepower\": 180.0, \"Weight_in_lbs\": 3664, \"Acceleration\": 11.0, \"Year\": \"1973-01-01T00:00:00\", \"Origin\": \"USA\"}, {\"Name\": \"plymouth duster\", \"Miles_per_Gallon\": 20.0, \"Cylinders\": 6, \"Displacement\": 198.0, \"Horsepower\": 95.0, \"Weight_in_lbs\": 3102, \"Acceleration\": 16.5, \"Year\": \"1974-01-01T00:00:00\", \"Origin\": \"USA\"}, {\"Name\": \"ford maverick\", \"Miles_per_Gallon\": 21.0, \"Cylinders\": 6, \"Displacement\": 200.0, \"Horsepower\": null, \"Weight_in_lbs\": 2875, \"Acceleration\": 17.0, \"Year\": \"1974-01-01T00:00:00\", \"Origin\": \"USA\"}, {\"Name\": \"amc hornet\", \"Miles_per_Gallon\": 19.0, \"Cylinders\": 6, \"Displacement\": 232.0, \"Horsepower\": 100.0, \"Weight_in_lbs\": 2901, \"Acceleration\": 16.0, \"Year\": \"1974-01-01T00:00:00\", \"Origin\": \"USA\"}, {\"Name\": \"chevrolet nova\", \"Miles_per_Gallon\": 15.0, \"Cylinders\": 6, \"Displacement\": 250.0, \"Horsepower\": 100.0, \"Weight_in_lbs\": 3336, \"Acceleration\": 17.0, \"Year\": \"1974-01-01T00:00:00\", \"Origin\": \"USA\"}, {\"Name\": \"datsun b210\", \"Miles_per_Gallon\": 31.0, \"Cylinders\": 4, \"Displacement\": 79.0, \"Horsepower\": 67.0, \"Weight_in_lbs\": 1950, \"Acceleration\": 19.0, \"Year\": \"1974-01-01T00:00:00\", \"Origin\": \"Japan\"}, {\"Name\": \"ford pinto\", \"Miles_per_Gallon\": 26.0, \"Cylinders\": 4, \"Displacement\": 122.0, \"Horsepower\": 80.0, \"Weight_in_lbs\": 2451, \"Acceleration\": 16.5, \"Year\": \"1974-01-01T00:00:00\", \"Origin\": \"USA\"}, {\"Name\": \"toyota corolla 1200\", \"Miles_per_Gallon\": 32.0, \"Cylinders\": 4, \"Displacement\": 71.0, \"Horsepower\": 65.0, \"Weight_in_lbs\": 1836, \"Acceleration\": 21.0, \"Year\": \"1974-01-01T00:00:00\", \"Origin\": \"Japan\"}, {\"Name\": \"chevrolet vega\", \"Miles_per_Gallon\": 25.0, \"Cylinders\": 4, \"Displacement\": 140.0, \"Horsepower\": 75.0, \"Weight_in_lbs\": 2542, \"Acceleration\": 17.0, \"Year\": \"1974-01-01T00:00:00\", \"Origin\": \"USA\"}, {\"Name\": \"chevrolet chevelle malibu classic\", \"Miles_per_Gallon\": 16.0, \"Cylinders\": 6, \"Displacement\": 250.0, \"Horsepower\": 100.0, \"Weight_in_lbs\": 3781, \"Acceleration\": 17.0, \"Year\": \"1974-01-01T00:00:00\", \"Origin\": \"USA\"}, {\"Name\": \"amc matador\", \"Miles_per_Gallon\": 16.0, \"Cylinders\": 6, \"Displacement\": 258.0, \"Horsepower\": 110.0, \"Weight_in_lbs\": 3632, \"Acceleration\": 18.0, \"Year\": \"1974-01-01T00:00:00\", \"Origin\": \"USA\"}, {\"Name\": \"plymouth satellite sebring\", \"Miles_per_Gallon\": 18.0, \"Cylinders\": 6, \"Displacement\": 225.0, \"Horsepower\": 105.0, \"Weight_in_lbs\": 3613, \"Acceleration\": 16.5, \"Year\": \"1974-01-01T00:00:00\", \"Origin\": \"USA\"}, {\"Name\": \"ford gran torino\", \"Miles_per_Gallon\": 16.0, \"Cylinders\": 8, \"Displacement\": 302.0, \"Horsepower\": 140.0, \"Weight_in_lbs\": 4141, \"Acceleration\": 14.0, \"Year\": \"1974-01-01T00:00:00\", \"Origin\": \"USA\"}, {\"Name\": \"buick century luxus (sw)\", \"Miles_per_Gallon\": 13.0, \"Cylinders\": 8, \"Displacement\": 350.0, \"Horsepower\": 150.0, \"Weight_in_lbs\": 4699, \"Acceleration\": 14.5, \"Year\": \"1974-01-01T00:00:00\", \"Origin\": \"USA\"}, {\"Name\": \"dodge coronet custom (sw)\", \"Miles_per_Gallon\": 14.0, \"Cylinders\": 8, \"Displacement\": 318.0, \"Horsepower\": 150.0, \"Weight_in_lbs\": 4457, \"Acceleration\": 13.5, \"Year\": \"1974-01-01T00:00:00\", \"Origin\": \"USA\"}, {\"Name\": \"ford gran torino (sw)\", \"Miles_per_Gallon\": 14.0, \"Cylinders\": 8, \"Displacement\": 302.0, \"Horsepower\": 140.0, \"Weight_in_lbs\": 4638, \"Acceleration\": 16.0, \"Year\": \"1974-01-01T00:00:00\", \"Origin\": \"USA\"}, {\"Name\": \"amc matador (sw)\", \"Miles_per_Gallon\": 14.0, \"Cylinders\": 8, \"Displacement\": 304.0, \"Horsepower\": 150.0, \"Weight_in_lbs\": 4257, \"Acceleration\": 15.5, \"Year\": \"1974-01-01T00:00:00\", \"Origin\": \"USA\"}, {\"Name\": \"audi fox\", \"Miles_per_Gallon\": 29.0, \"Cylinders\": 4, \"Displacement\": 98.0, \"Horsepower\": 83.0, \"Weight_in_lbs\": 2219, \"Acceleration\": 16.5, \"Year\": \"1974-01-01T00:00:00\", \"Origin\": \"Europe\"}, {\"Name\": \"volkswagen dasher\", \"Miles_per_Gallon\": 26.0, \"Cylinders\": 4, \"Displacement\": 79.0, \"Horsepower\": 67.0, \"Weight_in_lbs\": 1963, \"Acceleration\": 15.5, \"Year\": \"1974-01-01T00:00:00\", \"Origin\": \"Europe\"}, {\"Name\": \"opel manta\", \"Miles_per_Gallon\": 26.0, \"Cylinders\": 4, \"Displacement\": 97.0, \"Horsepower\": 78.0, \"Weight_in_lbs\": 2300, \"Acceleration\": 14.5, \"Year\": \"1974-01-01T00:00:00\", \"Origin\": \"Europe\"}, {\"Name\": \"toyota corona\", \"Miles_per_Gallon\": 31.0, \"Cylinders\": 4, \"Displacement\": 76.0, \"Horsepower\": 52.0, \"Weight_in_lbs\": 1649, \"Acceleration\": 16.5, \"Year\": \"1974-01-01T00:00:00\", \"Origin\": \"Japan\"}, {\"Name\": \"datsun 710\", \"Miles_per_Gallon\": 32.0, \"Cylinders\": 4, \"Displacement\": 83.0, \"Horsepower\": 61.0, \"Weight_in_lbs\": 2003, \"Acceleration\": 19.0, \"Year\": \"1974-01-01T00:00:00\", \"Origin\": \"Japan\"}, {\"Name\": \"dodge colt\", \"Miles_per_Gallon\": 28.0, \"Cylinders\": 4, \"Displacement\": 90.0, \"Horsepower\": 75.0, \"Weight_in_lbs\": 2125, \"Acceleration\": 14.5, \"Year\": \"1974-01-01T00:00:00\", \"Origin\": \"USA\"}, {\"Name\": \"fiat 128\", \"Miles_per_Gallon\": 24.0, \"Cylinders\": 4, \"Displacement\": 90.0, \"Horsepower\": 75.0, \"Weight_in_lbs\": 2108, \"Acceleration\": 15.5, \"Year\": \"1974-01-01T00:00:00\", \"Origin\": \"Europe\"}, {\"Name\": \"fiat 124 tc\", \"Miles_per_Gallon\": 26.0, \"Cylinders\": 4, \"Displacement\": 116.0, \"Horsepower\": 75.0, \"Weight_in_lbs\": 2246, \"Acceleration\": 14.0, \"Year\": \"1974-01-01T00:00:00\", \"Origin\": \"Europe\"}, {\"Name\": \"honda civic\", \"Miles_per_Gallon\": 24.0, \"Cylinders\": 4, \"Displacement\": 120.0, \"Horsepower\": 97.0, \"Weight_in_lbs\": 2489, \"Acceleration\": 15.0, \"Year\": \"1974-01-01T00:00:00\", \"Origin\": \"Japan\"}, {\"Name\": \"subaru\", \"Miles_per_Gallon\": 26.0, \"Cylinders\": 4, \"Displacement\": 108.0, \"Horsepower\": 93.0, \"Weight_in_lbs\": 2391, \"Acceleration\": 15.5, \"Year\": \"1974-01-01T00:00:00\", \"Origin\": \"Japan\"}, {\"Name\": \"fiat x1.9\", \"Miles_per_Gallon\": 31.0, \"Cylinders\": 4, \"Displacement\": 79.0, \"Horsepower\": 67.0, \"Weight_in_lbs\": 2000, \"Acceleration\": 16.0, \"Year\": \"1974-01-01T00:00:00\", \"Origin\": \"Europe\"}, {\"Name\": \"plymouth valiant custom\", \"Miles_per_Gallon\": 19.0, \"Cylinders\": 6, \"Displacement\": 225.0, \"Horsepower\": 95.0, \"Weight_in_lbs\": 3264, \"Acceleration\": 16.0, \"Year\": \"1975-01-01T00:00:00\", \"Origin\": \"USA\"}, {\"Name\": \"chevrolet nova\", \"Miles_per_Gallon\": 18.0, \"Cylinders\": 6, \"Displacement\": 250.0, \"Horsepower\": 105.0, \"Weight_in_lbs\": 3459, \"Acceleration\": 16.0, \"Year\": \"1975-01-01T00:00:00\", \"Origin\": \"USA\"}, {\"Name\": \"mercury monarch\", \"Miles_per_Gallon\": 15.0, \"Cylinders\": 6, \"Displacement\": 250.0, \"Horsepower\": 72.0, \"Weight_in_lbs\": 3432, \"Acceleration\": 21.0, \"Year\": \"1975-01-01T00:00:00\", \"Origin\": \"USA\"}, {\"Name\": \"ford maverick\", \"Miles_per_Gallon\": 15.0, \"Cylinders\": 6, \"Displacement\": 250.0, \"Horsepower\": 72.0, \"Weight_in_lbs\": 3158, \"Acceleration\": 19.5, \"Year\": \"1975-01-01T00:00:00\", \"Origin\": \"USA\"}, {\"Name\": \"pontiac catalina\", \"Miles_per_Gallon\": 16.0, \"Cylinders\": 8, \"Displacement\": 400.0, \"Horsepower\": 170.0, \"Weight_in_lbs\": 4668, \"Acceleration\": 11.5, \"Year\": \"1975-01-01T00:00:00\", \"Origin\": \"USA\"}, {\"Name\": \"chevrolet bel air\", \"Miles_per_Gallon\": 15.0, \"Cylinders\": 8, \"Displacement\": 350.0, \"Horsepower\": 145.0, \"Weight_in_lbs\": 4440, \"Acceleration\": 14.0, \"Year\": \"1975-01-01T00:00:00\", \"Origin\": \"USA\"}, {\"Name\": \"plymouth grand fury\", \"Miles_per_Gallon\": 16.0, \"Cylinders\": 8, \"Displacement\": 318.0, \"Horsepower\": 150.0, \"Weight_in_lbs\": 4498, \"Acceleration\": 14.5, \"Year\": \"1975-01-01T00:00:00\", \"Origin\": \"USA\"}, {\"Name\": \"ford ltd\", \"Miles_per_Gallon\": 14.0, \"Cylinders\": 8, \"Displacement\": 351.0, \"Horsepower\": 148.0, \"Weight_in_lbs\": 4657, \"Acceleration\": 13.5, \"Year\": \"1975-01-01T00:00:00\", \"Origin\": \"USA\"}, {\"Name\": \"buick century\", \"Miles_per_Gallon\": 17.0, \"Cylinders\": 6, \"Displacement\": 231.0, \"Horsepower\": 110.0, \"Weight_in_lbs\": 3907, \"Acceleration\": 21.0, \"Year\": \"1975-01-01T00:00:00\", \"Origin\": \"USA\"}, {\"Name\": \"chevroelt chevelle malibu\", \"Miles_per_Gallon\": 16.0, \"Cylinders\": 6, \"Displacement\": 250.0, \"Horsepower\": 105.0, \"Weight_in_lbs\": 3897, \"Acceleration\": 18.5, \"Year\": \"1975-01-01T00:00:00\", \"Origin\": \"USA\"}, {\"Name\": \"amc matador\", \"Miles_per_Gallon\": 15.0, \"Cylinders\": 6, \"Displacement\": 258.0, \"Horsepower\": 110.0, \"Weight_in_lbs\": 3730, \"Acceleration\": 19.0, \"Year\": \"1975-01-01T00:00:00\", \"Origin\": \"USA\"}, {\"Name\": \"plymouth fury\", \"Miles_per_Gallon\": 18.0, \"Cylinders\": 6, \"Displacement\": 225.0, \"Horsepower\": 95.0, \"Weight_in_lbs\": 3785, \"Acceleration\": 19.0, \"Year\": \"1975-01-01T00:00:00\", \"Origin\": \"USA\"}, {\"Name\": \"buick skyhawk\", \"Miles_per_Gallon\": 21.0, \"Cylinders\": 6, \"Displacement\": 231.0, \"Horsepower\": 110.0, \"Weight_in_lbs\": 3039, \"Acceleration\": 15.0, \"Year\": \"1975-01-01T00:00:00\", \"Origin\": \"USA\"}, {\"Name\": \"chevrolet monza 2+2\", \"Miles_per_Gallon\": 20.0, \"Cylinders\": 8, \"Displacement\": 262.0, \"Horsepower\": 110.0, \"Weight_in_lbs\": 3221, \"Acceleration\": 13.5, \"Year\": \"1975-01-01T00:00:00\", \"Origin\": \"USA\"}, {\"Name\": \"ford mustang ii\", \"Miles_per_Gallon\": 13.0, \"Cylinders\": 8, \"Displacement\": 302.0, \"Horsepower\": 129.0, \"Weight_in_lbs\": 3169, \"Acceleration\": 12.0, \"Year\": \"1975-01-01T00:00:00\", \"Origin\": \"USA\"}, {\"Name\": \"toyota corolla\", \"Miles_per_Gallon\": 29.0, \"Cylinders\": 4, \"Displacement\": 97.0, \"Horsepower\": 75.0, \"Weight_in_lbs\": 2171, \"Acceleration\": 16.0, \"Year\": \"1975-01-01T00:00:00\", \"Origin\": \"Japan\"}, {\"Name\": \"ford pinto\", \"Miles_per_Gallon\": 23.0, \"Cylinders\": 4, \"Displacement\": 140.0, \"Horsepower\": 83.0, \"Weight_in_lbs\": 2639, \"Acceleration\": 17.0, \"Year\": \"1975-01-01T00:00:00\", \"Origin\": \"USA\"}, {\"Name\": \"amc gremlin\", \"Miles_per_Gallon\": 20.0, \"Cylinders\": 6, \"Displacement\": 232.0, \"Horsepower\": 100.0, \"Weight_in_lbs\": 2914, \"Acceleration\": 16.0, \"Year\": \"1975-01-01T00:00:00\", \"Origin\": \"USA\"}, {\"Name\": \"pontiac astro\", \"Miles_per_Gallon\": 23.0, \"Cylinders\": 4, \"Displacement\": 140.0, \"Horsepower\": 78.0, \"Weight_in_lbs\": 2592, \"Acceleration\": 18.5, \"Year\": \"1975-01-01T00:00:00\", \"Origin\": \"USA\"}, {\"Name\": \"toyota corona\", \"Miles_per_Gallon\": 24.0, \"Cylinders\": 4, \"Displacement\": 134.0, \"Horsepower\": 96.0, \"Weight_in_lbs\": 2702, \"Acceleration\": 13.5, \"Year\": \"1975-01-01T00:00:00\", \"Origin\": \"Japan\"}, {\"Name\": \"volkswagen dasher\", \"Miles_per_Gallon\": 25.0, \"Cylinders\": 4, \"Displacement\": 90.0, \"Horsepower\": 71.0, \"Weight_in_lbs\": 2223, \"Acceleration\": 16.5, \"Year\": \"1975-01-01T00:00:00\", \"Origin\": \"Europe\"}, {\"Name\": \"datsun 710\", \"Miles_per_Gallon\": 24.0, \"Cylinders\": 4, \"Displacement\": 119.0, \"Horsepower\": 97.0, \"Weight_in_lbs\": 2545, \"Acceleration\": 17.0, \"Year\": \"1975-01-01T00:00:00\", \"Origin\": \"Japan\"}, {\"Name\": \"ford pinto\", \"Miles_per_Gallon\": 18.0, \"Cylinders\": 6, \"Displacement\": 171.0, \"Horsepower\": 97.0, \"Weight_in_lbs\": 2984, \"Acceleration\": 14.5, \"Year\": \"1975-01-01T00:00:00\", \"Origin\": \"USA\"}, {\"Name\": \"volkswagen rabbit\", \"Miles_per_Gallon\": 29.0, \"Cylinders\": 4, \"Displacement\": 90.0, \"Horsepower\": 70.0, \"Weight_in_lbs\": 1937, \"Acceleration\": 14.0, \"Year\": \"1975-01-01T00:00:00\", \"Origin\": \"Europe\"}, {\"Name\": \"amc pacer\", \"Miles_per_Gallon\": 19.0, \"Cylinders\": 6, \"Displacement\": 232.0, \"Horsepower\": 90.0, \"Weight_in_lbs\": 3211, \"Acceleration\": 17.0, \"Year\": \"1975-01-01T00:00:00\", \"Origin\": \"USA\"}, {\"Name\": \"audi 100ls\", \"Miles_per_Gallon\": 23.0, \"Cylinders\": 4, \"Displacement\": 115.0, \"Horsepower\": 95.0, \"Weight_in_lbs\": 2694, \"Acceleration\": 15.0, \"Year\": \"1975-01-01T00:00:00\", \"Origin\": \"Europe\"}, {\"Name\": \"peugeot 504\", \"Miles_per_Gallon\": 23.0, \"Cylinders\": 4, \"Displacement\": 120.0, \"Horsepower\": 88.0, \"Weight_in_lbs\": 2957, \"Acceleration\": 17.0, \"Year\": \"1975-01-01T00:00:00\", \"Origin\": \"Europe\"}, {\"Name\": \"volvo 244dl\", \"Miles_per_Gallon\": 22.0, \"Cylinders\": 4, \"Displacement\": 121.0, \"Horsepower\": 98.0, \"Weight_in_lbs\": 2945, \"Acceleration\": 14.5, \"Year\": \"1975-01-01T00:00:00\", \"Origin\": \"Europe\"}, {\"Name\": \"saab 99le\", \"Miles_per_Gallon\": 25.0, \"Cylinders\": 4, \"Displacement\": 121.0, \"Horsepower\": 115.0, \"Weight_in_lbs\": 2671, \"Acceleration\": 13.5, \"Year\": \"1975-01-01T00:00:00\", \"Origin\": \"Europe\"}, {\"Name\": \"honda civic cvcc\", \"Miles_per_Gallon\": 33.0, \"Cylinders\": 4, \"Displacement\": 91.0, \"Horsepower\": 53.0, \"Weight_in_lbs\": 1795, \"Acceleration\": 17.5, \"Year\": \"1975-01-01T00:00:00\", \"Origin\": \"Japan\"}, {\"Name\": \"fiat 131\", \"Miles_per_Gallon\": 28.0, \"Cylinders\": 4, \"Displacement\": 107.0, \"Horsepower\": 86.0, \"Weight_in_lbs\": 2464, \"Acceleration\": 15.5, \"Year\": \"1976-01-01T00:00:00\", \"Origin\": \"Europe\"}, {\"Name\": \"opel 1900\", \"Miles_per_Gallon\": 25.0, \"Cylinders\": 4, \"Displacement\": 116.0, \"Horsepower\": 81.0, \"Weight_in_lbs\": 2220, \"Acceleration\": 16.9, \"Year\": \"1976-01-01T00:00:00\", \"Origin\": \"Europe\"}, {\"Name\": \"capri ii\", \"Miles_per_Gallon\": 25.0, \"Cylinders\": 4, \"Displacement\": 140.0, \"Horsepower\": 92.0, \"Weight_in_lbs\": 2572, \"Acceleration\": 14.9, \"Year\": \"1976-01-01T00:00:00\", \"Origin\": \"USA\"}, {\"Name\": \"dodge colt\", \"Miles_per_Gallon\": 26.0, \"Cylinders\": 4, \"Displacement\": 98.0, \"Horsepower\": 79.0, \"Weight_in_lbs\": 2255, \"Acceleration\": 17.7, \"Year\": \"1976-01-01T00:00:00\", \"Origin\": \"USA\"}, {\"Name\": \"renault 12tl\", \"Miles_per_Gallon\": 27.0, \"Cylinders\": 4, \"Displacement\": 101.0, \"Horsepower\": 83.0, \"Weight_in_lbs\": 2202, \"Acceleration\": 15.3, \"Year\": \"1976-01-01T00:00:00\", \"Origin\": \"Europe\"}, {\"Name\": \"chevrolet chevelle malibu classic\", \"Miles_per_Gallon\": 17.5, \"Cylinders\": 8, \"Displacement\": 305.0, \"Horsepower\": 140.0, \"Weight_in_lbs\": 4215, \"Acceleration\": 13.0, \"Year\": \"1976-01-01T00:00:00\", \"Origin\": \"USA\"}, {\"Name\": \"dodge coronet brougham\", \"Miles_per_Gallon\": 16.0, \"Cylinders\": 8, \"Displacement\": 318.0, \"Horsepower\": 150.0, \"Weight_in_lbs\": 4190, \"Acceleration\": 13.0, \"Year\": \"1976-01-01T00:00:00\", \"Origin\": \"USA\"}, {\"Name\": \"amc matador\", \"Miles_per_Gallon\": 15.5, \"Cylinders\": 8, \"Displacement\": 304.0, \"Horsepower\": 120.0, \"Weight_in_lbs\": 3962, \"Acceleration\": 13.9, \"Year\": \"1976-01-01T00:00:00\", \"Origin\": \"USA\"}, {\"Name\": \"ford gran torino\", \"Miles_per_Gallon\": 14.5, \"Cylinders\": 8, \"Displacement\": 351.0, \"Horsepower\": 152.0, \"Weight_in_lbs\": 4215, \"Acceleration\": 12.8, \"Year\": \"1976-01-01T00:00:00\", \"Origin\": \"USA\"}, {\"Name\": \"plymouth valiant\", \"Miles_per_Gallon\": 22.0, \"Cylinders\": 6, \"Displacement\": 225.0, \"Horsepower\": 100.0, \"Weight_in_lbs\": 3233, \"Acceleration\": 15.4, \"Year\": \"1976-01-01T00:00:00\", \"Origin\": \"USA\"}, {\"Name\": \"chevrolet nova\", \"Miles_per_Gallon\": 22.0, \"Cylinders\": 6, \"Displacement\": 250.0, \"Horsepower\": 105.0, \"Weight_in_lbs\": 3353, \"Acceleration\": 14.5, \"Year\": \"1976-01-01T00:00:00\", \"Origin\": \"USA\"}, {\"Name\": \"ford maverick\", \"Miles_per_Gallon\": 24.0, \"Cylinders\": 6, \"Displacement\": 200.0, \"Horsepower\": 81.0, \"Weight_in_lbs\": 3012, \"Acceleration\": 17.6, \"Year\": \"1976-01-01T00:00:00\", \"Origin\": \"USA\"}, {\"Name\": \"amc hornet\", \"Miles_per_Gallon\": 22.5, \"Cylinders\": 6, \"Displacement\": 232.0, \"Horsepower\": 90.0, \"Weight_in_lbs\": 3085, \"Acceleration\": 17.6, \"Year\": \"1976-01-01T00:00:00\", \"Origin\": \"USA\"}, {\"Name\": \"chevrolet chevette\", \"Miles_per_Gallon\": 29.0, \"Cylinders\": 4, \"Displacement\": 85.0, \"Horsepower\": 52.0, \"Weight_in_lbs\": 2035, \"Acceleration\": 22.2, \"Year\": \"1976-01-01T00:00:00\", \"Origin\": \"USA\"}, {\"Name\": \"chevrolet woody\", \"Miles_per_Gallon\": 24.5, \"Cylinders\": 4, \"Displacement\": 98.0, \"Horsepower\": 60.0, \"Weight_in_lbs\": 2164, \"Acceleration\": 22.1, \"Year\": \"1976-01-01T00:00:00\", \"Origin\": \"USA\"}, {\"Name\": \"vw rabbit\", \"Miles_per_Gallon\": 29.0, \"Cylinders\": 4, \"Displacement\": 90.0, \"Horsepower\": 70.0, \"Weight_in_lbs\": 1937, \"Acceleration\": 14.2, \"Year\": \"1976-01-01T00:00:00\", \"Origin\": \"Europe\"}, {\"Name\": \"honda civic\", \"Miles_per_Gallon\": 33.0, \"Cylinders\": 4, \"Displacement\": 91.0, \"Horsepower\": 53.0, \"Weight_in_lbs\": 1795, \"Acceleration\": 17.4, \"Year\": \"1976-01-01T00:00:00\", \"Origin\": \"Japan\"}, {\"Name\": \"dodge aspen se\", \"Miles_per_Gallon\": 20.0, \"Cylinders\": 6, \"Displacement\": 225.0, \"Horsepower\": 100.0, \"Weight_in_lbs\": 3651, \"Acceleration\": 17.7, \"Year\": \"1976-01-01T00:00:00\", \"Origin\": \"USA\"}, {\"Name\": \"ford granada ghia\", \"Miles_per_Gallon\": 18.0, \"Cylinders\": 6, \"Displacement\": 250.0, \"Horsepower\": 78.0, \"Weight_in_lbs\": 3574, \"Acceleration\": 21.0, \"Year\": \"1976-01-01T00:00:00\", \"Origin\": \"USA\"}, {\"Name\": \"pontiac ventura sj\", \"Miles_per_Gallon\": 18.5, \"Cylinders\": 6, \"Displacement\": 250.0, \"Horsepower\": 110.0, \"Weight_in_lbs\": 3645, \"Acceleration\": 16.2, \"Year\": \"1976-01-01T00:00:00\", \"Origin\": \"USA\"}, {\"Name\": \"amc pacer d/l\", \"Miles_per_Gallon\": 17.5, \"Cylinders\": 6, \"Displacement\": 258.0, \"Horsepower\": 95.0, \"Weight_in_lbs\": 3193, \"Acceleration\": 17.8, \"Year\": \"1976-01-01T00:00:00\", \"Origin\": \"USA\"}, {\"Name\": \"volkswagen rabbit\", \"Miles_per_Gallon\": 29.5, \"Cylinders\": 4, \"Displacement\": 97.0, \"Horsepower\": 71.0, \"Weight_in_lbs\": 1825, \"Acceleration\": 12.2, \"Year\": \"1976-01-01T00:00:00\", \"Origin\": \"Europe\"}, {\"Name\": \"datsun b-210\", \"Miles_per_Gallon\": 32.0, \"Cylinders\": 4, \"Displacement\": 85.0, \"Horsepower\": 70.0, \"Weight_in_lbs\": 1990, \"Acceleration\": 17.0, \"Year\": \"1976-01-01T00:00:00\", \"Origin\": \"Japan\"}, {\"Name\": \"toyota corolla\", \"Miles_per_Gallon\": 28.0, \"Cylinders\": 4, \"Displacement\": 97.0, \"Horsepower\": 75.0, \"Weight_in_lbs\": 2155, \"Acceleration\": 16.4, \"Year\": \"1976-01-01T00:00:00\", \"Origin\": \"Japan\"}, {\"Name\": \"ford pinto\", \"Miles_per_Gallon\": 26.5, \"Cylinders\": 4, \"Displacement\": 140.0, \"Horsepower\": 72.0, \"Weight_in_lbs\": 2565, \"Acceleration\": 13.6, \"Year\": \"1976-01-01T00:00:00\", \"Origin\": \"USA\"}, {\"Name\": \"volvo 245\", \"Miles_per_Gallon\": 20.0, \"Cylinders\": 4, \"Displacement\": 130.0, \"Horsepower\": 102.0, \"Weight_in_lbs\": 3150, \"Acceleration\": 15.7, \"Year\": \"1976-01-01T00:00:00\", \"Origin\": \"Europe\"}, {\"Name\": \"plymouth volare premier v8\", \"Miles_per_Gallon\": 13.0, \"Cylinders\": 8, \"Displacement\": 318.0, \"Horsepower\": 150.0, \"Weight_in_lbs\": 3940, \"Acceleration\": 13.2, \"Year\": \"1976-01-01T00:00:00\", \"Origin\": \"USA\"}, {\"Name\": \"peugeot 504\", \"Miles_per_Gallon\": 19.0, \"Cylinders\": 4, \"Displacement\": 120.0, \"Horsepower\": 88.0, \"Weight_in_lbs\": 3270, \"Acceleration\": 21.9, \"Year\": \"1976-01-01T00:00:00\", \"Origin\": \"Europe\"}, {\"Name\": \"toyota mark ii\", \"Miles_per_Gallon\": 19.0, \"Cylinders\": 6, \"Displacement\": 156.0, \"Horsepower\": 108.0, \"Weight_in_lbs\": 2930, \"Acceleration\": 15.5, \"Year\": \"1976-01-01T00:00:00\", \"Origin\": \"Japan\"}, {\"Name\": \"mercedes-benz 280s\", \"Miles_per_Gallon\": 16.5, \"Cylinders\": 6, \"Displacement\": 168.0, \"Horsepower\": 120.0, \"Weight_in_lbs\": 3820, \"Acceleration\": 16.7, \"Year\": \"1976-01-01T00:00:00\", \"Origin\": \"Europe\"}, {\"Name\": \"cadillac seville\", \"Miles_per_Gallon\": 16.5, \"Cylinders\": 8, \"Displacement\": 350.0, \"Horsepower\": 180.0, \"Weight_in_lbs\": 4380, \"Acceleration\": 12.1, \"Year\": \"1976-01-01T00:00:00\", \"Origin\": \"USA\"}, {\"Name\": \"chevy c10\", \"Miles_per_Gallon\": 13.0, \"Cylinders\": 8, \"Displacement\": 350.0, \"Horsepower\": 145.0, \"Weight_in_lbs\": 4055, \"Acceleration\": 12.0, \"Year\": \"1976-01-01T00:00:00\", \"Origin\": \"USA\"}, {\"Name\": \"ford f108\", \"Miles_per_Gallon\": 13.0, \"Cylinders\": 8, \"Displacement\": 302.0, \"Horsepower\": 130.0, \"Weight_in_lbs\": 3870, \"Acceleration\": 15.0, \"Year\": \"1976-01-01T00:00:00\", \"Origin\": \"USA\"}, {\"Name\": \"dodge d100\", \"Miles_per_Gallon\": 13.0, \"Cylinders\": 8, \"Displacement\": 318.0, \"Horsepower\": 150.0, \"Weight_in_lbs\": 3755, \"Acceleration\": 14.0, \"Year\": \"1976-01-01T00:00:00\", \"Origin\": \"USA\"}, {\"Name\": \"honda Accelerationord cvcc\", \"Miles_per_Gallon\": 31.5, \"Cylinders\": 4, \"Displacement\": 98.0, \"Horsepower\": 68.0, \"Weight_in_lbs\": 2045, \"Acceleration\": 18.5, \"Year\": \"1977-01-01T00:00:00\", \"Origin\": \"Japan\"}, {\"Name\": \"buick opel isuzu deluxe\", \"Miles_per_Gallon\": 30.0, \"Cylinders\": 4, \"Displacement\": 111.0, \"Horsepower\": 80.0, \"Weight_in_lbs\": 2155, \"Acceleration\": 14.8, \"Year\": \"1977-01-01T00:00:00\", \"Origin\": \"USA\"}, {\"Name\": \"renault 5 gtl\", \"Miles_per_Gallon\": 36.0, \"Cylinders\": 4, \"Displacement\": 79.0, \"Horsepower\": 58.0, \"Weight_in_lbs\": 1825, \"Acceleration\": 18.6, \"Year\": \"1977-01-01T00:00:00\", \"Origin\": \"Europe\"}, {\"Name\": \"plymouth arrow gs\", \"Miles_per_Gallon\": 25.5, \"Cylinders\": 4, \"Displacement\": 122.0, \"Horsepower\": 96.0, \"Weight_in_lbs\": 2300, \"Acceleration\": 15.5, \"Year\": \"1977-01-01T00:00:00\", \"Origin\": \"USA\"}, {\"Name\": \"datsun f-10 hatchback\", \"Miles_per_Gallon\": 33.5, \"Cylinders\": 4, \"Displacement\": 85.0, \"Horsepower\": 70.0, \"Weight_in_lbs\": 1945, \"Acceleration\": 16.8, \"Year\": \"1977-01-01T00:00:00\", \"Origin\": \"Japan\"}, {\"Name\": \"chevrolet caprice classic\", \"Miles_per_Gallon\": 17.5, \"Cylinders\": 8, \"Displacement\": 305.0, \"Horsepower\": 145.0, \"Weight_in_lbs\": 3880, \"Acceleration\": 12.5, \"Year\": \"1977-01-01T00:00:00\", \"Origin\": \"USA\"}, {\"Name\": \"oldsmobile cutlass supreme\", \"Miles_per_Gallon\": 17.0, \"Cylinders\": 8, \"Displacement\": 260.0, \"Horsepower\": 110.0, \"Weight_in_lbs\": 4060, \"Acceleration\": 19.0, \"Year\": \"1977-01-01T00:00:00\", \"Origin\": \"USA\"}, {\"Name\": \"dodge monaco brougham\", \"Miles_per_Gallon\": 15.5, \"Cylinders\": 8, \"Displacement\": 318.0, \"Horsepower\": 145.0, \"Weight_in_lbs\": 4140, \"Acceleration\": 13.7, \"Year\": \"1977-01-01T00:00:00\", \"Origin\": \"USA\"}, {\"Name\": \"mercury cougar brougham\", \"Miles_per_Gallon\": 15.0, \"Cylinders\": 8, \"Displacement\": 302.0, \"Horsepower\": 130.0, \"Weight_in_lbs\": 4295, \"Acceleration\": 14.9, \"Year\": \"1977-01-01T00:00:00\", \"Origin\": \"USA\"}, {\"Name\": \"chevrolet concours\", \"Miles_per_Gallon\": 17.5, \"Cylinders\": 6, \"Displacement\": 250.0, \"Horsepower\": 110.0, \"Weight_in_lbs\": 3520, \"Acceleration\": 16.4, \"Year\": \"1977-01-01T00:00:00\", \"Origin\": \"USA\"}, {\"Name\": \"buick skylark\", \"Miles_per_Gallon\": 20.5, \"Cylinders\": 6, \"Displacement\": 231.0, \"Horsepower\": 105.0, \"Weight_in_lbs\": 3425, \"Acceleration\": 16.9, \"Year\": \"1977-01-01T00:00:00\", \"Origin\": \"USA\"}, {\"Name\": \"plymouth volare custom\", \"Miles_per_Gallon\": 19.0, \"Cylinders\": 6, \"Displacement\": 225.0, \"Horsepower\": 100.0, \"Weight_in_lbs\": 3630, \"Acceleration\": 17.7, \"Year\": \"1977-01-01T00:00:00\", \"Origin\": \"USA\"}, {\"Name\": \"ford granada\", \"Miles_per_Gallon\": 18.5, \"Cylinders\": 6, \"Displacement\": 250.0, \"Horsepower\": 98.0, \"Weight_in_lbs\": 3525, \"Acceleration\": 19.0, \"Year\": \"1977-01-01T00:00:00\", \"Origin\": \"USA\"}, {\"Name\": \"pontiac grand prix lj\", \"Miles_per_Gallon\": 16.0, \"Cylinders\": 8, \"Displacement\": 400.0, \"Horsepower\": 180.0, \"Weight_in_lbs\": 4220, \"Acceleration\": 11.1, \"Year\": \"1977-01-01T00:00:00\", \"Origin\": \"USA\"}, {\"Name\": \"chevrolet monte carlo landau\", \"Miles_per_Gallon\": 15.5, \"Cylinders\": 8, \"Displacement\": 350.0, \"Horsepower\": 170.0, \"Weight_in_lbs\": 4165, \"Acceleration\": 11.4, \"Year\": \"1977-01-01T00:00:00\", \"Origin\": \"USA\"}, {\"Name\": \"chrysler cordoba\", \"Miles_per_Gallon\": 15.5, \"Cylinders\": 8, \"Displacement\": 400.0, \"Horsepower\": 190.0, \"Weight_in_lbs\": 4325, \"Acceleration\": 12.2, \"Year\": \"1977-01-01T00:00:00\", \"Origin\": \"USA\"}, {\"Name\": \"ford thunderbird\", \"Miles_per_Gallon\": 16.0, \"Cylinders\": 8, \"Displacement\": 351.0, \"Horsepower\": 149.0, \"Weight_in_lbs\": 4335, \"Acceleration\": 14.5, \"Year\": \"1977-01-01T00:00:00\", \"Origin\": \"USA\"}, {\"Name\": \"volkswagen rabbit custom\", \"Miles_per_Gallon\": 29.0, \"Cylinders\": 4, \"Displacement\": 97.0, \"Horsepower\": 78.0, \"Weight_in_lbs\": 1940, \"Acceleration\": 14.5, \"Year\": \"1977-01-01T00:00:00\", \"Origin\": \"Europe\"}, {\"Name\": \"pontiac sunbird coupe\", \"Miles_per_Gallon\": 24.5, \"Cylinders\": 4, \"Displacement\": 151.0, \"Horsepower\": 88.0, \"Weight_in_lbs\": 2740, \"Acceleration\": 16.0, \"Year\": \"1977-01-01T00:00:00\", \"Origin\": \"USA\"}, {\"Name\": \"toyota corolla liftback\", \"Miles_per_Gallon\": 26.0, \"Cylinders\": 4, \"Displacement\": 97.0, \"Horsepower\": 75.0, \"Weight_in_lbs\": 2265, \"Acceleration\": 18.2, \"Year\": \"1977-01-01T00:00:00\", \"Origin\": \"Japan\"}, {\"Name\": \"ford mustang ii 2+2\", \"Miles_per_Gallon\": 25.5, \"Cylinders\": 4, \"Displacement\": 140.0, \"Horsepower\": 89.0, \"Weight_in_lbs\": 2755, \"Acceleration\": 15.8, \"Year\": \"1977-01-01T00:00:00\", \"Origin\": \"USA\"}, {\"Name\": \"chevrolet chevette\", \"Miles_per_Gallon\": 30.5, \"Cylinders\": 4, \"Displacement\": 98.0, \"Horsepower\": 63.0, \"Weight_in_lbs\": 2051, \"Acceleration\": 17.0, \"Year\": \"1977-01-01T00:00:00\", \"Origin\": \"USA\"}, {\"Name\": \"dodge colt m/m\", \"Miles_per_Gallon\": 33.5, \"Cylinders\": 4, \"Displacement\": 98.0, \"Horsepower\": 83.0, \"Weight_in_lbs\": 2075, \"Acceleration\": 15.9, \"Year\": \"1977-01-01T00:00:00\", \"Origin\": \"USA\"}, {\"Name\": \"subaru dl\", \"Miles_per_Gallon\": 30.0, \"Cylinders\": 4, \"Displacement\": 97.0, \"Horsepower\": 67.0, \"Weight_in_lbs\": 1985, \"Acceleration\": 16.4, \"Year\": \"1977-01-01T00:00:00\", \"Origin\": \"Japan\"}, {\"Name\": \"volkswagen dasher\", \"Miles_per_Gallon\": 30.5, \"Cylinders\": 4, \"Displacement\": 97.0, \"Horsepower\": 78.0, \"Weight_in_lbs\": 2190, \"Acceleration\": 14.1, \"Year\": \"1977-01-01T00:00:00\", \"Origin\": \"Europe\"}, {\"Name\": \"datsun 810\", \"Miles_per_Gallon\": 22.0, \"Cylinders\": 6, \"Displacement\": 146.0, \"Horsepower\": 97.0, \"Weight_in_lbs\": 2815, \"Acceleration\": 14.5, \"Year\": \"1977-01-01T00:00:00\", \"Origin\": \"Japan\"}, {\"Name\": \"bmw 320i\", \"Miles_per_Gallon\": 21.5, \"Cylinders\": 4, \"Displacement\": 121.0, \"Horsepower\": 110.0, \"Weight_in_lbs\": 2600, \"Acceleration\": 12.8, \"Year\": \"1977-01-01T00:00:00\", \"Origin\": \"Europe\"}, {\"Name\": \"mazda rx-4\", \"Miles_per_Gallon\": 21.5, \"Cylinders\": 3, \"Displacement\": 80.0, \"Horsepower\": 110.0, \"Weight_in_lbs\": 2720, \"Acceleration\": 13.5, \"Year\": \"1977-01-01T00:00:00\", \"Origin\": \"Japan\"}, {\"Name\": \"volkswagen rabbit custom diesel\", \"Miles_per_Gallon\": 43.1, \"Cylinders\": 4, \"Displacement\": 90.0, \"Horsepower\": 48.0, \"Weight_in_lbs\": 1985, \"Acceleration\": 21.5, \"Year\": \"1978-01-01T00:00:00\", \"Origin\": \"Europe\"}, {\"Name\": \"ford fiesta\", \"Miles_per_Gallon\": 36.1, \"Cylinders\": 4, \"Displacement\": 98.0, \"Horsepower\": 66.0, \"Weight_in_lbs\": 1800, \"Acceleration\": 14.4, \"Year\": \"1978-01-01T00:00:00\", \"Origin\": \"USA\"}, {\"Name\": \"mazda glc deluxe\", \"Miles_per_Gallon\": 32.8, \"Cylinders\": 4, \"Displacement\": 78.0, \"Horsepower\": 52.0, \"Weight_in_lbs\": 1985, \"Acceleration\": 19.4, \"Year\": \"1978-01-01T00:00:00\", \"Origin\": \"Japan\"}, {\"Name\": \"datsun b210 gx\", \"Miles_per_Gallon\": 39.4, \"Cylinders\": 4, \"Displacement\": 85.0, \"Horsepower\": 70.0, \"Weight_in_lbs\": 2070, \"Acceleration\": 18.6, \"Year\": \"1978-01-01T00:00:00\", \"Origin\": \"Japan\"}, {\"Name\": \"honda civic cvcc\", \"Miles_per_Gallon\": 36.1, \"Cylinders\": 4, \"Displacement\": 91.0, \"Horsepower\": 60.0, \"Weight_in_lbs\": 1800, \"Acceleration\": 16.4, \"Year\": \"1978-01-01T00:00:00\", \"Origin\": \"Japan\"}, {\"Name\": \"oldsmobile cutlass salon brougham\", \"Miles_per_Gallon\": 19.9, \"Cylinders\": 8, \"Displacement\": 260.0, \"Horsepower\": 110.0, \"Weight_in_lbs\": 3365, \"Acceleration\": 15.5, \"Year\": \"1978-01-01T00:00:00\", \"Origin\": \"USA\"}, {\"Name\": \"dodge diplomat\", \"Miles_per_Gallon\": 19.4, \"Cylinders\": 8, \"Displacement\": 318.0, \"Horsepower\": 140.0, \"Weight_in_lbs\": 3735, \"Acceleration\": 13.2, \"Year\": \"1978-01-01T00:00:00\", \"Origin\": \"USA\"}, {\"Name\": \"mercury monarch ghia\", \"Miles_per_Gallon\": 20.2, \"Cylinders\": 8, \"Displacement\": 302.0, \"Horsepower\": 139.0, \"Weight_in_lbs\": 3570, \"Acceleration\": 12.8, \"Year\": \"1978-01-01T00:00:00\", \"Origin\": \"USA\"}, {\"Name\": \"pontiac phoenix lj\", \"Miles_per_Gallon\": 19.2, \"Cylinders\": 6, \"Displacement\": 231.0, \"Horsepower\": 105.0, \"Weight_in_lbs\": 3535, \"Acceleration\": 19.2, \"Year\": \"1978-01-01T00:00:00\", \"Origin\": \"USA\"}, {\"Name\": \"chevrolet malibu\", \"Miles_per_Gallon\": 20.5, \"Cylinders\": 6, \"Displacement\": 200.0, \"Horsepower\": 95.0, \"Weight_in_lbs\": 3155, \"Acceleration\": 18.2, \"Year\": \"1978-01-01T00:00:00\", \"Origin\": \"USA\"}, {\"Name\": \"ford fairmont (auto)\", \"Miles_per_Gallon\": 20.2, \"Cylinders\": 6, \"Displacement\": 200.0, \"Horsepower\": 85.0, \"Weight_in_lbs\": 2965, \"Acceleration\": 15.8, \"Year\": \"1978-01-01T00:00:00\", \"Origin\": \"USA\"}, {\"Name\": \"ford fairmont (man)\", \"Miles_per_Gallon\": 25.1, \"Cylinders\": 4, \"Displacement\": 140.0, \"Horsepower\": 88.0, \"Weight_in_lbs\": 2720, \"Acceleration\": 15.4, \"Year\": \"1978-01-01T00:00:00\", \"Origin\": \"USA\"}, {\"Name\": \"plymouth volare\", \"Miles_per_Gallon\": 20.5, \"Cylinders\": 6, \"Displacement\": 225.0, \"Horsepower\": 100.0, \"Weight_in_lbs\": 3430, \"Acceleration\": 17.2, \"Year\": \"1978-01-01T00:00:00\", \"Origin\": \"USA\"}, {\"Name\": \"amc concord\", \"Miles_per_Gallon\": 19.4, \"Cylinders\": 6, \"Displacement\": 232.0, \"Horsepower\": 90.0, \"Weight_in_lbs\": 3210, \"Acceleration\": 17.2, \"Year\": \"1978-01-01T00:00:00\", \"Origin\": \"USA\"}, {\"Name\": \"buick century special\", \"Miles_per_Gallon\": 20.6, \"Cylinders\": 6, \"Displacement\": 231.0, \"Horsepower\": 105.0, \"Weight_in_lbs\": 3380, \"Acceleration\": 15.8, \"Year\": \"1978-01-01T00:00:00\", \"Origin\": \"USA\"}, {\"Name\": \"mercury zephyr\", \"Miles_per_Gallon\": 20.8, \"Cylinders\": 6, \"Displacement\": 200.0, \"Horsepower\": 85.0, \"Weight_in_lbs\": 3070, \"Acceleration\": 16.7, \"Year\": \"1978-01-01T00:00:00\", \"Origin\": \"USA\"}, {\"Name\": \"dodge aspen\", \"Miles_per_Gallon\": 18.6, \"Cylinders\": 6, \"Displacement\": 225.0, \"Horsepower\": 110.0, \"Weight_in_lbs\": 3620, \"Acceleration\": 18.7, \"Year\": \"1978-01-01T00:00:00\", \"Origin\": \"USA\"}, {\"Name\": \"amc concord d/l\", \"Miles_per_Gallon\": 18.1, \"Cylinders\": 6, \"Displacement\": 258.0, \"Horsepower\": 120.0, \"Weight_in_lbs\": 3410, \"Acceleration\": 15.1, \"Year\": \"1978-01-01T00:00:00\", \"Origin\": \"USA\"}, {\"Name\": \"chevrolet monte carlo landau\", \"Miles_per_Gallon\": 19.2, \"Cylinders\": 8, \"Displacement\": 305.0, \"Horsepower\": 145.0, \"Weight_in_lbs\": 3425, \"Acceleration\": 13.2, \"Year\": \"1978-01-01T00:00:00\", \"Origin\": \"USA\"}, {\"Name\": \"buick regal sport coupe (turbo)\", \"Miles_per_Gallon\": 17.7, \"Cylinders\": 6, \"Displacement\": 231.0, \"Horsepower\": 165.0, \"Weight_in_lbs\": 3445, \"Acceleration\": 13.4, \"Year\": \"1978-01-01T00:00:00\", \"Origin\": \"USA\"}, {\"Name\": \"ford futura\", \"Miles_per_Gallon\": 18.1, \"Cylinders\": 8, \"Displacement\": 302.0, \"Horsepower\": 139.0, \"Weight_in_lbs\": 3205, \"Acceleration\": 11.2, \"Year\": \"1978-01-01T00:00:00\", \"Origin\": \"USA\"}, {\"Name\": \"dodge magnum xe\", \"Miles_per_Gallon\": 17.5, \"Cylinders\": 8, \"Displacement\": 318.0, \"Horsepower\": 140.0, \"Weight_in_lbs\": 4080, \"Acceleration\": 13.7, \"Year\": \"1978-01-01T00:00:00\", \"Origin\": \"USA\"}, {\"Name\": \"chevrolet chevette\", \"Miles_per_Gallon\": 30.0, \"Cylinders\": 4, \"Displacement\": 98.0, \"Horsepower\": 68.0, \"Weight_in_lbs\": 2155, \"Acceleration\": 16.5, \"Year\": \"1978-01-01T00:00:00\", \"Origin\": \"USA\"}, {\"Name\": \"toyota corona\", \"Miles_per_Gallon\": 27.5, \"Cylinders\": 4, \"Displacement\": 134.0, \"Horsepower\": 95.0, \"Weight_in_lbs\": 2560, \"Acceleration\": 14.2, \"Year\": \"1978-01-01T00:00:00\", \"Origin\": \"Japan\"}, {\"Name\": \"datsun 510\", \"Miles_per_Gallon\": 27.2, \"Cylinders\": 4, \"Displacement\": 119.0, \"Horsepower\": 97.0, \"Weight_in_lbs\": 2300, \"Acceleration\": 14.7, \"Year\": \"1978-01-01T00:00:00\", \"Origin\": \"Japan\"}, {\"Name\": \"dodge omni\", \"Miles_per_Gallon\": 30.9, \"Cylinders\": 4, \"Displacement\": 105.0, \"Horsepower\": 75.0, \"Weight_in_lbs\": 2230, \"Acceleration\": 14.5, \"Year\": \"1978-01-01T00:00:00\", \"Origin\": \"USA\"}, {\"Name\": \"toyota celica gt liftback\", \"Miles_per_Gallon\": 21.1, \"Cylinders\": 4, \"Displacement\": 134.0, \"Horsepower\": 95.0, \"Weight_in_lbs\": 2515, \"Acceleration\": 14.8, \"Year\": \"1978-01-01T00:00:00\", \"Origin\": \"Japan\"}, {\"Name\": \"plymouth sapporo\", \"Miles_per_Gallon\": 23.2, \"Cylinders\": 4, \"Displacement\": 156.0, \"Horsepower\": 105.0, \"Weight_in_lbs\": 2745, \"Acceleration\": 16.7, \"Year\": \"1978-01-01T00:00:00\", \"Origin\": \"USA\"}, {\"Name\": \"oldsmobile starfire sx\", \"Miles_per_Gallon\": 23.8, \"Cylinders\": 4, \"Displacement\": 151.0, \"Horsepower\": 85.0, \"Weight_in_lbs\": 2855, \"Acceleration\": 17.6, \"Year\": \"1978-01-01T00:00:00\", \"Origin\": \"USA\"}, {\"Name\": \"datsun 200-sx\", \"Miles_per_Gallon\": 23.9, \"Cylinders\": 4, \"Displacement\": 119.0, \"Horsepower\": 97.0, \"Weight_in_lbs\": 2405, \"Acceleration\": 14.9, \"Year\": \"1978-01-01T00:00:00\", \"Origin\": \"Japan\"}, {\"Name\": \"audi 5000\", \"Miles_per_Gallon\": 20.3, \"Cylinders\": 5, \"Displacement\": 131.0, \"Horsepower\": 103.0, \"Weight_in_lbs\": 2830, \"Acceleration\": 15.9, \"Year\": \"1978-01-01T00:00:00\", \"Origin\": \"Europe\"}, {\"Name\": \"volvo 264gl\", \"Miles_per_Gallon\": 17.0, \"Cylinders\": 6, \"Displacement\": 163.0, \"Horsepower\": 125.0, \"Weight_in_lbs\": 3140, \"Acceleration\": 13.6, \"Year\": \"1978-01-01T00:00:00\", \"Origin\": \"Europe\"}, {\"Name\": \"saab 99gle\", \"Miles_per_Gallon\": 21.6, \"Cylinders\": 4, \"Displacement\": 121.0, \"Horsepower\": 115.0, \"Weight_in_lbs\": 2795, \"Acceleration\": 15.7, \"Year\": \"1978-01-01T00:00:00\", \"Origin\": \"Europe\"}, {\"Name\": \"peugeot 604sl\", \"Miles_per_Gallon\": 16.2, \"Cylinders\": 6, \"Displacement\": 163.0, \"Horsepower\": 133.0, \"Weight_in_lbs\": 3410, \"Acceleration\": 15.8, \"Year\": \"1978-01-01T00:00:00\", \"Origin\": \"Europe\"}, {\"Name\": \"volkswagen scirocco\", \"Miles_per_Gallon\": 31.5, \"Cylinders\": 4, \"Displacement\": 89.0, \"Horsepower\": 71.0, \"Weight_in_lbs\": 1990, \"Acceleration\": 14.9, \"Year\": \"1978-01-01T00:00:00\", \"Origin\": \"Europe\"}, {\"Name\": \"honda Accelerationord lx\", \"Miles_per_Gallon\": 29.5, \"Cylinders\": 4, \"Displacement\": 98.0, \"Horsepower\": 68.0, \"Weight_in_lbs\": 2135, \"Acceleration\": 16.6, \"Year\": \"1978-01-01T00:00:00\", \"Origin\": \"Japan\"}, {\"Name\": \"pontiac lemans v6\", \"Miles_per_Gallon\": 21.5, \"Cylinders\": 6, \"Displacement\": 231.0, \"Horsepower\": 115.0, \"Weight_in_lbs\": 3245, \"Acceleration\": 15.4, \"Year\": \"1979-01-01T00:00:00\", \"Origin\": \"USA\"}, {\"Name\": \"mercury zephyr 6\", \"Miles_per_Gallon\": 19.8, \"Cylinders\": 6, \"Displacement\": 200.0, \"Horsepower\": 85.0, \"Weight_in_lbs\": 2990, \"Acceleration\": 18.2, \"Year\": \"1979-01-01T00:00:00\", \"Origin\": \"USA\"}, {\"Name\": \"ford fairmont 4\", \"Miles_per_Gallon\": 22.3, \"Cylinders\": 4, \"Displacement\": 140.0, \"Horsepower\": 88.0, \"Weight_in_lbs\": 2890, \"Acceleration\": 17.3, \"Year\": \"1979-01-01T00:00:00\", \"Origin\": \"USA\"}, {\"Name\": \"amc concord dl 6\", \"Miles_per_Gallon\": 20.2, \"Cylinders\": 6, \"Displacement\": 232.0, \"Horsepower\": 90.0, \"Weight_in_lbs\": 3265, \"Acceleration\": 18.2, \"Year\": \"1979-01-01T00:00:00\", \"Origin\": \"USA\"}, {\"Name\": \"dodge aspen 6\", \"Miles_per_Gallon\": 20.6, \"Cylinders\": 6, \"Displacement\": 225.0, \"Horsepower\": 110.0, \"Weight_in_lbs\": 3360, \"Acceleration\": 16.6, \"Year\": \"1979-01-01T00:00:00\", \"Origin\": \"USA\"}, {\"Name\": \"chevrolet caprice classic\", \"Miles_per_Gallon\": 17.0, \"Cylinders\": 8, \"Displacement\": 305.0, \"Horsepower\": 130.0, \"Weight_in_lbs\": 3840, \"Acceleration\": 15.4, \"Year\": \"1979-01-01T00:00:00\", \"Origin\": \"USA\"}, {\"Name\": \"ford ltd landau\", \"Miles_per_Gallon\": 17.6, \"Cylinders\": 8, \"Displacement\": 302.0, \"Horsepower\": 129.0, \"Weight_in_lbs\": 3725, \"Acceleration\": 13.4, \"Year\": \"1979-01-01T00:00:00\", \"Origin\": \"USA\"}, {\"Name\": \"mercury grand marquis\", \"Miles_per_Gallon\": 16.5, \"Cylinders\": 8, \"Displacement\": 351.0, \"Horsepower\": 138.0, \"Weight_in_lbs\": 3955, \"Acceleration\": 13.2, \"Year\": \"1979-01-01T00:00:00\", \"Origin\": \"USA\"}, {\"Name\": \"dodge st. regis\", \"Miles_per_Gallon\": 18.2, \"Cylinders\": 8, \"Displacement\": 318.0, \"Horsepower\": 135.0, \"Weight_in_lbs\": 3830, \"Acceleration\": 15.2, \"Year\": \"1979-01-01T00:00:00\", \"Origin\": \"USA\"}, {\"Name\": \"buick estate wagon (sw)\", \"Miles_per_Gallon\": 16.9, \"Cylinders\": 8, \"Displacement\": 350.0, \"Horsepower\": 155.0, \"Weight_in_lbs\": 4360, \"Acceleration\": 14.9, \"Year\": \"1979-01-01T00:00:00\", \"Origin\": \"USA\"}, {\"Name\": \"ford country squire (sw)\", \"Miles_per_Gallon\": 15.5, \"Cylinders\": 8, \"Displacement\": 351.0, \"Horsepower\": 142.0, \"Weight_in_lbs\": 4054, \"Acceleration\": 14.3, \"Year\": \"1979-01-01T00:00:00\", \"Origin\": \"USA\"}, {\"Name\": \"chevrolet malibu classic (sw)\", \"Miles_per_Gallon\": 19.2, \"Cylinders\": 8, \"Displacement\": 267.0, \"Horsepower\": 125.0, \"Weight_in_lbs\": 3605, \"Acceleration\": 15.0, \"Year\": \"1979-01-01T00:00:00\", \"Origin\": \"USA\"}, {\"Name\": \"chrysler lebaron town @ country (sw)\", \"Miles_per_Gallon\": 18.5, \"Cylinders\": 8, \"Displacement\": 360.0, \"Horsepower\": 150.0, \"Weight_in_lbs\": 3940, \"Acceleration\": 13.0, \"Year\": \"1979-01-01T00:00:00\", \"Origin\": \"USA\"}, {\"Name\": \"vw rabbit custom\", \"Miles_per_Gallon\": 31.9, \"Cylinders\": 4, \"Displacement\": 89.0, \"Horsepower\": 71.0, \"Weight_in_lbs\": 1925, \"Acceleration\": 14.0, \"Year\": \"1979-01-01T00:00:00\", \"Origin\": \"Europe\"}, {\"Name\": \"maxda glc deluxe\", \"Miles_per_Gallon\": 34.1, \"Cylinders\": 4, \"Displacement\": 86.0, \"Horsepower\": 65.0, \"Weight_in_lbs\": 1975, \"Acceleration\": 15.2, \"Year\": \"1979-01-01T00:00:00\", \"Origin\": \"Japan\"}, {\"Name\": \"dodge colt hatchback custom\", \"Miles_per_Gallon\": 35.7, \"Cylinders\": 4, \"Displacement\": 98.0, \"Horsepower\": 80.0, \"Weight_in_lbs\": 1915, \"Acceleration\": 14.4, \"Year\": \"1979-01-01T00:00:00\", \"Origin\": \"USA\"}, {\"Name\": \"amc spirit dl\", \"Miles_per_Gallon\": 27.4, \"Cylinders\": 4, \"Displacement\": 121.0, \"Horsepower\": 80.0, \"Weight_in_lbs\": 2670, \"Acceleration\": 15.0, \"Year\": \"1979-01-01T00:00:00\", \"Origin\": \"USA\"}, {\"Name\": \"mercedes benz 300d\", \"Miles_per_Gallon\": 25.4, \"Cylinders\": 5, \"Displacement\": 183.0, \"Horsepower\": 77.0, \"Weight_in_lbs\": 3530, \"Acceleration\": 20.1, \"Year\": \"1979-01-01T00:00:00\", \"Origin\": \"Europe\"}, {\"Name\": \"cadillac eldorado\", \"Miles_per_Gallon\": 23.0, \"Cylinders\": 8, \"Displacement\": 350.0, \"Horsepower\": 125.0, \"Weight_in_lbs\": 3900, \"Acceleration\": 17.4, \"Year\": \"1979-01-01T00:00:00\", \"Origin\": \"USA\"}, {\"Name\": \"peugeot 504\", \"Miles_per_Gallon\": 27.2, \"Cylinders\": 4, \"Displacement\": 141.0, \"Horsepower\": 71.0, \"Weight_in_lbs\": 3190, \"Acceleration\": 24.8, \"Year\": \"1979-01-01T00:00:00\", \"Origin\": \"Europe\"}, {\"Name\": \"oldsmobile cutlass salon brougham\", \"Miles_per_Gallon\": 23.9, \"Cylinders\": 8, \"Displacement\": 260.0, \"Horsepower\": 90.0, \"Weight_in_lbs\": 3420, \"Acceleration\": 22.2, \"Year\": \"1979-01-01T00:00:00\", \"Origin\": \"USA\"}, {\"Name\": \"plymouth horizon\", \"Miles_per_Gallon\": 34.2, \"Cylinders\": 4, \"Displacement\": 105.0, \"Horsepower\": 70.0, \"Weight_in_lbs\": 2200, \"Acceleration\": 13.2, \"Year\": \"1979-01-01T00:00:00\", \"Origin\": \"USA\"}, {\"Name\": \"plymouth horizon tc3\", \"Miles_per_Gallon\": 34.5, \"Cylinders\": 4, \"Displacement\": 105.0, \"Horsepower\": 70.0, \"Weight_in_lbs\": 2150, \"Acceleration\": 14.9, \"Year\": \"1979-01-01T00:00:00\", \"Origin\": \"USA\"}, {\"Name\": \"datsun 210\", \"Miles_per_Gallon\": 31.8, \"Cylinders\": 4, \"Displacement\": 85.0, \"Horsepower\": 65.0, \"Weight_in_lbs\": 2020, \"Acceleration\": 19.2, \"Year\": \"1979-01-01T00:00:00\", \"Origin\": \"Japan\"}, {\"Name\": \"fiat strada custom\", \"Miles_per_Gallon\": 37.3, \"Cylinders\": 4, \"Displacement\": 91.0, \"Horsepower\": 69.0, \"Weight_in_lbs\": 2130, \"Acceleration\": 14.7, \"Year\": \"1979-01-01T00:00:00\", \"Origin\": \"Europe\"}, {\"Name\": \"buick skylark limited\", \"Miles_per_Gallon\": 28.4, \"Cylinders\": 4, \"Displacement\": 151.0, \"Horsepower\": 90.0, \"Weight_in_lbs\": 2670, \"Acceleration\": 16.0, \"Year\": \"1979-01-01T00:00:00\", \"Origin\": \"USA\"}, {\"Name\": \"chevrolet citation\", \"Miles_per_Gallon\": 28.8, \"Cylinders\": 6, \"Displacement\": 173.0, \"Horsepower\": 115.0, \"Weight_in_lbs\": 2595, \"Acceleration\": 11.3, \"Year\": \"1979-01-01T00:00:00\", \"Origin\": \"USA\"}, {\"Name\": \"oldsmobile omega brougham\", \"Miles_per_Gallon\": 26.8, \"Cylinders\": 6, \"Displacement\": 173.0, \"Horsepower\": 115.0, \"Weight_in_lbs\": 2700, \"Acceleration\": 12.9, \"Year\": \"1979-01-01T00:00:00\", \"Origin\": \"USA\"}, {\"Name\": \"pontiac phoenix\", \"Miles_per_Gallon\": 33.5, \"Cylinders\": 4, \"Displacement\": 151.0, \"Horsepower\": 90.0, \"Weight_in_lbs\": 2556, \"Acceleration\": 13.2, \"Year\": \"1979-01-01T00:00:00\", \"Origin\": \"USA\"}, {\"Name\": \"vw rabbit\", \"Miles_per_Gallon\": 41.5, \"Cylinders\": 4, \"Displacement\": 98.0, \"Horsepower\": 76.0, \"Weight_in_lbs\": 2144, \"Acceleration\": 14.7, \"Year\": \"1980-01-01T00:00:00\", \"Origin\": \"Europe\"}, {\"Name\": \"toyota corolla tercel\", \"Miles_per_Gallon\": 38.1, \"Cylinders\": 4, \"Displacement\": 89.0, \"Horsepower\": 60.0, \"Weight_in_lbs\": 1968, \"Acceleration\": 18.8, \"Year\": \"1980-01-01T00:00:00\", \"Origin\": \"Japan\"}, {\"Name\": \"chevrolet chevette\", \"Miles_per_Gallon\": 32.1, \"Cylinders\": 4, \"Displacement\": 98.0, \"Horsepower\": 70.0, \"Weight_in_lbs\": 2120, \"Acceleration\": 15.5, \"Year\": \"1980-01-01T00:00:00\", \"Origin\": \"USA\"}, {\"Name\": \"datsun 310\", \"Miles_per_Gallon\": 37.2, \"Cylinders\": 4, \"Displacement\": 86.0, \"Horsepower\": 65.0, \"Weight_in_lbs\": 2019, \"Acceleration\": 16.4, \"Year\": \"1980-01-01T00:00:00\", \"Origin\": \"Japan\"}, {\"Name\": \"chevrolet citation\", \"Miles_per_Gallon\": 28.0, \"Cylinders\": 4, \"Displacement\": 151.0, \"Horsepower\": 90.0, \"Weight_in_lbs\": 2678, \"Acceleration\": 16.5, \"Year\": \"1980-01-01T00:00:00\", \"Origin\": \"USA\"}, {\"Name\": \"ford fairmont\", \"Miles_per_Gallon\": 26.4, \"Cylinders\": 4, \"Displacement\": 140.0, \"Horsepower\": 88.0, \"Weight_in_lbs\": 2870, \"Acceleration\": 18.1, \"Year\": \"1980-01-01T00:00:00\", \"Origin\": \"USA\"}, {\"Name\": \"amc concord\", \"Miles_per_Gallon\": 24.3, \"Cylinders\": 4, \"Displacement\": 151.0, \"Horsepower\": 90.0, \"Weight_in_lbs\": 3003, \"Acceleration\": 20.1, \"Year\": \"1980-01-01T00:00:00\", \"Origin\": \"USA\"}, {\"Name\": \"dodge aspen\", \"Miles_per_Gallon\": 19.1, \"Cylinders\": 6, \"Displacement\": 225.0, \"Horsepower\": 90.0, \"Weight_in_lbs\": 3381, \"Acceleration\": 18.7, \"Year\": \"1980-01-01T00:00:00\", \"Origin\": \"USA\"}, {\"Name\": \"audi 4000\", \"Miles_per_Gallon\": 34.3, \"Cylinders\": 4, \"Displacement\": 97.0, \"Horsepower\": 78.0, \"Weight_in_lbs\": 2188, \"Acceleration\": 15.8, \"Year\": \"1980-01-01T00:00:00\", \"Origin\": \"Europe\"}, {\"Name\": \"toyota corona liftback\", \"Miles_per_Gallon\": 29.8, \"Cylinders\": 4, \"Displacement\": 134.0, \"Horsepower\": 90.0, \"Weight_in_lbs\": 2711, \"Acceleration\": 15.5, \"Year\": \"1980-01-01T00:00:00\", \"Origin\": \"Japan\"}, {\"Name\": \"mazda 626\", \"Miles_per_Gallon\": 31.3, \"Cylinders\": 4, \"Displacement\": 120.0, \"Horsepower\": 75.0, \"Weight_in_lbs\": 2542, \"Acceleration\": 17.5, \"Year\": \"1980-01-01T00:00:00\", \"Origin\": \"Japan\"}, {\"Name\": \"datsun 510 hatchback\", \"Miles_per_Gallon\": 37.0, \"Cylinders\": 4, \"Displacement\": 119.0, \"Horsepower\": 92.0, \"Weight_in_lbs\": 2434, \"Acceleration\": 15.0, \"Year\": \"1980-01-01T00:00:00\", \"Origin\": \"Japan\"}, {\"Name\": \"toyota corolla\", \"Miles_per_Gallon\": 32.2, \"Cylinders\": 4, \"Displacement\": 108.0, \"Horsepower\": 75.0, \"Weight_in_lbs\": 2265, \"Acceleration\": 15.2, \"Year\": \"1980-01-01T00:00:00\", \"Origin\": \"Japan\"}, {\"Name\": \"mazda glc\", \"Miles_per_Gallon\": 46.6, \"Cylinders\": 4, \"Displacement\": 86.0, \"Horsepower\": 65.0, \"Weight_in_lbs\": 2110, \"Acceleration\": 17.9, \"Year\": \"1980-01-01T00:00:00\", \"Origin\": \"Japan\"}, {\"Name\": \"dodge colt\", \"Miles_per_Gallon\": 27.9, \"Cylinders\": 4, \"Displacement\": 156.0, \"Horsepower\": 105.0, \"Weight_in_lbs\": 2800, \"Acceleration\": 14.4, \"Year\": \"1980-01-01T00:00:00\", \"Origin\": \"USA\"}, {\"Name\": \"datsun 210\", \"Miles_per_Gallon\": 40.8, \"Cylinders\": 4, \"Displacement\": 85.0, \"Horsepower\": 65.0, \"Weight_in_lbs\": 2110, \"Acceleration\": 19.2, \"Year\": \"1980-01-01T00:00:00\", \"Origin\": \"Japan\"}, {\"Name\": \"vw rabbit c (diesel)\", \"Miles_per_Gallon\": 44.3, \"Cylinders\": 4, \"Displacement\": 90.0, \"Horsepower\": 48.0, \"Weight_in_lbs\": 2085, \"Acceleration\": 21.7, \"Year\": \"1980-01-01T00:00:00\", \"Origin\": \"Europe\"}, {\"Name\": \"vw dasher (diesel)\", \"Miles_per_Gallon\": 43.4, \"Cylinders\": 4, \"Displacement\": 90.0, \"Horsepower\": 48.0, \"Weight_in_lbs\": 2335, \"Acceleration\": 23.7, \"Year\": \"1980-01-01T00:00:00\", \"Origin\": \"Europe\"}, {\"Name\": \"audi 5000s (diesel)\", \"Miles_per_Gallon\": 36.4, \"Cylinders\": 5, \"Displacement\": 121.0, \"Horsepower\": 67.0, \"Weight_in_lbs\": 2950, \"Acceleration\": 19.9, \"Year\": \"1980-01-01T00:00:00\", \"Origin\": \"Europe\"}, {\"Name\": \"mercedes-benz 240d\", \"Miles_per_Gallon\": 30.0, \"Cylinders\": 4, \"Displacement\": 146.0, \"Horsepower\": 67.0, \"Weight_in_lbs\": 3250, \"Acceleration\": 21.8, \"Year\": \"1980-01-01T00:00:00\", \"Origin\": \"Europe\"}, {\"Name\": \"honda civic 1500 gl\", \"Miles_per_Gallon\": 44.6, \"Cylinders\": 4, \"Displacement\": 91.0, \"Horsepower\": 67.0, \"Weight_in_lbs\": 1850, \"Acceleration\": 13.8, \"Year\": \"1980-01-01T00:00:00\", \"Origin\": \"Japan\"}, {\"Name\": \"renault lecar deluxe\", \"Miles_per_Gallon\": 40.9, \"Cylinders\": 4, \"Displacement\": 85.0, \"Horsepower\": null, \"Weight_in_lbs\": 1835, \"Acceleration\": 17.3, \"Year\": \"1980-01-01T00:00:00\", \"Origin\": \"Europe\"}, {\"Name\": \"subaru dl\", \"Miles_per_Gallon\": 33.8, \"Cylinders\": 4, \"Displacement\": 97.0, \"Horsepower\": 67.0, \"Weight_in_lbs\": 2145, \"Acceleration\": 18.0, \"Year\": \"1980-01-01T00:00:00\", \"Origin\": \"Japan\"}, {\"Name\": \"vokswagen rabbit\", \"Miles_per_Gallon\": 29.8, \"Cylinders\": 4, \"Displacement\": 89.0, \"Horsepower\": 62.0, \"Weight_in_lbs\": 1845, \"Acceleration\": 15.3, \"Year\": \"1980-01-01T00:00:00\", \"Origin\": \"Europe\"}, {\"Name\": \"datsun 280-zx\", \"Miles_per_Gallon\": 32.7, \"Cylinders\": 6, \"Displacement\": 168.0, \"Horsepower\": 132.0, \"Weight_in_lbs\": 2910, \"Acceleration\": 11.4, \"Year\": \"1980-01-01T00:00:00\", \"Origin\": \"Japan\"}, {\"Name\": \"mazda rx-7 gs\", \"Miles_per_Gallon\": 23.7, \"Cylinders\": 3, \"Displacement\": 70.0, \"Horsepower\": 100.0, \"Weight_in_lbs\": 2420, \"Acceleration\": 12.5, \"Year\": \"1980-01-01T00:00:00\", \"Origin\": \"Japan\"}, {\"Name\": \"triumph tr7 coupe\", \"Miles_per_Gallon\": 35.0, \"Cylinders\": 4, \"Displacement\": 122.0, \"Horsepower\": 88.0, \"Weight_in_lbs\": 2500, \"Acceleration\": 15.1, \"Year\": \"1980-01-01T00:00:00\", \"Origin\": \"Europe\"}, {\"Name\": \"ford mustang cobra\", \"Miles_per_Gallon\": 23.6, \"Cylinders\": 4, \"Displacement\": 140.0, \"Horsepower\": null, \"Weight_in_lbs\": 2905, \"Acceleration\": 14.3, \"Year\": \"1980-01-01T00:00:00\", \"Origin\": \"USA\"}, {\"Name\": \"honda Accelerationord\", \"Miles_per_Gallon\": 32.4, \"Cylinders\": 4, \"Displacement\": 107.0, \"Horsepower\": 72.0, \"Weight_in_lbs\": 2290, \"Acceleration\": 17.0, \"Year\": \"1980-01-01T00:00:00\", \"Origin\": \"Japan\"}, {\"Name\": \"plymouth reliant\", \"Miles_per_Gallon\": 27.2, \"Cylinders\": 4, \"Displacement\": 135.0, \"Horsepower\": 84.0, \"Weight_in_lbs\": 2490, \"Acceleration\": 15.7, \"Year\": \"1982-01-01T00:00:00\", \"Origin\": \"USA\"}, {\"Name\": \"buick skylark\", \"Miles_per_Gallon\": 26.6, \"Cylinders\": 4, \"Displacement\": 151.0, \"Horsepower\": 84.0, \"Weight_in_lbs\": 2635, \"Acceleration\": 16.4, \"Year\": \"1982-01-01T00:00:00\", \"Origin\": \"USA\"}, {\"Name\": \"dodge aries wagon (sw)\", \"Miles_per_Gallon\": 25.8, \"Cylinders\": 4, \"Displacement\": 156.0, \"Horsepower\": 92.0, \"Weight_in_lbs\": 2620, \"Acceleration\": 14.4, \"Year\": \"1982-01-01T00:00:00\", \"Origin\": \"USA\"}, {\"Name\": \"chevrolet citation\", \"Miles_per_Gallon\": 23.5, \"Cylinders\": 6, \"Displacement\": 173.0, \"Horsepower\": 110.0, \"Weight_in_lbs\": 2725, \"Acceleration\": 12.6, \"Year\": \"1982-01-01T00:00:00\", \"Origin\": \"USA\"}, {\"Name\": \"plymouth reliant\", \"Miles_per_Gallon\": 30.0, \"Cylinders\": 4, \"Displacement\": 135.0, \"Horsepower\": 84.0, \"Weight_in_lbs\": 2385, \"Acceleration\": 12.9, \"Year\": \"1982-01-01T00:00:00\", \"Origin\": \"USA\"}, {\"Name\": \"toyota starlet\", \"Miles_per_Gallon\": 39.1, \"Cylinders\": 4, \"Displacement\": 79.0, \"Horsepower\": 58.0, \"Weight_in_lbs\": 1755, \"Acceleration\": 16.9, \"Year\": \"1982-01-01T00:00:00\", \"Origin\": \"Japan\"}, {\"Name\": \"plymouth champ\", \"Miles_per_Gallon\": 39.0, \"Cylinders\": 4, \"Displacement\": 86.0, \"Horsepower\": 64.0, \"Weight_in_lbs\": 1875, \"Acceleration\": 16.4, \"Year\": \"1982-01-01T00:00:00\", \"Origin\": \"USA\"}, {\"Name\": \"honda civic 1300\", \"Miles_per_Gallon\": 35.1, \"Cylinders\": 4, \"Displacement\": 81.0, \"Horsepower\": 60.0, \"Weight_in_lbs\": 1760, \"Acceleration\": 16.1, \"Year\": \"1982-01-01T00:00:00\", \"Origin\": \"Japan\"}, {\"Name\": \"subaru\", \"Miles_per_Gallon\": 32.3, \"Cylinders\": 4, \"Displacement\": 97.0, \"Horsepower\": 67.0, \"Weight_in_lbs\": 2065, \"Acceleration\": 17.8, \"Year\": \"1982-01-01T00:00:00\", \"Origin\": \"Japan\"}, {\"Name\": \"datsun 210\", \"Miles_per_Gallon\": 37.0, \"Cylinders\": 4, \"Displacement\": 85.0, \"Horsepower\": 65.0, \"Weight_in_lbs\": 1975, \"Acceleration\": 19.4, \"Year\": \"1982-01-01T00:00:00\", \"Origin\": \"Japan\"}, {\"Name\": \"toyota tercel\", \"Miles_per_Gallon\": 37.7, \"Cylinders\": 4, \"Displacement\": 89.0, \"Horsepower\": 62.0, \"Weight_in_lbs\": 2050, \"Acceleration\": 17.3, \"Year\": \"1982-01-01T00:00:00\", \"Origin\": \"Japan\"}, {\"Name\": \"mazda glc 4\", \"Miles_per_Gallon\": 34.1, \"Cylinders\": 4, \"Displacement\": 91.0, \"Horsepower\": 68.0, \"Weight_in_lbs\": 1985, \"Acceleration\": 16.0, \"Year\": \"1982-01-01T00:00:00\", \"Origin\": \"Japan\"}, {\"Name\": \"plymouth horizon 4\", \"Miles_per_Gallon\": 34.7, \"Cylinders\": 4, \"Displacement\": 105.0, \"Horsepower\": 63.0, \"Weight_in_lbs\": 2215, \"Acceleration\": 14.9, \"Year\": \"1982-01-01T00:00:00\", \"Origin\": \"USA\"}, {\"Name\": \"ford escort 4w\", \"Miles_per_Gallon\": 34.4, \"Cylinders\": 4, \"Displacement\": 98.0, \"Horsepower\": 65.0, \"Weight_in_lbs\": 2045, \"Acceleration\": 16.2, \"Year\": \"1982-01-01T00:00:00\", \"Origin\": \"USA\"}, {\"Name\": \"ford escort 2h\", \"Miles_per_Gallon\": 29.9, \"Cylinders\": 4, \"Displacement\": 98.0, \"Horsepower\": 65.0, \"Weight_in_lbs\": 2380, \"Acceleration\": 20.7, \"Year\": \"1982-01-01T00:00:00\", \"Origin\": \"USA\"}, {\"Name\": \"volkswagen jetta\", \"Miles_per_Gallon\": 33.0, \"Cylinders\": 4, \"Displacement\": 105.0, \"Horsepower\": 74.0, \"Weight_in_lbs\": 2190, \"Acceleration\": 14.2, \"Year\": \"1982-01-01T00:00:00\", \"Origin\": \"Europe\"}, {\"Name\": \"renault 18i\", \"Miles_per_Gallon\": 34.5, \"Cylinders\": 4, \"Displacement\": 100.0, \"Horsepower\": null, \"Weight_in_lbs\": 2320, \"Acceleration\": 15.8, \"Year\": \"1982-01-01T00:00:00\", \"Origin\": \"Europe\"}, {\"Name\": \"honda prelude\", \"Miles_per_Gallon\": 33.7, \"Cylinders\": 4, \"Displacement\": 107.0, \"Horsepower\": 75.0, \"Weight_in_lbs\": 2210, \"Acceleration\": 14.4, \"Year\": \"1982-01-01T00:00:00\", \"Origin\": \"Japan\"}, {\"Name\": \"toyota corolla\", \"Miles_per_Gallon\": 32.4, \"Cylinders\": 4, \"Displacement\": 108.0, \"Horsepower\": 75.0, \"Weight_in_lbs\": 2350, \"Acceleration\": 16.8, \"Year\": \"1982-01-01T00:00:00\", \"Origin\": \"Japan\"}, {\"Name\": \"datsun 200sx\", \"Miles_per_Gallon\": 32.9, \"Cylinders\": 4, \"Displacement\": 119.0, \"Horsepower\": 100.0, \"Weight_in_lbs\": 2615, \"Acceleration\": 14.8, \"Year\": \"1982-01-01T00:00:00\", \"Origin\": \"Japan\"}, {\"Name\": \"mazda 626\", \"Miles_per_Gallon\": 31.6, \"Cylinders\": 4, \"Displacement\": 120.0, \"Horsepower\": 74.0, \"Weight_in_lbs\": 2635, \"Acceleration\": 18.3, \"Year\": \"1982-01-01T00:00:00\", \"Origin\": \"Japan\"}, {\"Name\": \"peugeot 505s turbo diesel\", \"Miles_per_Gallon\": 28.1, \"Cylinders\": 4, \"Displacement\": 141.0, \"Horsepower\": 80.0, \"Weight_in_lbs\": 3230, \"Acceleration\": 20.4, \"Year\": \"1982-01-01T00:00:00\", \"Origin\": \"Europe\"}, {\"Name\": \"saab 900s\", \"Miles_per_Gallon\": null, \"Cylinders\": 4, \"Displacement\": 121.0, \"Horsepower\": 110.0, \"Weight_in_lbs\": 2800, \"Acceleration\": 15.4, \"Year\": \"1982-01-01T00:00:00\", \"Origin\": \"Europe\"}, {\"Name\": \"volvo diesel\", \"Miles_per_Gallon\": 30.7, \"Cylinders\": 6, \"Displacement\": 145.0, \"Horsepower\": 76.0, \"Weight_in_lbs\": 3160, \"Acceleration\": 19.6, \"Year\": \"1982-01-01T00:00:00\", \"Origin\": \"Europe\"}, {\"Name\": \"toyota cressida\", \"Miles_per_Gallon\": 25.4, \"Cylinders\": 6, \"Displacement\": 168.0, \"Horsepower\": 116.0, \"Weight_in_lbs\": 2900, \"Acceleration\": 12.6, \"Year\": \"1982-01-01T00:00:00\", \"Origin\": \"Japan\"}, {\"Name\": \"datsun 810 maxima\", \"Miles_per_Gallon\": 24.2, \"Cylinders\": 6, \"Displacement\": 146.0, \"Horsepower\": 120.0, \"Weight_in_lbs\": 2930, \"Acceleration\": 13.8, \"Year\": \"1982-01-01T00:00:00\", \"Origin\": \"Japan\"}, {\"Name\": \"buick century\", \"Miles_per_Gallon\": 22.4, \"Cylinders\": 6, \"Displacement\": 231.0, \"Horsepower\": 110.0, \"Weight_in_lbs\": 3415, \"Acceleration\": 15.8, \"Year\": \"1982-01-01T00:00:00\", \"Origin\": \"USA\"}, {\"Name\": \"oldsmobile cutlass ls\", \"Miles_per_Gallon\": 26.6, \"Cylinders\": 8, \"Displacement\": 350.0, \"Horsepower\": 105.0, \"Weight_in_lbs\": 3725, \"Acceleration\": 19.0, \"Year\": \"1982-01-01T00:00:00\", \"Origin\": \"USA\"}, {\"Name\": \"ford granada gl\", \"Miles_per_Gallon\": 20.2, \"Cylinders\": 6, \"Displacement\": 200.0, \"Horsepower\": 88.0, \"Weight_in_lbs\": 3060, \"Acceleration\": 17.1, \"Year\": \"1982-01-01T00:00:00\", \"Origin\": \"USA\"}, {\"Name\": \"chrysler lebaron salon\", \"Miles_per_Gallon\": 17.6, \"Cylinders\": 6, \"Displacement\": 225.0, \"Horsepower\": 85.0, \"Weight_in_lbs\": 3465, \"Acceleration\": 16.6, \"Year\": \"1982-01-01T00:00:00\", \"Origin\": \"USA\"}, {\"Name\": \"chevrolet cavalier\", \"Miles_per_Gallon\": 28.0, \"Cylinders\": 4, \"Displacement\": 112.0, \"Horsepower\": 88.0, \"Weight_in_lbs\": 2605, \"Acceleration\": 19.6, \"Year\": \"1982-01-01T00:00:00\", \"Origin\": \"USA\"}, {\"Name\": \"chevrolet cavalier wagon\", \"Miles_per_Gallon\": 27.0, \"Cylinders\": 4, \"Displacement\": 112.0, \"Horsepower\": 88.0, \"Weight_in_lbs\": 2640, \"Acceleration\": 18.6, \"Year\": \"1982-01-01T00:00:00\", \"Origin\": \"USA\"}, {\"Name\": \"chevrolet cavalier 2-door\", \"Miles_per_Gallon\": 34.0, \"Cylinders\": 4, \"Displacement\": 112.0, \"Horsepower\": 88.0, \"Weight_in_lbs\": 2395, \"Acceleration\": 18.0, \"Year\": \"1982-01-01T00:00:00\", \"Origin\": \"USA\"}, {\"Name\": \"pontiac j2000 se hatchback\", \"Miles_per_Gallon\": 31.0, \"Cylinders\": 4, \"Displacement\": 112.0, \"Horsepower\": 85.0, \"Weight_in_lbs\": 2575, \"Acceleration\": 16.2, \"Year\": \"1982-01-01T00:00:00\", \"Origin\": \"USA\"}, {\"Name\": \"dodge aries se\", \"Miles_per_Gallon\": 29.0, \"Cylinders\": 4, \"Displacement\": 135.0, \"Horsepower\": 84.0, \"Weight_in_lbs\": 2525, \"Acceleration\": 16.0, \"Year\": \"1982-01-01T00:00:00\", \"Origin\": \"USA\"}, {\"Name\": \"pontiac phoenix\", \"Miles_per_Gallon\": 27.0, \"Cylinders\": 4, \"Displacement\": 151.0, \"Horsepower\": 90.0, \"Weight_in_lbs\": 2735, \"Acceleration\": 18.0, \"Year\": \"1982-01-01T00:00:00\", \"Origin\": \"USA\"}, {\"Name\": \"ford fairmont futura\", \"Miles_per_Gallon\": 24.0, \"Cylinders\": 4, \"Displacement\": 140.0, \"Horsepower\": 92.0, \"Weight_in_lbs\": 2865, \"Acceleration\": 16.4, \"Year\": \"1982-01-01T00:00:00\", \"Origin\": \"USA\"}, {\"Name\": \"amc concord dl\", \"Miles_per_Gallon\": 23.0, \"Cylinders\": 4, \"Displacement\": 151.0, \"Horsepower\": null, \"Weight_in_lbs\": 3035, \"Acceleration\": 20.5, \"Year\": \"1982-01-01T00:00:00\", \"Origin\": \"USA\"}, {\"Name\": \"volkswagen rabbit l\", \"Miles_per_Gallon\": 36.0, \"Cylinders\": 4, \"Displacement\": 105.0, \"Horsepower\": 74.0, \"Weight_in_lbs\": 1980, \"Acceleration\": 15.3, \"Year\": \"1982-01-01T00:00:00\", \"Origin\": \"Europe\"}, {\"Name\": \"mazda glc custom l\", \"Miles_per_Gallon\": 37.0, \"Cylinders\": 4, \"Displacement\": 91.0, \"Horsepower\": 68.0, \"Weight_in_lbs\": 2025, \"Acceleration\": 18.2, \"Year\": \"1982-01-01T00:00:00\", \"Origin\": \"Japan\"}, {\"Name\": \"mazda glc custom\", \"Miles_per_Gallon\": 31.0, \"Cylinders\": 4, \"Displacement\": 91.0, \"Horsepower\": 68.0, \"Weight_in_lbs\": 1970, \"Acceleration\": 17.6, \"Year\": \"1982-01-01T00:00:00\", \"Origin\": \"Japan\"}, {\"Name\": \"plymouth horizon miser\", \"Miles_per_Gallon\": 38.0, \"Cylinders\": 4, \"Displacement\": 105.0, \"Horsepower\": 63.0, \"Weight_in_lbs\": 2125, \"Acceleration\": 14.7, \"Year\": \"1982-01-01T00:00:00\", \"Origin\": \"USA\"}, {\"Name\": \"mercury lynx l\", \"Miles_per_Gallon\": 36.0, \"Cylinders\": 4, \"Displacement\": 98.0, \"Horsepower\": 70.0, \"Weight_in_lbs\": 2125, \"Acceleration\": 17.3, \"Year\": \"1982-01-01T00:00:00\", \"Origin\": \"USA\"}, {\"Name\": \"nissan stanza xe\", \"Miles_per_Gallon\": 36.0, \"Cylinders\": 4, \"Displacement\": 120.0, \"Horsepower\": 88.0, \"Weight_in_lbs\": 2160, \"Acceleration\": 14.5, \"Year\": \"1982-01-01T00:00:00\", \"Origin\": \"Japan\"}, {\"Name\": \"honda Accelerationord\", \"Miles_per_Gallon\": 36.0, \"Cylinders\": 4, \"Displacement\": 107.0, \"Horsepower\": 75.0, \"Weight_in_lbs\": 2205, \"Acceleration\": 14.5, \"Year\": \"1982-01-01T00:00:00\", \"Origin\": \"Japan\"}, {\"Name\": \"toyota corolla\", \"Miles_per_Gallon\": 34.0, \"Cylinders\": 4, \"Displacement\": 108.0, \"Horsepower\": 70.0, \"Weight_in_lbs\": 2245, \"Acceleration\": 16.9, \"Year\": \"1982-01-01T00:00:00\", \"Origin\": \"Japan\"}, {\"Name\": \"honda civic\", \"Miles_per_Gallon\": 38.0, \"Cylinders\": 4, \"Displacement\": 91.0, \"Horsepower\": 67.0, \"Weight_in_lbs\": 1965, \"Acceleration\": 15.0, \"Year\": \"1982-01-01T00:00:00\", \"Origin\": \"Japan\"}, {\"Name\": \"honda civic (auto)\", \"Miles_per_Gallon\": 32.0, \"Cylinders\": 4, \"Displacement\": 91.0, \"Horsepower\": 67.0, \"Weight_in_lbs\": 1965, \"Acceleration\": 15.7, \"Year\": \"1982-01-01T00:00:00\", \"Origin\": \"Japan\"}, {\"Name\": \"datsun 310 gx\", \"Miles_per_Gallon\": 38.0, \"Cylinders\": 4, \"Displacement\": 91.0, \"Horsepower\": 67.0, \"Weight_in_lbs\": 1995, \"Acceleration\": 16.2, \"Year\": \"1982-01-01T00:00:00\", \"Origin\": \"Japan\"}, {\"Name\": \"buick century limited\", \"Miles_per_Gallon\": 25.0, \"Cylinders\": 6, \"Displacement\": 181.0, \"Horsepower\": 110.0, \"Weight_in_lbs\": 2945, \"Acceleration\": 16.4, \"Year\": \"1982-01-01T00:00:00\", \"Origin\": \"USA\"}, {\"Name\": \"oldsmobile cutlass ciera (diesel)\", \"Miles_per_Gallon\": 38.0, \"Cylinders\": 6, \"Displacement\": 262.0, \"Horsepower\": 85.0, \"Weight_in_lbs\": 3015, \"Acceleration\": 17.0, \"Year\": \"1982-01-01T00:00:00\", \"Origin\": \"USA\"}, {\"Name\": \"chrysler lebaron medallion\", \"Miles_per_Gallon\": 26.0, \"Cylinders\": 4, \"Displacement\": 156.0, \"Horsepower\": 92.0, \"Weight_in_lbs\": 2585, \"Acceleration\": 14.5, \"Year\": \"1982-01-01T00:00:00\", \"Origin\": \"USA\"}, {\"Name\": \"ford granada l\", \"Miles_per_Gallon\": 22.0, \"Cylinders\": 6, \"Displacement\": 232.0, \"Horsepower\": 112.0, \"Weight_in_lbs\": 2835, \"Acceleration\": 14.7, \"Year\": \"1982-01-01T00:00:00\", \"Origin\": \"USA\"}, {\"Name\": \"toyota celica gt\", \"Miles_per_Gallon\": 32.0, \"Cylinders\": 4, \"Displacement\": 144.0, \"Horsepower\": 96.0, \"Weight_in_lbs\": 2665, \"Acceleration\": 13.9, \"Year\": \"1982-01-01T00:00:00\", \"Origin\": \"Japan\"}, {\"Name\": \"dodge charger 2.2\", \"Miles_per_Gallon\": 36.0, \"Cylinders\": 4, \"Displacement\": 135.0, \"Horsepower\": 84.0, \"Weight_in_lbs\": 2370, \"Acceleration\": 13.0, \"Year\": \"1982-01-01T00:00:00\", \"Origin\": \"USA\"}, {\"Name\": \"chevrolet camaro\", \"Miles_per_Gallon\": 27.0, \"Cylinders\": 4, \"Displacement\": 151.0, \"Horsepower\": 90.0, \"Weight_in_lbs\": 2950, \"Acceleration\": 17.3, \"Year\": \"1982-01-01T00:00:00\", \"Origin\": \"USA\"}, {\"Name\": \"ford mustang gl\", \"Miles_per_Gallon\": 27.0, \"Cylinders\": 4, \"Displacement\": 140.0, \"Horsepower\": 86.0, \"Weight_in_lbs\": 2790, \"Acceleration\": 15.6, \"Year\": \"1982-01-01T00:00:00\", \"Origin\": \"USA\"}, {\"Name\": \"vw pickup\", \"Miles_per_Gallon\": 44.0, \"Cylinders\": 4, \"Displacement\": 97.0, \"Horsepower\": 52.0, \"Weight_in_lbs\": 2130, \"Acceleration\": 24.6, \"Year\": \"1982-01-01T00:00:00\", \"Origin\": \"Europe\"}, {\"Name\": \"dodge rampage\", \"Miles_per_Gallon\": 32.0, \"Cylinders\": 4, \"Displacement\": 135.0, \"Horsepower\": 84.0, \"Weight_in_lbs\": 2295, \"Acceleration\": 11.6, \"Year\": \"1982-01-01T00:00:00\", \"Origin\": \"USA\"}, {\"Name\": \"ford ranger\", \"Miles_per_Gallon\": 28.0, \"Cylinders\": 4, \"Displacement\": 120.0, \"Horsepower\": 79.0, \"Weight_in_lbs\": 2625, \"Acceleration\": 18.6, \"Year\": \"1982-01-01T00:00:00\", \"Origin\": \"USA\"}, {\"Name\": \"chevy s-10\", \"Miles_per_Gallon\": 31.0, \"Cylinders\": 4, \"Displacement\": 119.0, \"Horsepower\": 82.0, \"Weight_in_lbs\": 2720, \"Acceleration\": 19.4, \"Year\": \"1982-01-01T00:00:00\", \"Origin\": \"USA\"}]}}, {\"mode\": \"vega-lite\"});\n",
              "</script>"
            ],
            "text/plain": [
              "alt.VConcatChart(...)"
            ]
          },
          "metadata": {},
          "execution_count": 1
        }
      ]
    },
    {
      "cell_type": "markdown",
      "source": [
        "\n",
        "\n",
        "---\n",
        "\n"
      ],
      "metadata": {
        "id": "TfCBK1bncjI7"
      }
    },
    {
      "cell_type": "markdown",
      "source": [
        "# Error Debugging & Clean Code"
      ],
      "metadata": {
        "id": "suwk8-q89orL"
      }
    },
    {
      "cell_type": "code",
      "source": [
        "import pdb\n",
        "list_a = [\"a\",\"b\",\"c\"]\n",
        "\n",
        "#pdb.set_trace()\n",
        "\n",
        "for i in list_a:\n",
        "  print(i)"
      ],
      "metadata": {
        "colab": {
          "base_uri": "https://localhost:8080/"
        },
        "id": "hW1ibUTSZQWV",
        "outputId": "dbf75e58-9901-48d6-98c5-2916787b75df"
      },
      "execution_count": null,
      "outputs": [
        {
          "output_type": "stream",
          "name": "stdout",
          "text": [
            "a\n",
            "b\n",
            "c\n"
          ]
        }
      ]
    },
    {
      "cell_type": "code",
      "source": [
        "try:\n",
        "  print(x)\n",
        "except:\n",
        "  print(\"Gagal\")\n",
        "else:\n",
        "  print(\"Berhasil\")\n",
        "finally:\n",
        "  print(\"The 'try except' is finished\")"
      ],
      "metadata": {
        "colab": {
          "base_uri": "https://localhost:8080/"
        },
        "id": "XqssQ5JbepyK",
        "outputId": "d72fc29b-5315-4d5e-a0f7-a6edd99df61e"
      },
      "execution_count": null,
      "outputs": [
        {
          "output_type": "stream",
          "name": "stdout",
          "text": [
            "Gagal\n",
            "The 'try except' is finished\n"
          ]
        }
      ]
    },
    {
      "cell_type": "markdown",
      "source": [
        "Except pada python bisa dibuat bertingkat atau berkategori sesuai dg jenis eror nya sesuai dg jenis \"built-in exception\""
      ],
      "metadata": {
        "id": "z9wa7ynvwhQh"
      }
    },
    {
      "cell_type": "code",
      "source": [
        "y = 123\n",
        "\n",
        "try:\n",
        "  print(c)\n",
        "except ZeroDivisionError as e:\n",
        "  print(\"error\")\n",
        "  print(e)\n",
        "except NameError as e:\n",
        "  print(\"error\")\n",
        "  print(e)\n",
        "else:\n",
        "  print(\"berhasil\")\n",
        "finally:\n",
        "  print(\"done\")"
      ],
      "metadata": {
        "colab": {
          "base_uri": "https://localhost:8080/"
        },
        "id": "IkAuEflrweyq",
        "outputId": "2f88c787-a431-4837-baa0-96866bac7d38"
      },
      "execution_count": null,
      "outputs": [
        {
          "output_type": "stream",
          "name": "stdout",
          "text": [
            "error\n",
            "name 'c' is not defined\n",
            "done\n"
          ]
        }
      ]
    },
    {
      "cell_type": "markdown",
      "source": [
        "Pada contoh di atas print(c) adalah sebuah kesalahan yg disebabkan oleh salah nama variabel maka except yg digunakan adalah except \"NameError\" bukan except \"ZeroDivisionError\""
      ],
      "metadata": {
        "id": "fU5UExdJx6Qi"
      }
    },
    {
      "cell_type": "code",
      "source": [
        "y = 123/0\n",
        "\n",
        "try:\n",
        "  print(c)\n",
        "except Exception as e:\n",
        "  print(\"error\")\n",
        "  print(e)\n",
        "else:\n",
        "  print(\"berhasil\")\n",
        "finally:\n",
        "  print(\"done\")"
      ],
      "metadata": {
        "colab": {
          "base_uri": "https://localhost:8080/",
          "height": 211
        },
        "id": "16F6PSyTyYA1",
        "outputId": "7bd368a0-4e9a-4673-a558-37363e1b4806"
      },
      "execution_count": null,
      "outputs": [
        {
          "output_type": "error",
          "ename": "ZeroDivisionError",
          "evalue": "division by zero",
          "traceback": [
            "\u001b[0;31m---------------------------------------------------------------------------\u001b[0m",
            "\u001b[0;31mZeroDivisionError\u001b[0m                         Traceback (most recent call last)",
            "\u001b[0;32m<ipython-input-19-f49d3cd6e43c>\u001b[0m in \u001b[0;36m<cell line: 1>\u001b[0;34m()\u001b[0m\n\u001b[0;32m----> 1\u001b[0;31m \u001b[0my\u001b[0m \u001b[0;34m=\u001b[0m \u001b[0;36m123\u001b[0m\u001b[0;34m/\u001b[0m\u001b[0;36m0\u001b[0m\u001b[0;34m\u001b[0m\u001b[0;34m\u001b[0m\u001b[0m\n\u001b[0m\u001b[1;32m      2\u001b[0m \u001b[0;34m\u001b[0m\u001b[0m\n\u001b[1;32m      3\u001b[0m \u001b[0;32mtry\u001b[0m\u001b[0;34m:\u001b[0m\u001b[0;34m\u001b[0m\u001b[0;34m\u001b[0m\u001b[0m\n\u001b[1;32m      4\u001b[0m   \u001b[0mprint\u001b[0m\u001b[0;34m(\u001b[0m\u001b[0mc\u001b[0m\u001b[0;34m)\u001b[0m\u001b[0;34m\u001b[0m\u001b[0;34m\u001b[0m\u001b[0m\n\u001b[1;32m      5\u001b[0m \u001b[0;32mexcept\u001b[0m \u001b[0mException\u001b[0m \u001b[0;32mas\u001b[0m \u001b[0me\u001b[0m\u001b[0;34m:\u001b[0m\u001b[0;34m\u001b[0m\u001b[0;34m\u001b[0m\u001b[0m\n",
            "\u001b[0;31mZeroDivisionError\u001b[0m: division by zero"
          ]
        }
      ]
    },
    {
      "cell_type": "code",
      "source": [
        "# isi titik - titik di bawah ini\n",
        "...\n",
        "produk_motor = {\n",
        "    \"Suzuki Hayabusa\": \"2005\",\n",
        "    \"Ducati Monster\": \"2012\",\n",
        "    \"Honda CB1000\": \"2013\",\n",
        "}\n",
        "try:\n",
        "  for produk, tahun in produk_motor.items():\n",
        "    print(f\"Motor Sport: {produk} diproduksi pada tahun {tahun}\")\n",
        "except Exception as e:\n",
        "  print(\"error\")\n",
        "  print(e)"
      ],
      "metadata": {
        "colab": {
          "base_uri": "https://localhost:8080/"
        },
        "id": "b44htacC6JKu",
        "outputId": "5fb87de1-def5-4dd5-9390-8510c8e3c5cb"
      },
      "execution_count": null,
      "outputs": [
        {
          "output_type": "stream",
          "name": "stdout",
          "text": [
            "Motor Sport: Suzuki Hayabusa diproduksi pada tahun 2005\n",
            "Motor Sport: Ducati Monster diproduksi pada tahun 2012\n",
            "Motor Sport: Honda CB1000 diproduksi pada tahun 2013\n"
          ]
        }
      ]
    },
    {
      "cell_type": "markdown",
      "source": [],
      "metadata": {
        "id": "j93439YY8ncr"
      }
    },
    {
      "cell_type": "code",
      "source": [
        "# isi titik - titik di bawah ini\n",
        "...\n",
        "def menghitung_pajak():\n",
        "  pajak = 0.05\n",
        "  while True:\n",
        "        penghasilan = int(input(\"Masukan Penghasilan Anda : \"))\n",
        "        biaya_pajak = penghasilan * pajak\n",
        "        total_akhir = penghasilan - biaya_pajak\n",
        "        print(f\"Pajak yang harus dibayar adalah {biaya_pajak}, sehingga total akhir penghasilann adalah {total_akhir}\")\n",
        "        break"
      ],
      "metadata": {
        "id": "_vr0IiO78pjD"
      },
      "execution_count": null,
      "outputs": []
    },
    {
      "cell_type": "code",
      "source": [
        "menghitung_pajak()"
      ],
      "metadata": {
        "colab": {
          "base_uri": "https://localhost:8080/"
        },
        "id": "BwMDEH3W_lXf",
        "outputId": "2f8bcbe8-5d70-4805-9353-32b1509c7605"
      },
      "execution_count": null,
      "outputs": [
        {
          "output_type": "stream",
          "name": "stdout",
          "text": [
            "Masukan Penghasilan Anda : 45_000\n",
            "Pajak yang harus dibayar adalah 2250.0, sehingga total akhir penghasilann adalah 42750.0\n"
          ]
        }
      ]
    },
    {
      "cell_type": "markdown",
      "source": [],
      "metadata": {
        "id": "R5Z-ly0eZTQa"
      }
    },
    {
      "cell_type": "markdown",
      "source": [
        "#Branching"
      ],
      "metadata": {
        "id": "-manTWta95VE"
      }
    },
    {
      "cell_type": "markdown",
      "source": [
        "Branching pada dasarnya adalah penggunaan fungsi if, else, dll yang fungsinya untuk membuat cabang pilihan atau opsi dari kondisi khusus pada program yang kita buat.\n",
        "\n",
        "**Branching**\n",
        "Percabangan yg berfungsi untuk memberikan kontrol kategori pada program\n"
      ],
      "metadata": {
        "id": "YyJygzFd9-Mw"
      }
    },
    {
      "cell_type": "markdown",
      "source": [
        "![Screenshot 2024-06-21 062824.png](data:image/png;base64,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)"
      ],
      "metadata": {
        "id": "fcW3Qi4f9mMd"
      }
    },
    {
      "cell_type": "markdown",
      "source": [
        "sistemnya itu seperti ini:\n",
        "\n",
        "* Jika saya A maka A, Jika bukan maka saya adalah B\n",
        "\n",
        "Atau contoh lain:\n",
        "* Jika suhu saya di atas 38 derajat celcius maka saya sakit, jika di sama/di bawah maka saya tidak sakit\n",
        "\n",
        "hal di atas bisa disederhanakan dalam kode menjadi seperti di bawah ini:\n",
        "\n",
        "\n",
        "```\n",
        "if my_temp > 38:\n",
        "  print(\"Saya sakit\")\n",
        "else:\n",
        "  print(\"tidak sakit\")\n",
        "```\n",
        "\n",
        "\n"
      ],
      "metadata": {
        "id": "6cPJy5nW_AOd"
      }
    },
    {
      "cell_type": "code",
      "source": [
        "#Contoh Kasus:\n",
        "\"\"\"\n",
        "Murid punya nilai 80, jika nilai lebih dari 70 maka outputnya keluar \"lulus\"\n",
        "\"\"\"\n",
        "\n",
        "nilai = 80\n",
        "\n",
        "if nilai > 70:\n",
        "  print(\"lulus\")\n",
        "  print(f\"karena nilai murid adalah {nilai} maka ia lulus\")"
      ],
      "metadata": {
        "colab": {
          "base_uri": "https://localhost:8080/"
        },
        "id": "gozLx5-m97-U",
        "outputId": "0912f293-abb7-42f2-ec64-58deeb3091ac"
      },
      "execution_count": null,
      "outputs": [
        {
          "output_type": "stream",
          "name": "stdout",
          "text": [
            "lulus\n",
            "karena nilai murid adalah 80 maka ia lulus\n"
          ]
        }
      ]
    },
    {
      "cell_type": "code",
      "source": [
        "# contoh if/else\n",
        "\n",
        "n = int(input())\n",
        "if n % 2 == 0:\n",
        "  print(\"genap\")\n",
        "else:\n",
        "  print(\"ganjil\")"
      ],
      "metadata": {
        "colab": {
          "base_uri": "https://localhost:8080/"
        },
        "id": "KaXGUB92bx0X",
        "outputId": "42e5672e-08b8-466f-c593-583d66b89c5d"
      },
      "execution_count": null,
      "outputs": [
        {
          "output_type": "stream",
          "name": "stdout",
          "text": [
            "23\n",
            "ganjil\n"
          ]
        }
      ]
    },
    {
      "cell_type": "markdown",
      "source": [
        "elif adalah gabungan dari *else + if* dan hanya muncul jika kondisinya ada lebih dari 2 kondisi"
      ],
      "metadata": {
        "id": "2dS-OITmhU6-"
      }
    },
    {
      "cell_type": "code",
      "source": [
        "\"\"\"\n",
        "1. jika uang saya 100_000 saya makan steak\n",
        "2. jika uang saya 50_000 saya makan spaghetti\n",
        "3. jika kurang dari 50_000 saya makan nasi goreng\n",
        "\"\"\"\n",
        "\n",
        "uang = int(input())\n",
        "\n",
        "if uang >= 100_000:\n",
        "  makan =\"steak\"\n",
        "elif uang >= 50_000:\n",
        "  makan =\"spaghetti\"\n",
        "else:\n",
        "  makan =\"nasi goreng\"\n",
        "\n",
        "print(f\"uang saya hanya ada {uang}, maka saya makan {makan}\")"
      ],
      "metadata": {
        "colab": {
          "base_uri": "https://localhost:8080/"
        },
        "id": "yGNc8ticiCnt",
        "outputId": "21fcf712-0c8f-4773-892b-475b8a0da53d"
      },
      "execution_count": null,
      "outputs": [
        {
          "output_type": "stream",
          "name": "stdout",
          "text": [
            "70_000\n",
            "uang saya hanya ada 70000, maka saya makan spaghetti\n"
          ]
        }
      ]
    },
    {
      "cell_type": "code",
      "source": [
        "\"\"\"\n",
        "welcome page untuk aplikasi e-learning\n",
        "admin pada aplikasi ada 2, yaitu:\n",
        "- RayhanNaufal\n",
        "- AriefRahman\n",
        "\n",
        "selain 2 username di atas maka semuanya adalah user\n",
        "\"\"\"\n",
        "username = input()\n",
        "admin = [\"RayhanNaufal\",\"AriefRahman\"]\n",
        "\n",
        "if username in admin :\n",
        "  print(f\"Selamat datang administrator {username}\")\n",
        "else:\n",
        "  print(f\"Selamat datang {username}\")"
      ],
      "metadata": {
        "colab": {
          "base_uri": "https://localhost:8080/"
        },
        "id": "sMkUQA5PjI87",
        "outputId": "cac507a8-372a-44d3-a756-141e31bbb54b"
      },
      "execution_count": null,
      "outputs": [
        {
          "output_type": "stream",
          "name": "stdout",
          "text": [
            "AriefRahman\n",
            "Selamat datang administrator AriefRahman\n"
          ]
        }
      ]
    },
    {
      "cell_type": "code",
      "source": [
        "\"\"\"\n",
        "Menentukan jurusan kuliah berdasarkan kampus yg dipilih\n",
        "\"\"\"\n",
        "\n",
        "kampus_pilihan = input()\n",
        "\n",
        "if kampus_pilihan == \"ITB\":\n",
        "  print(\"jurusan FMIPA\")\n",
        "elif kampus_pilihan == \"UI\":\n",
        "  print(\"jurusan Statistik\")\n",
        "else:\n",
        "  print(\"mencari kampus lain\")"
      ],
      "metadata": {
        "colab": {
          "base_uri": "https://localhost:8080/"
        },
        "id": "0GwBmlfvGV3p",
        "outputId": "42f56884-81dd-499c-893d-c6a7c9fbeb5e"
      },
      "execution_count": null,
      "outputs": [
        {
          "output_type": "stream",
          "name": "stdout",
          "text": [
            "ITB\n",
            "jurusan FMIPA\n"
          ]
        }
      ]
    },
    {
      "cell_type": "code",
      "source": [
        "'''\n",
        "Aplikasi login website kampus\n",
        "'''\n",
        "\n",
        "# menentukan apakah yg login mahasiswa / karyawan\n",
        "\n",
        "user = input()\n",
        "karyawan = ['petugas','dosen']\n",
        "\n",
        "if user in karyawan:\n",
        "  print(f'Halo, Selamat datang {user}')\n",
        "elif user == 'mahasiswa':\n",
        "  print('Halo, Selamat datang Mahasiswa')\n",
        "else:\n",
        "  print('user tidak ditemukan')\n",
        "\n"
      ],
      "metadata": {
        "colab": {
          "base_uri": "https://localhost:8080/"
        },
        "id": "MUu_FB0z22fL",
        "outputId": "59facfb0-1a73-4c7e-81ba-f1fd70b2446e"
      },
      "execution_count": null,
      "outputs": [
        {
          "output_type": "stream",
          "name": "stdout",
          "text": [
            "mahasiswa\n",
            "Halo, Selamat datang Mahasiswa\n"
          ]
        }
      ]
    },
    {
      "cell_type": "markdown",
      "source": [
        "**nested branching** -- adalah kondisi dimana suatu pernyataan bercabang memiliki pernyataan cabang lagi di dalamnya\n",
        "\n",
        "* umum digunakan untuk permasalahan yang kompleks\n",
        "* nested if kurang disarankan terumtama yg telalu panjang karena rawan human error dan membuat kesulitan saat membaca kodenya"
      ],
      "metadata": {
        "id": "PKWgfo348Rt6"
      }
    },
    {
      "cell_type": "code",
      "source": [
        "'''\n",
        "Latihan diagnosa pasien dari seorang dokter\n",
        "'''\n",
        "\n",
        "# input\n",
        "ya = True\n",
        "tidak = False\n",
        "\n",
        "print('apakah anda sakit flu')\n",
        "flu = input()\n",
        "\n",
        "if flu == 'ya':\n",
        "  print('apakah anda sakit tenggorokan')\n",
        "  tenggorokan = input()\n",
        "  if tenggorokan == 'ya':\n",
        "    print('apakah anda mual')\n",
        "    mual = input()\n",
        "    if mual == 'ya':\n",
        "      print('pasien sakit tonsilitas')\n",
        "    else:\n",
        "      print('pasien sakit radanng tenggorokan')\n",
        "  else:\n",
        "    print('pasien sakit flu biasa')\n",
        "else:\n",
        "  print('pasien tidak sakit')"
      ],
      "metadata": {
        "colab": {
          "base_uri": "https://localhost:8080/"
        },
        "id": "g97ct2lG80q4",
        "outputId": "713f6f09-2e2a-4cb8-b007-308db9a826c0"
      },
      "execution_count": null,
      "outputs": [
        {
          "output_type": "stream",
          "name": "stdout",
          "text": [
            "apakah anda sakit flu\n",
            "ya\n",
            "apakah anda sakit tenggorokan\n",
            "tidak\n",
            "pasien sakit flu biasa\n"
          ]
        }
      ]
    },
    {
      "cell_type": "markdown",
      "source": [],
      "metadata": {
        "id": "2MCZh99eAdrE"
      }
    },
    {
      "cell_type": "markdown",
      "source": [
        "#Composite Data Structure\n",
        "\n",
        "Tipe data di python terbagi atas 2 hal, yaitu primitive dan composite. Primitive adalah tipe data paling dasar yg ada di semua dasar data pemrograman. Kita mengenalnya dengan karakter seperti string, interger, float, dan sebagainya.\n",
        "\n",
        "Tapi tipe data primitive ini tidak dapat mengakomodasi kebutuhan kita akan struktur data yg kompleks sehingga kita perlu belajar composite data struktur.\n",
        "\n",
        "**Composite Data Structure** adalah sekumpulan data primitive, boleh dari 1 jenis yg sama atau campuran dari berbagai tipe data. Contohnya adalah list, tuple, set, dictionary\n",
        "\n"
      ],
      "metadata": {
        "id": "xXwZ2v1axC-i"
      }
    },
    {
      "cell_type": "markdown",
      "source": [
        "#List\n",
        "\n",
        "caranya adalah dengan menggunakan tanda kurung siku []\n",
        "dipisahkan oleh koma \",\"\n",
        "untuk data berupa string maka tetap menggunakan tanda kutip \"\"\n",
        "\n",
        "Variabel dalam python juga bisa menggunakan list sebaagi isinya.\n",
        "\n"
      ],
      "metadata": {
        "id": "1z4LeL-0tT5i"
      }
    },
    {
      "cell_type": "code",
      "source": [
        "'''\n",
        "Cara membuat list\n",
        "'''\n",
        "[1,2,3,4]\n",
        "[\"saya\",\"kamu\",\"dia\"]\n",
        "\n",
        "'''\n",
        "caranya adalah dengan menggunakan tanda kurung siku []\n",
        "dipisahkan oleh koma \",\"\n",
        "untuk data berupa string maka tetap menggunakan tanda kutip \"\"\n",
        "\n",
        "Variabel dalam python juga bisa menggunakan list sebaagi isinya.\n",
        "'''\n",
        "\n",
        "angka = [1,2,3,4]\n",
        "print(angka)\n",
        "\n",
        "nama = [\"fariz\",\n",
        "        \"kiki\",\n",
        "        \"budi\"]\n",
        "print(nama)\n",
        "print(type(nama))"
      ],
      "metadata": {
        "colab": {
          "base_uri": "https://localhost:8080/"
        },
        "id": "jHPzi_bhebG0",
        "outputId": "f873ff77-fa4d-4f8b-9985-c4a4379d11da"
      },
      "execution_count": null,
      "outputs": [
        {
          "output_type": "stream",
          "name": "stdout",
          "text": [
            "[1, 2, 3, 4]\n",
            "['fariz', 'kiki', 'budi']\n",
            "<class 'list'>\n"
          ]
        }
      ]
    },
    {
      "cell_type": "markdown",
      "source": [
        "Element adalah nilai atau data yang ada di dalam list.\n",
        "* list tidak berisi elemen apapun\n",
        "* cara membuatnya dg menggunakan **[ ]**\n",
        "* atau bisa juga menggunakan printah **list( )**\n",
        "\n",
        "list bisa disusun dg data yg seragam (homogen) dan juga data yg beragam (heterogen)\n",
        "\n",
        "Contoh:\n",
        "\n",
        "[27,'pria',50_000]\n",
        "\n",
        "Bahkan list juga bisa menyimpan list yg lain\n",
        "\n"
      ],
      "metadata": {
        "id": "p7o5EuMvtrSW"
      }
    },
    {
      "cell_type": "code",
      "source": [
        "ini_list = ['Kucing',[7,8,9],['pria',27]]\n",
        "print(ini_list)"
      ],
      "metadata": {
        "colab": {
          "base_uri": "https://localhost:8080/"
        },
        "id": "WhtLuoQONFe2",
        "outputId": "3ed0d6c0-4275-4ecb-dab1-796bf5789aec"
      },
      "execution_count": null,
      "outputs": [
        {
          "output_type": "stream",
          "name": "stdout",
          "text": [
            "['Kucing', [7, 8, 9], ['pria', 27]]\n"
          ]
        }
      ]
    },
    {
      "cell_type": "markdown",
      "source": [
        "List mengenal **indexing**\n",
        "Ingat, indeks pada python dimulai dari 0\n",
        "\n",
        "Contoh:\n",
        "\n",
        "urutan kata: saya suka makan ikan\n",
        "indeksnya adalah : saya = 0 , suka = 1 , makan = 2 , ikan = 3\n",
        "\n",
        "Indeks juga mengenal **slicing**\n",
        "caranya adalah menggunakan formula berikut:\n",
        "\n",
        "\n",
        "```\n",
        "NAMA_LIST[start:stop]\n",
        "```\n",
        "start = indeks mulai\n",
        "stop = indeks akhir - 1\n"
      ],
      "metadata": {
        "id": "ePX8DBXrNa-N"
      }
    },
    {
      "cell_type": "code",
      "source": [
        "contoh_list = ['saya','suka','makan','ikan']\n",
        "print('ini adalah contoh index')\n",
        "print(contoh_list[0])\n",
        "print(contoh_list[1])\n",
        "print(contoh_list[2])\n",
        "print(contoh_list[3])\n",
        "\n",
        "print(f'indeks ke-0 adalah {contoh_list[0]}')\n",
        "print(f'indeks ke-1 adalah {contoh_list[1]}')\n",
        "print(f'indeks ke-2 adalah {contoh_list[2]}')\n",
        "print(f'indeks ke-3 adalah {contoh_list[3]}')\n",
        "\n",
        "print('ini adalah contoh slicing')\n",
        "print(contoh_list[1:3])\n",
        "\n",
        "print('ini contoh mutable list alias cara mengubah isi list')\n",
        "contoh_list[1] = 'tidak suka'\n",
        "print(contoh_list)\n",
        "\n",
        "print(contoh_list[1:])\n",
        "print(contoh_list[:4])\n",
        "print(contoh_list[-1])"
      ],
      "metadata": {
        "colab": {
          "base_uri": "https://localhost:8080/"
        },
        "id": "vOeJI8_kOQgn",
        "outputId": "5a6c1f3a-8846-4b2f-d1e4-8c226e94c411"
      },
      "execution_count": null,
      "outputs": [
        {
          "output_type": "stream",
          "name": "stdout",
          "text": [
            "ini adalah contoh index\n",
            "saya\n",
            "suka\n",
            "makan\n",
            "ikan\n",
            "indeks ke-0 adalah saya\n",
            "indeks ke-1 adalah suka\n",
            "indeks ke-2 adalah makan\n",
            "indeks ke-3 adalah ikan\n",
            "ini adalah contoh slicing\n",
            "['suka', 'makan']\n",
            "ini contoh mutable list alias cara mengubah isi list\n",
            "['saya', 'tidak suka', 'makan', 'ikan']\n",
            "['tidak suka', 'makan', 'ikan']\n",
            "['saya', 'tidak suka', 'makan', 'ikan']\n",
            "ikan\n"
          ]
        }
      ]
    },
    {
      "cell_type": "markdown",
      "source": [
        "List juga bisa melakukan operasi matematika"
      ],
      "metadata": {
        "id": "ENOYreP2QF4I"
      }
    },
    {
      "cell_type": "code",
      "source": [
        "list_1 = [1,2,3,4]\n",
        "list_2 = [5,6,7,8]\n",
        "\n",
        "print(list_1 + list_2)\n",
        "print(list_1 * 2)\n",
        "print(list_1[1] *2)"
      ],
      "metadata": {
        "id": "EmQ-DdYMQEgB"
      },
      "execution_count": null,
      "outputs": []
    },
    {
      "cell_type": "markdown",
      "source": [
        "ada beberapa perintah dan metode yg biasa digunakan untuk mengolah list, yaitu:\n",
        "\n",
        "  \n",
        "misal list_1 = [1,2,3,4]\n",
        "* untuk mengetahui panjang list:\n",
        "```\n",
        "len()\n",
        "len(list_1)\n",
        "print(len(list_1))\n",
        "#hasilnya adalah 4\n",
        "```\n",
        "\n",
        "* memasukan element baru dalam list\n",
        "```\n",
        "NAMA_LIST.append(value_baru)\n",
        "list_1 = list_1.append(6)\n",
        "print(list_1)\n",
        "#hasilnya = [1,2,3,4,6]\n",
        "```\n",
        "\n",
        "* memasukan element baru ke dalam list\n",
        "```\n",
        "NAMA_LIST.insert(index,value)\n",
        "list_1.insert(1,\"apa ya\")\n",
        "print(list_1)\n",
        "# hasilnya = [1,\"apa ya\".2.3.4]\n",
        "```\n",
        "\n",
        "* untuk mengecek apakah item yang kita cari ada dalam list atau tidak\n",
        "```\n",
        "# in\n",
        "# contoh\n",
        "3 in list_1\n",
        "# hasilnya TRUE\n",
        "```\n",
        "\n",
        "* mencari index element di dalam list\n",
        "f(x) untuk mengetahui nomor index dari element yg kita cari\n",
        "```\n",
        "# rumusnya\n",
        "NAMA_LIST.index('kata kunci yg dicari (bisa str/int dll')\n",
        "# index(value)\n",
        "list_2.index('string_3')\n",
        "```\n",
        "\n",
        "* menghitung berapa kali muncul kata yg kita cari dalam sebuah list\n",
        "```\n",
        "# rumusnya\n",
        "NAMA_LIST.count(int/str yg kita ingin tahu jumlah kemunculannya)\n",
        "```\n",
        "```\n",
        "list_1.count(4)\n",
        "#hasilnya = 1\n",
        "```\n",
        "\n",
        "* Mengeluarkan/menghapus element dari index\n",
        "```\n",
        "#rumusnya\n",
        "NAMA_LIST.remove(str/int yg mau dihapus)\n",
        "```\n",
        "\n",
        "* mengeluarkan atau menghapus element dari suatu index\n",
        "```\n",
        "# rumusnya\n",
        "NAMA_LIST.pop(index yg mau dihapus)\n",
        "```"
      ],
      "metadata": {
        "id": "4iHJlc5YQoJZ"
      }
    },
    {
      "cell_type": "code",
      "source": [
        "#misal\n",
        "list_1 = [1,2,3,4]\n",
        "list_2 = ['aku','kamu','mereka']"
      ],
      "metadata": {
        "id": "dU-nQ4ms6hT_"
      },
      "execution_count": null,
      "outputs": []
    },
    {
      "cell_type": "code",
      "source": [
        "#hitung panjang list\n",
        "len(list_1)\n",
        "print(len(list_1))\n",
        "print(len(list_2))"
      ],
      "metadata": {
        "colab": {
          "base_uri": "https://localhost:8080/"
        },
        "id": "kZ5UMo4h6lO4",
        "outputId": "c072ce0e-d8d7-47eb-f857-c6fdf23421e3"
      },
      "execution_count": null,
      "outputs": [
        {
          "output_type": "stream",
          "name": "stdout",
          "text": [
            "4\n",
            "3\n"
          ]
        }
      ]
    },
    {
      "cell_type": "code",
      "source": [
        "#memasukan element baru pada list\n",
        "list_2.append('siapa')\n",
        "print(list_2)\n",
        "\n",
        "list_1.append(12)\n",
        "print(list_1)"
      ],
      "metadata": {
        "colab": {
          "base_uri": "https://localhost:8080/"
        },
        "id": "q0qjs6uV6ooq",
        "outputId": "aeea053e-a631-44b4-93c4-e492bec843a9"
      },
      "execution_count": null,
      "outputs": [
        {
          "output_type": "stream",
          "name": "stdout",
          "text": [
            "['aku', 'dia', 'dia', 'kamu', 'siapa']\n",
            "[44, 1, 2, 3, 4, 12, 44, 12]\n"
          ]
        }
      ]
    },
    {
      "cell_type": "code",
      "source": [
        "#memasukan element baru sesuai index\n",
        "list_2.insert(1,'dia')\n",
        "print(list_2)\n",
        "\n",
        "list_1.insert(0,44)\n",
        "print(list_1)"
      ],
      "metadata": {
        "colab": {
          "base_uri": "https://localhost:8080/"
        },
        "id": "RPrO_g0i494C",
        "outputId": "709778aa-b5a8-48be-c3e5-b6f82a66672b"
      },
      "execution_count": null,
      "outputs": [
        {
          "output_type": "stream",
          "name": "stdout",
          "text": [
            "['aku', 'dia', 'dia', 'dia', 'kamu', 'siapa']\n",
            "[44, 44, 1, 2, 3, 4, 12, 44, 12]\n"
          ]
        }
      ]
    },
    {
      "cell_type": "code",
      "source": [
        "'dia' in list_2"
      ],
      "metadata": {
        "colab": {
          "base_uri": "https://localhost:8080/"
        },
        "id": "-UTzv3XJ8TZ6",
        "outputId": "3a38b55b-0522-45d2-aaba-8b7914d99e57"
      },
      "execution_count": null,
      "outputs": [
        {
          "output_type": "execute_result",
          "data": {
            "text/plain": [
              "True"
            ]
          },
          "metadata": {},
          "execution_count": 25
        }
      ]
    },
    {
      "cell_type": "code",
      "source": [
        "44 in list_1"
      ],
      "metadata": {
        "id": "04t3Hw5T8c5M",
        "outputId": "dc0591e0-524e-4cb7-a9a3-83107f6f85d4",
        "colab": {
          "base_uri": "https://localhost:8080/"
        }
      },
      "execution_count": null,
      "outputs": [
        {
          "output_type": "execute_result",
          "data": {
            "text/plain": [
              "True"
            ]
          },
          "metadata": {},
          "execution_count": 26
        }
      ]
    },
    {
      "cell_type": "code",
      "source": [
        "list_2.index('aku')"
      ],
      "metadata": {
        "colab": {
          "base_uri": "https://localhost:8080/"
        },
        "id": "pnH-3QVhCrVp",
        "outputId": "8846d759-253f-4e9c-a5df-1e42517da26c"
      },
      "execution_count": null,
      "outputs": [
        {
          "output_type": "execute_result",
          "data": {
            "text/plain": [
              "0"
            ]
          },
          "metadata": {},
          "execution_count": 27
        }
      ]
    },
    {
      "cell_type": "code",
      "source": [
        "list_1.append(44)\n",
        "list_1.count(44)"
      ],
      "metadata": {
        "colab": {
          "base_uri": "https://localhost:8080/"
        },
        "id": "eFN9HZZvDSHu",
        "outputId": "0af73c87-d487-416b-f66e-fe2752887c16"
      },
      "execution_count": null,
      "outputs": [
        {
          "output_type": "execute_result",
          "data": {
            "text/plain": [
              "2"
            ]
          },
          "metadata": {},
          "execution_count": 45
        }
      ]
    },
    {
      "cell_type": "code",
      "source": [
        "list_1"
      ],
      "metadata": {
        "colab": {
          "base_uri": "https://localhost:8080/"
        },
        "id": "ye9jqV5_G1Ps",
        "outputId": "c0259f56-015f-4bba-f1b0-877ffbe9987e"
      },
      "execution_count": null,
      "outputs": [
        {
          "output_type": "execute_result",
          "data": {
            "text/plain": [
              "[1, 2, 3, 4, 12, 44, 44]"
            ]
          },
          "metadata": {},
          "execution_count": 46
        }
      ]
    },
    {
      "cell_type": "code",
      "source": [
        "list_1.remove(44)\n",
        "list_1"
      ],
      "metadata": {
        "colab": {
          "base_uri": "https://localhost:8080/"
        },
        "id": "Bwq8eqPZG62c",
        "outputId": "a5562643-2740-428f-b549-ba045f6f283d"
      },
      "execution_count": null,
      "outputs": [
        {
          "output_type": "execute_result",
          "data": {
            "text/plain": [
              "[1, 2, 3, 4, 12, 44]"
            ]
          },
          "metadata": {},
          "execution_count": 47
        }
      ]
    },
    {
      "cell_type": "code",
      "source": [
        "list_2.pop(2)\n",
        "list_2"
      ],
      "metadata": {
        "colab": {
          "base_uri": "https://localhost:8080/"
        },
        "id": "uPto6mhEN1OG",
        "outputId": "8b0e325b-b7af-44bf-eb8e-86f967ca325a"
      },
      "execution_count": null,
      "outputs": [
        {
          "output_type": "execute_result",
          "data": {
            "text/plain": [
              "['aku', 'dia', 'dia', 'kamu', 'siapa']"
            ]
          },
          "metadata": {},
          "execution_count": 53
        }
      ]
    },
    {
      "cell_type": "markdown",
      "source": [
        "Exersice"
      ],
      "metadata": {
        "id": "I6e7UIJ0OIh_"
      }
    },
    {
      "cell_type": "code",
      "source": [
        "karyawan = ['Joko',\n",
        "            'Alex',\n",
        "            'Chandra',\n",
        "            'Hartono',\n",
        "            'Samsul']\n",
        "karyawan"
      ],
      "metadata": {
        "colab": {
          "base_uri": "https://localhost:8080/"
        },
        "id": "S1DMefjDOLLI",
        "outputId": "84b1500d-956e-4eae-d6d4-1257dd0611bd"
      },
      "execution_count": null,
      "outputs": [
        {
          "output_type": "execute_result",
          "data": {
            "text/plain": [
              "['Joko', 'Alex', 'Chandra', 'Hartono', 'Samsul']"
            ]
          },
          "metadata": {},
          "execution_count": 56
        }
      ]
    },
    {
      "cell_type": "code",
      "source": [
        "# Joko dan Alex resign\n",
        "karyawan.remove(\"Joko\")\n",
        "karyawan.remove(\"Alex\")\n",
        "karyawan"
      ],
      "metadata": {
        "colab": {
          "base_uri": "https://localhost:8080/"
        },
        "id": "_mtvXIwoOhOn",
        "outputId": "51ebea30-245d-441c-f9a3-3fc751e545fa"
      },
      "execution_count": null,
      "outputs": [
        {
          "output_type": "execute_result",
          "data": {
            "text/plain": [
              "['Chandra', 'Hartono', 'Samsul']"
            ]
          },
          "metadata": {},
          "execution_count": 58
        }
      ]
    },
    {
      "cell_type": "code",
      "source": [
        "# kemudian perusahaan merekrut 2 orang, yaitu Agus dan Toni\n",
        "\n",
        "karyawan.append(\"Agus\")\n",
        "karyawan.append(\"Toni\")\n",
        "karyawan"
      ],
      "metadata": {
        "colab": {
          "base_uri": "https://localhost:8080/"
        },
        "id": "F7DcwW0_O0jE",
        "outputId": "7d5c7023-b5de-45c0-dc97-53f3f1abc269"
      },
      "execution_count": null,
      "outputs": [
        {
          "output_type": "execute_result",
          "data": {
            "text/plain": [
              "['Chandra', 'Hartono', 'Samsul', 'Agus', 'Toni']"
            ]
          },
          "metadata": {},
          "execution_count": 59
        }
      ]
    },
    {
      "cell_type": "markdown",
      "source": [
        "#Dictionary\n",
        "\n",
        "sama seperti list, akan tetapi dictionary mengenal keys.\n",
        "Dictionary merupakan **pemetaan antara sebuah index yg disebut dg keys dan sebuah value**. Hubungan ini disebut ***key-value pair* ***\n",
        "\n",
        "* Lambang dictionary pada python adalah \"{ }\"\n",
        "* Key dan value pada setiap element dipisahkan oleh tanda titik dua \":\"\n",
        "* Pemisah antar element menggunakan tanda koma \",\"\n",
        "\n",
        "```\n",
        "# Contoh\n",
        "NAMA_DICT = {'Nama': 'Bob',\n",
        "              'Umur':25,\n",
        "              'Profesi':'Dev',\n",
        "              'Kota':'Bekasi'}\n",
        "```\n",
        "\n"
      ],
      "metadata": {
        "id": "plVIPdDiPGcx"
      }
    },
    {
      "cell_type": "code",
      "source": [
        "NAMA_DICT = {'Nama': 'Bob',\n",
        "              'Umur':25,\n",
        "              'Profesi':'Dev',\n",
        "              'Kota':'Bekasi'}\n",
        "NAMA_DICT"
      ],
      "metadata": {
        "id": "2-bPu_lfQodN",
        "outputId": "86c86d4f-4856-4e41-980c-4f2fdac7f99e",
        "colab": {
          "base_uri": "https://localhost:8080/"
        }
      },
      "execution_count": null,
      "outputs": [
        {
          "output_type": "execute_result",
          "data": {
            "text/plain": [
              "{'Nama': 'Bob', 'Umur': 25, 'Profesi': 'Dev', 'Kota': 'Bekasi'}"
            ]
          },
          "metadata": {},
          "execution_count": 2
        }
      ]
    },
    {
      "cell_type": "code",
      "source": [
        "type(NAMA_DICT)"
      ],
      "metadata": {
        "colab": {
          "base_uri": "https://localhost:8080/"
        },
        "id": "9ge4IdvBt5Q9",
        "outputId": "d7c3a098-45ff-4fc7-8b05-0fc34daf30ef"
      },
      "execution_count": null,
      "outputs": [
        {
          "output_type": "execute_result",
          "data": {
            "text/plain": [
              "dict"
            ]
          },
          "metadata": {},
          "execution_count": 3
        }
      ]
    },
    {
      "cell_type": "code",
      "source": [
        "print(type(NAMA_DICT))"
      ],
      "metadata": {
        "colab": {
          "base_uri": "https://localhost:8080/"
        },
        "id": "1pNkY62rux0v",
        "outputId": "5685ba8f-0525-43c2-90b8-d5d8b1364cf9"
      },
      "execution_count": null,
      "outputs": [
        {
          "output_type": "stream",
          "name": "stdout",
          "text": [
            "<class 'dict'>\n"
          ]
        }
      ]
    },
    {
      "cell_type": "markdown",
      "source": [
        "Dictionary punya sifat yang sama dengan list, yaitu:\n",
        "\n",
        "* sama-sama bisa dibaca sebagai variabel\n",
        "* bisa menampung berbagai macam tipe data\n",
        "\n"
      ],
      "metadata": {
        "id": "0Hk1gbWGu21g"
      }
    },
    {
      "cell_type": "code",
      "source": [
        "# bisa menampung berbagai macam tipe data\n",
        "mix_dict = {1:2,\n",
        "            'kota':'Surabaya',\n",
        "            'matriks':[1,2,3]}\n",
        "mix_dict"
      ],
      "metadata": {
        "colab": {
          "base_uri": "https://localhost:8080/"
        },
        "id": "UZIvGuIuvK5B",
        "outputId": "f9310498-a6e1-4bc9-d992-3e8c738a4863"
      },
      "execution_count": null,
      "outputs": [
        {
          "output_type": "execute_result",
          "data": {
            "text/plain": [
              "{1: 2, 'kota': 'Surabaya', 'matriks': [1, 2, 3]}"
            ]
          },
          "metadata": {},
          "execution_count": 5
        }
      ]
    },
    {
      "cell_type": "code",
      "source": [
        "# jika key mempunyai duplikat, maka yg akan dikeluarkan adalah element key terakhir\n",
        "# sama seperti cara kerja python\n",
        "\n",
        "hewan_dict = {1:'ayam',2:'ayam',1:'ayam'}\n",
        "hewan_dict"
      ],
      "metadata": {
        "colab": {
          "base_uri": "https://localhost:8080/"
        },
        "id": "_juUZShCv1CO",
        "outputId": "9ab980d9-a7cf-445f-cd6a-df3f16ba5f43"
      },
      "execution_count": null,
      "outputs": [
        {
          "output_type": "execute_result",
          "data": {
            "text/plain": [
              "{1: 'ayam', 2: 'ayam'}"
            ]
          },
          "metadata": {},
          "execution_count": 2
        }
      ]
    },
    {
      "cell_type": "markdown",
      "source": [
        "Dictionary pada python bisa dibuat kosong, atau istilahnya **empty dictionary**\n",
        "\n",
        "rumusnya adalah\n",
        "```\n",
        "nama_dict = {}\n",
        "```\n",
        "Key pada dictionary bisa bekerja sebagaimana index pada list\n",
        "\n",
        "```\n",
        "nama_dict[key]\n",
        "```"
      ],
      "metadata": {
        "id": "8rjsqcEAwMpr"
      }
    },
    {
      "cell_type": "code",
      "source": [
        "print(hewan_dict[2])\n",
        "print(mix_dict['kota'])"
      ],
      "metadata": {
        "colab": {
          "base_uri": "https://localhost:8080/"
        },
        "id": "k1UNio0xwtiI",
        "outputId": "49e1e121-0377-4df2-81e4-fb8bec218f1b"
      },
      "execution_count": null,
      "outputs": [
        {
          "output_type": "stream",
          "name": "stdout",
          "text": [
            "ayam\n",
            "Surabaya\n"
          ]
        }
      ]
    },
    {
      "cell_type": "markdown",
      "source": [
        "Dictionary pada python memiliki 2 sifat, yaitu *mutable* dan *immutable* alias bisa diubah dan tidak bisa diubah.\n",
        "\n",
        "```\n",
        "Dictionary = {key:value}\n",
        "```\n",
        "pada umumnya terdiri atas key dan value yang ditulis seperti notasi di atas.\n",
        "\n",
        "* Key pada dictionary sifatnya *immutable*\n",
        "* value pada dictionary sifatnya *mutable*\n",
        "\n",
        "Rumusnya:\n",
        "```\n",
        "NAMA_DICT[key] = value_baru\n",
        "```"
      ],
      "metadata": {
        "id": "N-Cj02uXkM8c"
      }
    },
    {
      "cell_type": "code",
      "source": [
        "print(hewan_dict)\n",
        "hewan_dict[1]='buaya'\n",
        "hewan_dict"
      ],
      "metadata": {
        "colab": {
          "base_uri": "https://localhost:8080/"
        },
        "id": "tZldp8upsGGg",
        "outputId": "173fcf4e-8b29-4984-e9f4-3415fac63e57"
      },
      "execution_count": null,
      "outputs": [
        {
          "output_type": "stream",
          "name": "stdout",
          "text": [
            "{1: 'ayam', 2: 'ayam'}\n"
          ]
        },
        {
          "output_type": "execute_result",
          "data": {
            "text/plain": [
              "{1: 'buaya', 2: 'ayam'}"
            ]
          },
          "metadata": {},
          "execution_count": 4
        }
      ]
    },
    {
      "cell_type": "markdown",
      "source": [
        "###Dictionary Methods\n",
        "\n",
        "* Mengetahui panjang\n",
        "```\n",
        "len(nama_dict)\n",
        "```\n",
        "\n",
        "* mendapatkan element menggunakan key\n",
        "```\n",
        "NAMA_DICT.get(nama_key)\n",
        "```\n",
        "\n",
        "* mendapatkan semua key\n",
        "```\n",
        "NAMA_DICT.keys()\n",
        "```\n",
        "\n",
        "* mendapatkan semua value\n",
        "```\n",
        "NAMA_DICT.values()\n",
        "```\n",
        "\n",
        "* mengeluarkan/menghapus key dan value\n",
        "```\n",
        "NAMA_DICT.pop(nama_key)\n",
        "```\n",
        "\n",
        "* menambah/menggabungkan data\n",
        "```\n",
        "NAMA_DICT.update(nama_dict_yg_akan_digabung)\n",
        "```\n",
        "\n",
        "* membuat duplikasi\n",
        "```\n",
        "NAMA_DICT.copy()\n",
        "```\n",
        "\n",
        "* menghapus semua key dan value\n",
        "```\n",
        "NAMA_DICT.clear()\n",
        "```\n"
      ],
      "metadata": {
        "id": "pWM5rabLstvS"
      }
    },
    {
      "cell_type": "code",
      "source": [
        "#Latihan dan pembuktian dictionary methods\n",
        "warna_buah = {'pisang':'kuning',\n",
        "              'apel':['hijau','merah'],\n",
        "              'naga':'ungu'}\n",
        "\n",
        "#mengetahui panjang\n",
        "len(warna_buah)\n",
        "\n",
        "#mendapatkan element menggunakan key\n",
        "warna_buah.get('apel')\n",
        "\n",
        "#mendapatkan semua key\n",
        "warna_buah.keys()\n",
        "\n",
        "#menghapus/mengeluarkan key & value\n",
        "warna_buah.pop('apel')\n",
        "\n",
        "#menambah/menggabungkan dict lain\n",
        "warna_lampu = {'jalan':'hijau',\n",
        "               'hati-hati':'kuning',\n",
        "               'stop':'merah'}\n",
        "\n",
        "warna_buah.update(warna_lampu)\n",
        "\n",
        "#membuat duplikasi/kopian dari dict\n",
        "warna_buah_baru = warna_buah.copy()\n",
        "\n",
        "\n",
        "#menghapus semua key dan value\n",
        "warna_buah.clear()\n",
        "\n",
        "warna_buah_baru"
      ],
      "metadata": {
        "colab": {
          "base_uri": "https://localhost:8080/"
        },
        "id": "TalOcLcmtC81",
        "outputId": "fc3c86a4-a925-4562-b426-e1ef42977a4f"
      },
      "execution_count": null,
      "outputs": [
        {
          "output_type": "execute_result",
          "data": {
            "text/plain": [
              "{'pisang': 'kuning',\n",
              " 'naga': 'ungu',\n",
              " 'jalan': 'hijau',\n",
              " 'hati-hati': 'kuning',\n",
              " 'stop': 'merah'}"
            ]
          },
          "metadata": {},
          "execution_count": 22
        }
      ]
    },
    {
      "cell_type": "code",
      "source": [
        "# mini exercise\n",
        "\n",
        "metrics_accuracy = {'linear reg':85,\n",
        "                    'SVM':88,\n",
        "                    'Decision Tree':90,\n",
        "                    'Random Forest':95}\n",
        "print(f\"Isi metrics tersebut adalah {metrics_accuracy.keys()}\")\n",
        "print(f\"Nilai model ML untuk Linear Regression: {metrics_accuracy['linear reg']}\")\n",
        "print(f\"Nilai model ML untuk SVM: {metrics_accuracy['SVM']}\")\n",
        "print(f\"Nilai model ML untuk Decision Tree: {metrics_accuracy['Decision Tree']}\")\n",
        "print(f\"Nilai model ML untuk Random Forest: {metrics_accuracy['Random Forest']}\")"
      ],
      "metadata": {
        "colab": {
          "base_uri": "https://localhost:8080/"
        },
        "id": "f4SBcEajxr-i",
        "outputId": "799b2b7d-97c1-43df-d12e-a300ff098645"
      },
      "execution_count": null,
      "outputs": [
        {
          "output_type": "stream",
          "name": "stdout",
          "text": [
            "Isi metrics tersebut adalah dict_keys(['linear reg', 'SVM', 'Decision Tree', 'Random Forest'])\n",
            "Nilai model ML untuk Linear Regression: 85\n",
            "Nilai model ML untuk SVM: 88\n",
            "Nilai model ML untuk Decision Tree: 90\n",
            "Nilai model ML untuk Random Forest: 95\n"
          ]
        }
      ]
    },
    {
      "cell_type": "markdown",
      "source": [
        "#Tuple\n",
        "\n",
        "Tuple ini sama dengan list tapi versi yg tidak dapat diubah (alias *immutable*)\n",
        "\n",
        "Rumusnya pun seperti ini:\n",
        "```\n",
        "NAMA_TUPLE = (nilai 1, nilai 2)\n",
        "```\n"
      ],
      "metadata": {
        "id": "2i9lKjBX5wb1"
      }
    },
    {
      "cell_type": "code",
      "source": [
        "nama_tuple = (1,2,3,4,5)\n",
        "print(nama_tuple)\n",
        "print(type(nama_tuple))"
      ],
      "metadata": {
        "id": "3dtY3OXF6LK8"
      },
      "execution_count": null,
      "outputs": []
    },
    {
      "cell_type": "markdown",
      "source": [
        "# GIT (VCS)\n",
        "VCS adalah *version control system* yang fungsinya adalah untuk menyimpan dan melacak perubahan dari suatu file yg kita miliki\n",
        "\n",
        "Ini mirip dengan memberikan penamaan pada file kita seperti berikut ini:\n",
        "* Versi 1\n",
        "* versi 2\n",
        "* dst\n",
        "\n",
        "nah versi 1, 2, dst adalah versi dari file kita\n",
        "dan VCS adalah layanan untuk menyimpan semua perubahan riwayat terebut sehingga memudahkan kita saat berkolaborasi dan menelusuri hasil kerja coding kita.\n",
        "\n",
        "GIT sangat berguna untuk industri IT terlebih dalam IT Project seperti:\n",
        "\n",
        "* pembuatan website\n",
        "* library\n",
        "* modul pembelajaran pemrograman\n",
        "\n",
        "### GitHub\n",
        "sebuah website untuk menyimpan server git repository\n",
        "\n"
      ],
      "metadata": {
        "id": "TiKrECZpSF7p"
      }
    },
    {
      "cell_type": "markdown",
      "source": [
        "Pacflix tugas study case pacman untuk layanan streaming\n",
        "\n",
        "https://github.com/ihdarsyd/pacflix_live1.git"
      ],
      "metadata": {
        "id": "thqXo68THZJr"
      }
    },
    {
      "cell_type": "code",
      "source": [
        "import tabulate as tbls\n",
        "from tabulate import tabulate\n",
        "\n",
        "data = [\n",
        "    [\"nama\",\"umur\",\"kota\"],\n",
        "    [\"fariz\",30,\"jakarta\"],\n",
        "    [\"kiki\",29,\"surabaya\"],\n",
        "]\n",
        "\n",
        "print(tbls.tabulate(data,headers=\"firstrow\"))"
      ],
      "metadata": {
        "colab": {
          "base_uri": "https://localhost:8080/"
        },
        "id": "54bVI4SIenbU",
        "outputId": "6848a0d6-d573-4fd3-ad3e-8d10d4fb9891"
      },
      "execution_count": null,
      "outputs": [
        {
          "output_type": "stream",
          "name": "stdout",
          "text": [
            "nama      umur  kota\n",
            "------  ------  --------\n",
            "fariz       30  jakarta\n",
            "kiki        29  surabaya\n"
          ]
        }
      ]
    }
  ]
}